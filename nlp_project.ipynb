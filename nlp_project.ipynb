{
  "metadata": {
    "kernelspec": {
      "language": "python",
      "display_name": "Python 3",
      "name": "python3"
    },
    "language_info": {
      "name": "python",
      "version": "3.10.13",
      "mimetype": "text/x-python",
      "codemirror_mode": {
        "name": "ipython",
        "version": 3
      },
      "pygments_lexer": "ipython3",
      "nbconvert_exporter": "python",
      "file_extension": ".py"
    },
    "kaggle": {
      "accelerator": "none",
      "dataSources": [
        {
          "sourceId": 2498463,
          "sourceType": "datasetVersion",
          "datasetId": 1512785
        }
      ],
      "dockerImageVersionId": 30698,
      "isInternetEnabled": false,
      "language": "python",
      "sourceType": "notebook",
      "isGpuEnabled": false
    },
    "colab": {
      "provenance": [],
      "toc_visible": true
    }
  },
  "nbformat_minor": 0,
  "nbformat": 4,
  "cells": [
    {
      "cell_type": "code",
      "source": [
        "import nltk\n",
        "from IPython.display import clear_output\n",
        "\n",
        "nltk.download('all')\n",
        "from nltk.corpus import wordnet as wn\n",
        "clear_output()"
      ],
      "metadata": {
        "id": "SHnXCjn7fn5l"
      },
      "execution_count": null,
      "outputs": []
    },
    {
      "cell_type": "code",
      "source": [
        "import warnings\n",
        "warnings.filterwarnings('ignore')\n",
        "import os, pickle, re, string\n",
        "from string import punctuation\n",
        "import pandas as pd\n",
        "import nltk\n",
        "from nltk.stem import LancasterStemmer\n",
        "from nltk.corpus import stopwords\n",
        "from nltk import pos_tag, ne_chunk\n",
        "from sklearn.feature_extraction.text import CountVectorizer\n",
        "import numpy as np\n",
        "import seaborn as sns\n",
        "import matplotlib.pyplot as plt\n",
        "from sklearn.svm import SVC\n",
        "from sklearn.model_selection import train_test_split, GridSearchCV, cross_val_score\n",
        "from sklearn.feature_extraction.text import TfidfVectorizer\n",
        "from sklearn.pipeline import make_pipeline\n",
        "from sklearn.linear_model import LogisticRegression\n",
        "from sklearn.metrics import confusion_matrix, accuracy_score, classification_report\n"
      ],
      "metadata": {
        "execution": {
          "iopub.status.busy": "2024-04-25T17:44:22.678886Z",
          "iopub.execute_input": "2024-04-25T17:44:22.680518Z",
          "iopub.status.idle": "2024-04-25T17:44:22.689995Z",
          "shell.execute_reply.started": "2024-04-25T17:44:22.680465Z",
          "shell.execute_reply": "2024-04-25T17:44:22.688697Z"
        },
        "trusted": true,
        "id": "vYX6usxSfOFV"
      },
      "execution_count": null,
      "outputs": []
    },
    {
      "cell_type": "code",
      "source": [
        "df = pd.read_csv(\"/content/processed_data.csv\")\n",
        "df"
      ],
      "metadata": {
        "execution": {
          "iopub.status.busy": "2024-04-25T17:44:25.797649Z",
          "iopub.execute_input": "2024-04-25T17:44:25.798073Z",
          "iopub.status.idle": "2024-04-25T17:44:26.522396Z",
          "shell.execute_reply.started": "2024-04-25T17:44:25.798041Z",
          "shell.execute_reply": "2024-04-25T17:44:26.521167Z"
        },
        "trusted": true,
        "colab": {
          "base_uri": "https://localhost:8080/",
          "height": 424
        },
        "id": "p8UH2VeffOFX",
        "outputId": "e8ff8de0-1c52-411a-9dec-7d048c165bb7"
      },
      "execution_count": null,
      "outputs": [
        {
          "output_type": "execute_result",
          "data": {
            "text/plain": [
              "                                                  Title  \\\n",
              "0     تيرتل تري لابز للتقنيات الحيويه تحصل علي تمويل...   \n",
              "1        تعد دراسه الجدوي لمشروعك الناشء 6 عوامل اساسيه   \n",
              "2     منح جاءزه نوبل الطب لاكتشاف مجال التهاب الكبد ...   \n",
              "3     هيءه الغذاء والدواء الامريكيه لقاح مودرنا حقق ...   \n",
              "4     حظر بروتين الجهاز المناعي يساعد علي محاربه عدو...   \n",
              "...                                                 ...   \n",
              "8394  قواعد اوروبيه تهدد بخفض 10 ايرادات شركات التكن...   \n",
              "8395  حوار خاص مهندس سعودي نباتك فكره تهدف لزراعه مل...   \n",
              "8396                 كريم تطلق خدمه اطلب اي شيء الجديده   \n",
              "8397  تقرير اممي جديد يشير الي تاثير جاءحه فيروس كور...   \n",
              "8398  فريق مشترك يتحقق اوضاع النساء والاطفال داخل قو...   \n",
              "\n",
              "                                                Content  \\\n",
              "0     جاءت جوله التمويل التمهيديه الاولي للشركه بقيا...   \n",
              "1     تعد دراسه الجدوي متطلبا اساسيا لنجاح اي مشروع ...   \n",
              "2     وقالت لجنه نوبل للمره الاولي التاريخ يمكن الان...   \n",
              "3     نشرت الوكاله وثاءق علي الانترنت اعدها موظفوها ...   \n",
              "4     دراسه حديثه قام فريق العلماء جونز هوبكنز ميديس...   \n",
              "...                                                 ...   \n",
              "8394  قالت وكاله بلومبرغ الاثنين ان كبري شركات التكن...   \n",
              "8395  بدات الفكره نعومه اظفاره عندما كان السابعه عمر...   \n",
              "8396  اعلنت منصه كريم 4 فبراير الجاري اطلاق خدمه اطل...   \n",
              "8397  وفقا لتقديرات المكتب الاممي المعني بالمخدرات و...   \n",
              "8398  تاتي الزياره كجزء تنفيذ اتفاقيه السلام المنشطه...   \n",
              "\n",
              "                                                   Link         Category  \n",
              "0     https://ryadiybusiness.com/%d8%aa%d9%8a%d8%b1%...      ريادة أعمال  \n",
              "1     https://ryadiybusiness.com/%d9%83%d9%8a%d9%81-...      ريادة أعمال  \n",
              "2     https://arabic.sputniknews.com/science/2020100...  علوم وتكنولوجيا  \n",
              "3     https://arabic.sputniknews.com/world/202012151...  علوم وتكنولوجيا  \n",
              "4     https://arabic.rt.com//technology/1161864-%D8%...  علوم وتكنولوجيا  \n",
              "...                                                 ...              ...  \n",
              "8394  https://asharq.com/ar/7vNsbHVkd9fTQhBQI70ASx-ق...  علوم وتكنولوجيا  \n",
              "8395       https://news.un.org/ar/story/2020/09/1062802             أخرى  \n",
              "8396  https://ryadiybusiness.com/%d9%83%d8%b1%d9%8a%...      ريادة أعمال  \n",
              "8397       https://news.un.org/ar/story/2020/06/1057232             أخرى  \n",
              "8398       https://news.un.org/ar/story/2019/11/1043621             أخرى  \n",
              "\n",
              "[8399 rows x 4 columns]"
            ],
            "text/html": [
              "\n",
              "  <div id=\"df-8d8b3fb6-3c86-4592-813a-802a780f5d07\" class=\"colab-df-container\">\n",
              "    <div>\n",
              "<style scoped>\n",
              "    .dataframe tbody tr th:only-of-type {\n",
              "        vertical-align: middle;\n",
              "    }\n",
              "\n",
              "    .dataframe tbody tr th {\n",
              "        vertical-align: top;\n",
              "    }\n",
              "\n",
              "    .dataframe thead th {\n",
              "        text-align: right;\n",
              "    }\n",
              "</style>\n",
              "<table border=\"1\" class=\"dataframe\">\n",
              "  <thead>\n",
              "    <tr style=\"text-align: right;\">\n",
              "      <th></th>\n",
              "      <th>Title</th>\n",
              "      <th>Content</th>\n",
              "      <th>Link</th>\n",
              "      <th>Category</th>\n",
              "    </tr>\n",
              "  </thead>\n",
              "  <tbody>\n",
              "    <tr>\n",
              "      <th>0</th>\n",
              "      <td>تيرتل تري لابز للتقنيات الحيويه تحصل علي تمويل...</td>\n",
              "      <td>جاءت جوله التمويل التمهيديه الاولي للشركه بقيا...</td>\n",
              "      <td>https://ryadiybusiness.com/%d8%aa%d9%8a%d8%b1%...</td>\n",
              "      <td>ريادة أعمال</td>\n",
              "    </tr>\n",
              "    <tr>\n",
              "      <th>1</th>\n",
              "      <td>تعد دراسه الجدوي لمشروعك الناشء 6 عوامل اساسيه</td>\n",
              "      <td>تعد دراسه الجدوي متطلبا اساسيا لنجاح اي مشروع ...</td>\n",
              "      <td>https://ryadiybusiness.com/%d9%83%d9%8a%d9%81-...</td>\n",
              "      <td>ريادة أعمال</td>\n",
              "    </tr>\n",
              "    <tr>\n",
              "      <th>2</th>\n",
              "      <td>منح جاءزه نوبل الطب لاكتشاف مجال التهاب الكبد ...</td>\n",
              "      <td>وقالت لجنه نوبل للمره الاولي التاريخ يمكن الان...</td>\n",
              "      <td>https://arabic.sputniknews.com/science/2020100...</td>\n",
              "      <td>علوم وتكنولوجيا</td>\n",
              "    </tr>\n",
              "    <tr>\n",
              "      <th>3</th>\n",
              "      <td>هيءه الغذاء والدواء الامريكيه لقاح مودرنا حقق ...</td>\n",
              "      <td>نشرت الوكاله وثاءق علي الانترنت اعدها موظفوها ...</td>\n",
              "      <td>https://arabic.sputniknews.com/world/202012151...</td>\n",
              "      <td>علوم وتكنولوجيا</td>\n",
              "    </tr>\n",
              "    <tr>\n",
              "      <th>4</th>\n",
              "      <td>حظر بروتين الجهاز المناعي يساعد علي محاربه عدو...</td>\n",
              "      <td>دراسه حديثه قام فريق العلماء جونز هوبكنز ميديس...</td>\n",
              "      <td>https://arabic.rt.com//technology/1161864-%D8%...</td>\n",
              "      <td>علوم وتكنولوجيا</td>\n",
              "    </tr>\n",
              "    <tr>\n",
              "      <th>...</th>\n",
              "      <td>...</td>\n",
              "      <td>...</td>\n",
              "      <td>...</td>\n",
              "      <td>...</td>\n",
              "    </tr>\n",
              "    <tr>\n",
              "      <th>8394</th>\n",
              "      <td>قواعد اوروبيه تهدد بخفض 10 ايرادات شركات التكن...</td>\n",
              "      <td>قالت وكاله بلومبرغ الاثنين ان كبري شركات التكن...</td>\n",
              "      <td>https://asharq.com/ar/7vNsbHVkd9fTQhBQI70ASx-ق...</td>\n",
              "      <td>علوم وتكنولوجيا</td>\n",
              "    </tr>\n",
              "    <tr>\n",
              "      <th>8395</th>\n",
              "      <td>حوار خاص مهندس سعودي نباتك فكره تهدف لزراعه مل...</td>\n",
              "      <td>بدات الفكره نعومه اظفاره عندما كان السابعه عمر...</td>\n",
              "      <td>https://news.un.org/ar/story/2020/09/1062802</td>\n",
              "      <td>أخرى</td>\n",
              "    </tr>\n",
              "    <tr>\n",
              "      <th>8396</th>\n",
              "      <td>كريم تطلق خدمه اطلب اي شيء الجديده</td>\n",
              "      <td>اعلنت منصه كريم 4 فبراير الجاري اطلاق خدمه اطل...</td>\n",
              "      <td>https://ryadiybusiness.com/%d9%83%d8%b1%d9%8a%...</td>\n",
              "      <td>ريادة أعمال</td>\n",
              "    </tr>\n",
              "    <tr>\n",
              "      <th>8397</th>\n",
              "      <td>تقرير اممي جديد يشير الي تاثير جاءحه فيروس كور...</td>\n",
              "      <td>وفقا لتقديرات المكتب الاممي المعني بالمخدرات و...</td>\n",
              "      <td>https://news.un.org/ar/story/2020/06/1057232</td>\n",
              "      <td>أخرى</td>\n",
              "    </tr>\n",
              "    <tr>\n",
              "      <th>8398</th>\n",
              "      <td>فريق مشترك يتحقق اوضاع النساء والاطفال داخل قو...</td>\n",
              "      <td>تاتي الزياره كجزء تنفيذ اتفاقيه السلام المنشطه...</td>\n",
              "      <td>https://news.un.org/ar/story/2019/11/1043621</td>\n",
              "      <td>أخرى</td>\n",
              "    </tr>\n",
              "  </tbody>\n",
              "</table>\n",
              "<p>8399 rows × 4 columns</p>\n",
              "</div>\n",
              "    <div class=\"colab-df-buttons\">\n",
              "\n",
              "  <div class=\"colab-df-container\">\n",
              "    <button class=\"colab-df-convert\" onclick=\"convertToInteractive('df-8d8b3fb6-3c86-4592-813a-802a780f5d07')\"\n",
              "            title=\"Convert this dataframe to an interactive table.\"\n",
              "            style=\"display:none;\">\n",
              "\n",
              "  <svg xmlns=\"http://www.w3.org/2000/svg\" height=\"24px\" viewBox=\"0 -960 960 960\">\n",
              "    <path d=\"M120-120v-720h720v720H120Zm60-500h600v-160H180v160Zm220 220h160v-160H400v160Zm0 220h160v-160H400v160ZM180-400h160v-160H180v160Zm440 0h160v-160H620v160ZM180-180h160v-160H180v160Zm440 0h160v-160H620v160Z\"/>\n",
              "  </svg>\n",
              "    </button>\n",
              "\n",
              "  <style>\n",
              "    .colab-df-container {\n",
              "      display:flex;\n",
              "      gap: 12px;\n",
              "    }\n",
              "\n",
              "    .colab-df-convert {\n",
              "      background-color: #E8F0FE;\n",
              "      border: none;\n",
              "      border-radius: 50%;\n",
              "      cursor: pointer;\n",
              "      display: none;\n",
              "      fill: #1967D2;\n",
              "      height: 32px;\n",
              "      padding: 0 0 0 0;\n",
              "      width: 32px;\n",
              "    }\n",
              "\n",
              "    .colab-df-convert:hover {\n",
              "      background-color: #E2EBFA;\n",
              "      box-shadow: 0px 1px 2px rgba(60, 64, 67, 0.3), 0px 1px 3px 1px rgba(60, 64, 67, 0.15);\n",
              "      fill: #174EA6;\n",
              "    }\n",
              "\n",
              "    .colab-df-buttons div {\n",
              "      margin-bottom: 4px;\n",
              "    }\n",
              "\n",
              "    [theme=dark] .colab-df-convert {\n",
              "      background-color: #3B4455;\n",
              "      fill: #D2E3FC;\n",
              "    }\n",
              "\n",
              "    [theme=dark] .colab-df-convert:hover {\n",
              "      background-color: #434B5C;\n",
              "      box-shadow: 0px 1px 3px 1px rgba(0, 0, 0, 0.15);\n",
              "      filter: drop-shadow(0px 1px 2px rgba(0, 0, 0, 0.3));\n",
              "      fill: #FFFFFF;\n",
              "    }\n",
              "  </style>\n",
              "\n",
              "    <script>\n",
              "      const buttonEl =\n",
              "        document.querySelector('#df-8d8b3fb6-3c86-4592-813a-802a780f5d07 button.colab-df-convert');\n",
              "      buttonEl.style.display =\n",
              "        google.colab.kernel.accessAllowed ? 'block' : 'none';\n",
              "\n",
              "      async function convertToInteractive(key) {\n",
              "        const element = document.querySelector('#df-8d8b3fb6-3c86-4592-813a-802a780f5d07');\n",
              "        const dataTable =\n",
              "          await google.colab.kernel.invokeFunction('convertToInteractive',\n",
              "                                                    [key], {});\n",
              "        if (!dataTable) return;\n",
              "\n",
              "        const docLinkHtml = 'Like what you see? Visit the ' +\n",
              "          '<a target=\"_blank\" href=https://colab.research.google.com/notebooks/data_table.ipynb>data table notebook</a>'\n",
              "          + ' to learn more about interactive tables.';\n",
              "        element.innerHTML = '';\n",
              "        dataTable['output_type'] = 'display_data';\n",
              "        await google.colab.output.renderOutput(dataTable, element);\n",
              "        const docLink = document.createElement('div');\n",
              "        docLink.innerHTML = docLinkHtml;\n",
              "        element.appendChild(docLink);\n",
              "      }\n",
              "    </script>\n",
              "  </div>\n",
              "\n",
              "\n",
              "<div id=\"df-bce01de4-91c4-43fc-b260-6d8bc1bc0a87\">\n",
              "  <button class=\"colab-df-quickchart\" onclick=\"quickchart('df-bce01de4-91c4-43fc-b260-6d8bc1bc0a87')\"\n",
              "            title=\"Suggest charts\"\n",
              "            style=\"display:none;\">\n",
              "\n",
              "<svg xmlns=\"http://www.w3.org/2000/svg\" height=\"24px\"viewBox=\"0 0 24 24\"\n",
              "     width=\"24px\">\n",
              "    <g>\n",
              "        <path d=\"M19 3H5c-1.1 0-2 .9-2 2v14c0 1.1.9 2 2 2h14c1.1 0 2-.9 2-2V5c0-1.1-.9-2-2-2zM9 17H7v-7h2v7zm4 0h-2V7h2v10zm4 0h-2v-4h2v4z\"/>\n",
              "    </g>\n",
              "</svg>\n",
              "  </button>\n",
              "\n",
              "<style>\n",
              "  .colab-df-quickchart {\n",
              "      --bg-color: #E8F0FE;\n",
              "      --fill-color: #1967D2;\n",
              "      --hover-bg-color: #E2EBFA;\n",
              "      --hover-fill-color: #174EA6;\n",
              "      --disabled-fill-color: #AAA;\n",
              "      --disabled-bg-color: #DDD;\n",
              "  }\n",
              "\n",
              "  [theme=dark] .colab-df-quickchart {\n",
              "      --bg-color: #3B4455;\n",
              "      --fill-color: #D2E3FC;\n",
              "      --hover-bg-color: #434B5C;\n",
              "      --hover-fill-color: #FFFFFF;\n",
              "      --disabled-bg-color: #3B4455;\n",
              "      --disabled-fill-color: #666;\n",
              "  }\n",
              "\n",
              "  .colab-df-quickchart {\n",
              "    background-color: var(--bg-color);\n",
              "    border: none;\n",
              "    border-radius: 50%;\n",
              "    cursor: pointer;\n",
              "    display: none;\n",
              "    fill: var(--fill-color);\n",
              "    height: 32px;\n",
              "    padding: 0;\n",
              "    width: 32px;\n",
              "  }\n",
              "\n",
              "  .colab-df-quickchart:hover {\n",
              "    background-color: var(--hover-bg-color);\n",
              "    box-shadow: 0 1px 2px rgba(60, 64, 67, 0.3), 0 1px 3px 1px rgba(60, 64, 67, 0.15);\n",
              "    fill: var(--button-hover-fill-color);\n",
              "  }\n",
              "\n",
              "  .colab-df-quickchart-complete:disabled,\n",
              "  .colab-df-quickchart-complete:disabled:hover {\n",
              "    background-color: var(--disabled-bg-color);\n",
              "    fill: var(--disabled-fill-color);\n",
              "    box-shadow: none;\n",
              "  }\n",
              "\n",
              "  .colab-df-spinner {\n",
              "    border: 2px solid var(--fill-color);\n",
              "    border-color: transparent;\n",
              "    border-bottom-color: var(--fill-color);\n",
              "    animation:\n",
              "      spin 1s steps(1) infinite;\n",
              "  }\n",
              "\n",
              "  @keyframes spin {\n",
              "    0% {\n",
              "      border-color: transparent;\n",
              "      border-bottom-color: var(--fill-color);\n",
              "      border-left-color: var(--fill-color);\n",
              "    }\n",
              "    20% {\n",
              "      border-color: transparent;\n",
              "      border-left-color: var(--fill-color);\n",
              "      border-top-color: var(--fill-color);\n",
              "    }\n",
              "    30% {\n",
              "      border-color: transparent;\n",
              "      border-left-color: var(--fill-color);\n",
              "      border-top-color: var(--fill-color);\n",
              "      border-right-color: var(--fill-color);\n",
              "    }\n",
              "    40% {\n",
              "      border-color: transparent;\n",
              "      border-right-color: var(--fill-color);\n",
              "      border-top-color: var(--fill-color);\n",
              "    }\n",
              "    60% {\n",
              "      border-color: transparent;\n",
              "      border-right-color: var(--fill-color);\n",
              "    }\n",
              "    80% {\n",
              "      border-color: transparent;\n",
              "      border-right-color: var(--fill-color);\n",
              "      border-bottom-color: var(--fill-color);\n",
              "    }\n",
              "    90% {\n",
              "      border-color: transparent;\n",
              "      border-bottom-color: var(--fill-color);\n",
              "    }\n",
              "  }\n",
              "</style>\n",
              "\n",
              "  <script>\n",
              "    async function quickchart(key) {\n",
              "      const quickchartButtonEl =\n",
              "        document.querySelector('#' + key + ' button');\n",
              "      quickchartButtonEl.disabled = true;  // To prevent multiple clicks.\n",
              "      quickchartButtonEl.classList.add('colab-df-spinner');\n",
              "      try {\n",
              "        const charts = await google.colab.kernel.invokeFunction(\n",
              "            'suggestCharts', [key], {});\n",
              "      } catch (error) {\n",
              "        console.error('Error during call to suggestCharts:', error);\n",
              "      }\n",
              "      quickchartButtonEl.classList.remove('colab-df-spinner');\n",
              "      quickchartButtonEl.classList.add('colab-df-quickchart-complete');\n",
              "    }\n",
              "    (() => {\n",
              "      let quickchartButtonEl =\n",
              "        document.querySelector('#df-bce01de4-91c4-43fc-b260-6d8bc1bc0a87 button');\n",
              "      quickchartButtonEl.style.display =\n",
              "        google.colab.kernel.accessAllowed ? 'block' : 'none';\n",
              "    })();\n",
              "  </script>\n",
              "</div>\n",
              "\n",
              "  <div id=\"id_95d4b088-f4c5-456b-a040-cac78070a885\">\n",
              "    <style>\n",
              "      .colab-df-generate {\n",
              "        background-color: #E8F0FE;\n",
              "        border: none;\n",
              "        border-radius: 50%;\n",
              "        cursor: pointer;\n",
              "        display: none;\n",
              "        fill: #1967D2;\n",
              "        height: 32px;\n",
              "        padding: 0 0 0 0;\n",
              "        width: 32px;\n",
              "      }\n",
              "\n",
              "      .colab-df-generate:hover {\n",
              "        background-color: #E2EBFA;\n",
              "        box-shadow: 0px 1px 2px rgba(60, 64, 67, 0.3), 0px 1px 3px 1px rgba(60, 64, 67, 0.15);\n",
              "        fill: #174EA6;\n",
              "      }\n",
              "\n",
              "      [theme=dark] .colab-df-generate {\n",
              "        background-color: #3B4455;\n",
              "        fill: #D2E3FC;\n",
              "      }\n",
              "\n",
              "      [theme=dark] .colab-df-generate:hover {\n",
              "        background-color: #434B5C;\n",
              "        box-shadow: 0px 1px 3px 1px rgba(0, 0, 0, 0.15);\n",
              "        filter: drop-shadow(0px 1px 2px rgba(0, 0, 0, 0.3));\n",
              "        fill: #FFFFFF;\n",
              "      }\n",
              "    </style>\n",
              "    <button class=\"colab-df-generate\" onclick=\"generateWithVariable('df')\"\n",
              "            title=\"Generate code using this dataframe.\"\n",
              "            style=\"display:none;\">\n",
              "\n",
              "  <svg xmlns=\"http://www.w3.org/2000/svg\" height=\"24px\"viewBox=\"0 0 24 24\"\n",
              "       width=\"24px\">\n",
              "    <path d=\"M7,19H8.4L18.45,9,17,7.55,7,17.6ZM5,21V16.75L18.45,3.32a2,2,0,0,1,2.83,0l1.4,1.43a1.91,1.91,0,0,1,.58,1.4,1.91,1.91,0,0,1-.58,1.4L9.25,21ZM18.45,9,17,7.55Zm-12,3A5.31,5.31,0,0,0,4.9,8.1,5.31,5.31,0,0,0,1,6.5,5.31,5.31,0,0,0,4.9,4.9,5.31,5.31,0,0,0,6.5,1,5.31,5.31,0,0,0,8.1,4.9,5.31,5.31,0,0,0,12,6.5,5.46,5.46,0,0,0,6.5,12Z\"/>\n",
              "  </svg>\n",
              "    </button>\n",
              "    <script>\n",
              "      (() => {\n",
              "      const buttonEl =\n",
              "        document.querySelector('#id_95d4b088-f4c5-456b-a040-cac78070a885 button.colab-df-generate');\n",
              "      buttonEl.style.display =\n",
              "        google.colab.kernel.accessAllowed ? 'block' : 'none';\n",
              "\n",
              "      buttonEl.onclick = () => {\n",
              "        google.colab.notebook.generateWithVariable('df');\n",
              "      }\n",
              "      })();\n",
              "    </script>\n",
              "  </div>\n",
              "\n",
              "    </div>\n",
              "  </div>\n"
            ],
            "application/vnd.google.colaboratory.intrinsic+json": {
              "type": "dataframe",
              "variable_name": "df",
              "summary": "{\n  \"name\": \"df\",\n  \"rows\": 8399,\n  \"fields\": [\n    {\n      \"column\": \"Title\",\n      \"properties\": {\n        \"dtype\": \"string\",\n        \"num_unique_values\": 7951,\n        \"samples\": [\n          \"\\u0639\\u0627\\u0644\\u0645 \\u0641\\u0644\\u0643 \\u0631\\u0648\\u0633\\u064a \\u064a\\u0643\\u062a\\u0634\\u0641 \\u0645\\u0630\\u0646\\u0628\\u0627 \\u0648\\u0643\\u0648\\u064a\\u0643\\u0628\\u0627 \\u062c\\u062f\\u064a\\u062f\\u064a\\u0646\",\n          \"\\u00abproparco\\u00bb \\u062a\\u0633\\u062a\\u062b\\u0645\\u0631 20 \\u0645\\u0644\\u064a\\u0648\\u0646 \\u062f\\u0648\\u0644\\u0627\\u0631 \\u0644\\u062f\\u0639\\u0645 \\u0627\\u0644\\u0634\\u0631\\u0643\\u0627\\u062a \\u0627\\u0644\\u0635\\u063a\\u064a\\u0631\\u0647 \\u0648\\u0627\\u0644\\u0645\\u062a\\u0648\\u0633\\u0637\\u0647 \\u0628\\u0634\\u0645\\u0627\\u0644 \\u0627\\u0641\\u0631\\u064a\\u0642\\u064a\\u0627\",\n          \"\\u062a\\u0633\\u062a\\u0641\\u064a\\u062f \\u062e\\u062f\\u0645\\u0627\\u062a \\u0628\\u0631\\u0646\\u0627\\u0645\\u062c Google Meet \\u0627\\u0644\\u0645\\u062c\\u0627\\u0646\\u064a\\u0647\"\n        ],\n        \"semantic_type\": \"\",\n        \"description\": \"\"\n      }\n    },\n    {\n      \"column\": \"Content\",\n      \"properties\": {\n        \"dtype\": \"string\",\n        \"num_unique_values\": 7923,\n        \"samples\": [\n          \"\\u0648\\u0627\\u0634\\u0627\\u0631\\u062a \\u063a\\u0648\\u063a\\u0644 \\u0628\\u062d\\u0633\\u0628 \\u0646\\u0642\\u0644\\u0647 \\u0645\\u0648\\u0642\\u0639 \\u062a\\u0627\\u064a\\u0645\\u0632 \\u0646\\u064a\\u0648\\u0632 \\u0646\\u0627\\u0648 \\u0633\\u064a\\u0645\\u0646\\u062d \\u0627\\u0644\\u0645\\u0633\\u062a\\u062e\\u062f\\u0645\\u0648\\u0646 \\u0645\\u062f\\u0647 \\u0644\\u0644\\u0627\\u062c\\u062a\\u0645\\u0627\\u0639\\u0627\\u062a \\u0645\\u062c\\u0627\\u0646\\u0627 \\u0641\\u0642\\u0637 \\u062a\\u0635\\u0644 \\u0627\\u0644\\u064a 60 \\u062f\\u0642\\u064a\\u0642\\u0647 \\u0648\\u0628\\u0639\\u062f\\u0647\\u0627 \\u0633\\u064a\\u062d\\u062a\\u0627\\u062c \\u0627\\u0644\\u0645\\u0633\\u062a\\u062e\\u062f\\u0645 \\u0627\\u0644\\u064a \\u0627\\u0644\\u0628\\u062f\\u0621 \\u062e\\u062f\\u0645\\u0647 \\u0645\\u062f\\u0641\\u0648\\u0639\\u0647 \\u0627\\u0644\\u0627\\u062c\\u0631\\u062d\\u062a\\u064a 30 \\u0633\\u0628\\u062a\\u0645\\u0628\\u0631 \\u062a\\u0645 \\u0627\\u0644\\u0633\\u0645\\u0627\\u062d \\u0644\\u0627\\u064a \\u0634\\u062e\\u0635 \\u0644\\u062f\\u064a\\u0647 \\u062d\\u0633\\u0627\\u0628 \\u063a\\u0648\\u063a\\u0644 \\u0628\\u0627\\u0646\\u0634\\u0627\\u0621 \\u0627\\u062c\\u062a\\u0645\\u0627\\u0639\\u0627\\u062a \\u0645\\u062c\\u0627\\u0646\\u064a\\u0647 \\u064a\\u0635\\u0644 \\u0627\\u0644\\u064a 100 \\u0634\\u062e\\u0635 \\u062d\\u062f \\u0632\\u0645\\u0646\\u064a\\u0642\\u0627\\u0644 \\u0645\\u062a\\u062d\\u062f\\u062b \\u0628\\u0627\\u0633\\u0645 \\u063a\\u0648\\u063a\\u0644 \\u0644\\u062f\\u064a\\u0646\\u0627 \\u0627\\u064a \\u0634\\u064a\\u0621 \\u0646\\u062a\\u0648\\u0627\\u0635\\u0644 \\u0645\\u0639\\u0647 \\u0628\\u062e\\u0635\\u0648\\u0635 \\u0627\\u0644\\u062a\\u063a\\u064a\\u064a\\u0631\\u0627\\u062a \\u062a\\u0645 \\u0627\\u062c\\u0631\\u0627\\u0621\\u0647\\u0627 \\u0639\\u0644\\u064a \\u0627\\u0644\\u0639\\u0631\\u0636 \\u0627\\u0644\\u062a\\u0631\\u0648\\u064a\\u062c\\u064a \\u0648\\u0627\\u0646\\u062a\\u0647\\u0627\\u0621 \\u0635\\u0644\\u0627\\u062d\\u064a\\u0647 \\u0627\\u0644\\u0645\\u064a\\u0632\\u0627\\u062a \\u0627\\u0644\\u0645\\u062a\\u0642\\u062f\\u0645\\u0647\\u0648\\u062a\\u0627\\u0628\\u0639 \\u0627\\u0630\\u0627 \\u062a\\u063a\\u064a\\u0631 \\u0641\\u0633\\u0646\\u062d\\u0631\\u0635 \\u0639\\u0644\\u064a \\u0627\\u0639\\u0644\\u0627\\u0645\\u0643 \\u0628\\u0630\\u0644\\u0643\\u0627\\u0639\\u062a\\u0628\\u0627\\u0631\\u0627 30 \\u0633\\u0628\\u062a\\u0645\\u0628\\u0631 \\u0627\\u0644\\u0648\\u0635\\u0648\\u0644 \\u0627\\u0644\\u064a \\u0627\\u0644\\u0645\\u064a\\u0632\\u0627\\u062a \\u0627\\u0644\\u0645\\u062a\\u0642\\u062f\\u0645\\u0647 \\u0644\\u0639\\u0645\\u0644\\u0627\\u0621 \\u062c\\u064a \\u0633\\u064a\\u0648\\u062a \\u0627\\u0648 \\u062e\\u062f\\u0645\\u0647 \\u062c\\u064a \\u0633\\u064a\\u0648\\u062a \\u0644\\u0644\\u062a\\u0639\\u0644\\u0645 \\u0627\\u0644\\u0633\\u0645\\u0627\\u062d \\u0628\\u0627\\u062c\\u062a\\u0645\\u0627\\u0639\\u0627\\u062a \\u064a\\u0635\\u0644 \\u0627\\u0644\\u064a 250 \\u0645\\u0634\\u0627\\u0631\\u0643\\u0627 \\u0648\\u0627\\u0644\\u0628\\u062b \\u0627\\u0644\\u0645\\u0628\\u0627\\u0634\\u0631 \\u064a\\u0635\\u0644 \\u0627\\u0644\\u064a 100000 \\u0634\\u062e\\u0635 \\u0646\\u0637\\u0627\\u0642 \\u0648\\u0627\\u062d\\u062f \\u0648\\u0627\\u0644\\u0642\\u062f\\u0631\\u0647 \\u0639\\u0644\\u064a \\u062d\\u0641\\u0638 \\u062a\\u0633\\u062c\\u064a\\u0644\\u0627\\u062a \\u0627\\u0644\\u0627\\u062c\\u062a\\u0645\\u0627\\u0639\\u0627\\u062a \\u0639\\u0644\\u064a \\u063a\\u0648\\u063a\\u0644 \\u062f\\u0631\\u0627\\u064a\\u0641 \\u0627\\u064a\\u0636\\u0627 \\u064a\\u0643\\u0648\\u0646 \\u0647\\u0646\\u0627\\u0643\\u0648\\u0633\\u0645\\u062d\\u062a \\u063a\\u0648\\u063a\\u0644 \\u0628\\u0627\\u0644\\u0648\\u0635\\u0648\\u0644 \\u0627\\u0644\\u0645\\u062c\\u0627\\u0646\\u064a \\u0627\\u0644\\u064a \\u0645\\u064a\\u0632\\u0627\\u062a \\u0645\\u064a\\u062a \\u0627\\u0644\\u0645\\u062a\\u0642\\u062f\\u0645\\u0647 \\u0644\\u062c\\u0645\\u064a\\u0639 \\u0639\\u0645\\u0644\\u0627\\u0621 \\u062c\\u064a \\u0633\\u064a\\u0648\\u062a \\u0645\\u062b\\u0644 \\u0627\\u0644\\u0642\\u062f\\u0631\\u0647 \\u0639\\u0644\\u064a \\u0627\\u0644\\u0628\\u062b \\u0627\\u0644\\u0645\\u0628\\u0627\\u0634\\u0631 \\u064a\\u0635\\u0644 \\u0627\\u0644\\u064a 100000 \\u0645\\u0634\\u0627\\u0647\\u062f \\u062f\\u0627\\u062e\\u0644 \\u0646\\u0637\\u0627\\u0642\\u0647\\u0645 \\u0628\\u0645\\u0642\\u0627\\u0628\\u0644 \\u0645\\u0627\\u062f\\u064a\\u0648\\u0633\\u064a\\u0643\\u0648\\u0646 \\u062a\\u0643\\u0644\\u0641\\u0647 25 \\u062f\\u0648\\u0644\\u0627\\u0631\\u0627 \\u0627\\u0645\\u0631\\u064a\\u0643\\u064a \\u0644\\u0643\\u0644 \\u0645\\u0633\\u062a\\u062e\\u062f\\u0645 \\u0634\\u0647\\u0631\\u064a\\u0627\\u0648\\u062d\\u0642\\u0642\\u062a \\u062e\\u062f\\u0645\\u0647 \\u063a\\u0648\\u063a\\u0644 \\u0645\\u064a\\u062a \\u0646\\u0645\\u0648\\u0627 \\u0628\\u0645\\u0639\\u062f\\u0644 30 \\u0645\\u0631\\u0647 \\u0627\\u0644\\u0627\\u0633\\u062a\\u062e\\u062f\\u0627\\u0645 \\u0627\\u0644\\u064a\\u0648\\u0645\\u064a \\u0648\\u0635\\u0644 \\u0639\\u062f\\u062f \\u062f\\u0642\\u0627\\u0621\\u0642 \\u0627\\u062c\\u062a\\u0645\\u0627\\u0639\\u0627\\u062a \\u0627\\u0644\\u0641\\u064a\\u062f\\u064a\\u0648 \\u064a\\u0648\\u0645\\u064a\\u0627 \\u0627\\u0644\\u064a 3 \\u0645\\u0644\\u064a\\u0627\\u0631\\u0627\\u062a \\u062f\\u0642\\u064a\\u0642\\u0647\",\n          \"\\u0627\\u0639\\u0644\\u0646 \\u0627\\u0644\\u0639\\u0627\\u0644\\u0645\\u0627\\u0646 \\u0641\\u0643\\u062a\\u0648\\u0631 \\u0628\\u0648\\u0643\\u0648\\u0641 \\u0648\\u0628\\u064a\\u0648\\u062a\\u0631 \\u0634\\u064a\\u0628\\u0627\\u0644\\u064a\\u0646 \\u0627\\u0646 \\u0627\\u0644\\u0647\\u0632\\u0647 \\u0627\\u0644\\u0627\\u0631\\u0636\\u064a\\u0647 \\u0648\\u0642\\u0639\\u062a \\u0645\\u0646\\u0637\\u0642\\u0647 \\u0628\\u0627\\u064a\\u0643\\u0627\\u0644 \\u062a\\u0643\\u0646 \\u0627\\u0639\\u062a\\u064a\\u0627\\u062f\\u064a\\u0647 \\u0648\\u0643\\u0627\\u0646\\u062a \\u0642\\u0648\\u064a\\u0647 \\u0646\\u0633\\u0628\\u064a\\u0627 \\u0648\\u0627\\u0634\\u0627\\u0631 \\u0627\\u0644\\u0639\\u0627\\u0644\\u0645\\u0627\\u0646 \\u062d\\u062f\\u064a\\u062b\\u0647\\u0645\\u0627 \\u0644\\u0648\\u0643\\u0627\\u0644\\u0647 FAN \\u0627\\u0644\\u0631\\u0648\\u0633\\u064a\\u0647 \\u0644\\u0644\\u0627\\u0646\\u0628\\u0627\\u0621 \\u0627\\u0644\\u064a \\u0627\\u0646\\u0647 \\u064a\\u0645\\u0643\\u0646 \\u0627\\u0639\\u062a\\u0628\\u0627\\u0631 \\u0627\\u0644\\u0647\\u0632\\u0647 \\u0627\\u0644\\u0627\\u0631\\u0636\\u064a\\u0647 \\u0648\\u0642\\u0639\\u062a \\u0644\\u064a\\u0644\\u0647 \\u064a\\u0648\\u0645 22 \\u0633\\u0628\\u062a\\u0645\\u0628\\u0631 2020 \\u0645\\u0642\\u0627\\u0637\\u0639\\u0647 \\u0627\\u064a\\u0631\\u0643\\u0648\\u062a\\u0633\\u0643 \\u0627\\u0639\\u062a\\u064a\\u0627\\u062f\\u064a\\u0647 \\u0644\\u0627\\u0646 \\u0634\\u062f\\u062a\\u0647\\u0627 \\u0628\\u0644\\u063a\\u062a 59 \\u062f\\u0631\\u062c\\u0647\\u0648\\u064a\\u0642\\u0648\\u0644 \\u0628\\u064a\\u0648\\u062a\\u0631 \\u0634\\u064a\\u0628\\u0627\\u0644\\u064a\\u0646 \\u0645\\u062f\\u064a\\u0631 \\u0645\\u0639\\u0647\\u062f \\u0646\\u0638\\u0631\\u064a\\u0647 \\u0627\\u0644\\u062a\\u0646\\u0628\\u0621 \\u0628\\u0627\\u0644\\u0632\\u0644\\u0627\\u0632\\u0644 \\u0648\\u0627\\u0644\\u062c\\u064a\\u0648\\u0641\\u064a\\u0632\\u064a\\u0627\\u0621 \\u0627\\u0644\\u0631\\u064a\\u0627\\u0636\\u064a\\u0647 \\u0627\\u0644\\u062a\\u0627\\u0628\\u0639 \\u0644\\u0627\\u0643\\u0627\\u062f\\u064a\\u0645\\u064a\\u0647 \\u0627\\u0644\\u0639\\u0644\\u0648\\u0645 \\u0627\\u0644\\u0631\\u0648\\u0633\\u064a\\u0647 \\u0643\\u0627\\u0646\\u062a \\u0627\\u0644\\u0647\\u0632\\u0647 \\u0627\\u0644\\u0627\\u0631\\u0636\\u064a\\u0647 \\u0642\\u0648\\u064a\\u0647 \\u0648\\u0644\\u064a\\u0633 \\u0627\\u0639\\u062a\\u064a\\u0627\\u062f\\u064a\\u0647 \\u0648\\u0645\\u0639 \\u064a\\u0645\\u0643\\u0646 \\u0627\\u0646 \\u062a\\u0646\\u0633\\u0628 \\u0627\\u0644\\u064a \\u0627\\u0644\\u0647\\u0632\\u0627\\u062a \\u0627\\u0644\\u0642\\u0648\\u064a\\u0647 \\u062c\\u062f\\u0627 \\u0641\\u0645\\u062b\\u0644\\u0627 \\u0639\\u0627\\u0645 2008 \\u0648\\u0642\\u0639\\u062a \\u0647\\u0632\\u0647 \\u0627\\u0631\\u0636\\u064a\\u0647 \\u0628\\u0644\\u063a\\u062a \\u0634\\u062f\\u062a\\u0647\\u0627 63 \\u062f\\u0631\\u062c\\u0647 \\u0648\\u0647\\u0630\\u0647 \\u0637\\u0627\\u0642\\u0647 \\u0647\\u0627\\u0621\\u0644\\u0647 \\u0639\\u0644\\u064a \\u0627\\u0644\\u0627\\u0642\\u0644 \\u0627\\u0643\\u0628\\u0631 \\u0628\\u0639\\u0634\\u0631 \\u0645\\u0631\\u0627\\u062a \\u0627\\u0644\\u0647\\u0632\\u0647 \\u0627\\u0644\\u0627\\u0631\\u0636\\u064a\\u0647 \\u0648\\u0642\\u0639\\u062a \\u0627\\u0645\\u0633\\u0648\\u0645\\u0646 \\u062c\\u0627\\u0646\\u0628\\u0647 \\u064a\\u0634\\u064a\\u0631 \\u0627\\u0644\\u0639\\u0627\\u0644\\u0645 \\u0641\\u0643\\u062a\\u0648\\u0631 \\u0628\\u0648\\u0628\\u0643\\u0648\\u0641 \\u0642\\u0633\\u0645 \\u062a\\u0648\\u0642\\u0639\\u0627\\u062a \\u0627\\u0644\\u0637\\u0642\\u0633 \\u062c\\u0627\\u0645\\u0639\\u0647 \\u0627\\u0644\\u0627\\u0631\\u0635\\u0627\\u062f \\u0627\\u0644\\u062c\\u0648\\u064a\\u0647 \\u0648\\u0627\\u0644\\u0645\\u0627\\u0621\\u064a\\u0647 \\u0627\\u0644\\u062d\\u0643\\u0648\\u0645\\u064a\\u0647 \\u0627\\u0644\\u0631\\u0648\\u0633\\u064a\\u0647 \\u0627\\u0646 \\u0645\\u062b\\u0644 \\u0627\\u0644\\u0647\\u0632\\u0627\\u062a \\u0627\\u0644\\u0642\\u0648\\u064a\\u0647 \\u0646\\u0627\\u062f\\u0631\\u0647 \\u0627\\u0644\\u062d\\u062f\\u0648\\u062b \\u0645\\u0646\\u0637\\u0642\\u0647 \\u0628\\u0627\\u064a\\u0643\\u0627\\u0644\\u0648\\u0642\\u0627\\u0644 \\u0647\\u0632\\u0647 \\u0627\\u0631\\u0636\\u064a\\u0647 \\u0642\\u0648\\u064a\\u0647 \\u0646\\u0633\\u0628\\u064a\\u0627 \\u0648\\u0644\\u0643\\u0646\\u0647\\u0627 \\u0646\\u0627\\u062f\\u0631\\u0647 \\u0627\\u0644\\u0645\\u0646\\u0637\\u0642\\u0647 \\u0646\\u062a\\u0648\\u0642\\u0639 \\u062d\\u062f\\u0648\\u062b \\u0647\\u0632\\u0627\\u062a \\u0627\\u0631\\u0636\\u064a\\u0647 \\u0627\\u0644\\u0645\\u0646\\u0637\\u0642\\u0647 \\u0634\\u062f\\u062a\\u0647\\u0627 \\u0628\\u062d\\u062f\\u0648\\u062f 35 \\u062f\\u0631\\u062c\\u0647 \\u0644\\u0630\\u0644\\u0643 \\u064a\\u0645\\u0643\\u0646 \\u0627\\u0639\\u062a\\u0628\\u0627\\u0631 \\u0627\\u0644\\u0647\\u0632\\u0647 \\u0627\\u0644\\u0627\\u0631\\u0636\\u064a\\u0647 \\u0627\\u0644\\u0627\\u062e\\u064a\\u0631\\u0647 \\u0642\\u0648\\u064a\\u0647 \\u0646\\u0633\\u0628\\u064a\\u0627\\u0648\\u0648\\u0641\\u0642\\u0627 \\u0644\\u0644\\u062a\\u0642\\u0627\\u0631\\u064a\\u0631 \\u0627\\u0644\\u0627\\u0639\\u0644\\u0627\\u0645\\u064a\\u0647 \\u0634\\u0639\\u0631 \\u0633\\u0643\\u0627\\u0646 400 \\u0645\\u0631\\u0643\\u0632 \\u0633\\u0643\\u0646\\u064a \\u0628\\u0647\\u0630\\u0647 \\u0627\\u0644\\u0647\\u0632\\u0647 \\u0627\\u0644\\u0627\\u0631\\u0636\\u064a\\u0647 \\u062a\\u0628\\u0639\\u062a\\u0647\\u0627 \\u0647\\u0632\\u0647 \\u0627\\u0631\\u062a\\u062f\\u0627\\u062f\\u064a\\u0647 \\u062e\\u0644\\u0627\\u0644 15 \\u062f\\u0642\\u064a\\u0642\\u0647 \\u0638\\u0627\\u0647\\u0631\\u0647 \\u0645\\u0645\\u064a\\u0632\\u0647 \\u0644\\u0644\\u0647\\u0632\\u0627\\u062a \\u0627\\u0644\\u0627\\u0631\\u0636\\u064a\\u0647 \\u062a\\u0631\\u062a\\u0628\\u0637 \\u0628\\u0627\\u0644\\u0637\\u0627\\u0642\\u0647 \\u0627\\u0644\\u0645\\u0646\\u0637\\u0644\\u0642\\u0647 \\u0627\\u0644\\u0642\\u0634\\u0631\\u0647 \\u0627\\u0644\\u0627\\u0631\\u0636\\u064a\\u0647\\u0627\\u0644\\u0645\\u0635\\u062f\\u0631 \\u0646\\u0648\\u0641\\u0648\\u0633\\u062a\\u064a\",\n          \"\\u062c\\u0627\\u0621 \\u0628\\u064a\\u0627\\u0646 \\u0645\\u0646\\u0633\\u0648\\u0628 \\u0627\\u0644\\u064a \\u0627\\u0644\\u0645\\u062a\\u062d\\u062f\\u062b \\u0628\\u0627\\u0633\\u0645\\u0647 \\u0633\\u062a\\u064a\\u0641\\u0627\\u0646 \\u062f\\u0648\\u062c\\u0627\\u0631\\u064a\\u0643 \\u0635\\u0627\\u062f\\u0631 \\u0635\\u0628\\u0627\\u062d \\u0627\\u0644\\u064a\\u0648\\u0645 \\u0627\\u0644\\u0627\\u062b\\u0646\\u064a\\u0646 \\u062d\\u062b \\u062c\\u062f\\u064a\\u062f \\u0639\\u0644\\u064a \\u0636\\u0628\\u0637 \\u0627\\u0644\\u0646\\u0641\\u0633 \\u0627\\u0644\\u064a \\u0627\\u0642\\u0635\\u064a \\u062d\\u062f \\u0645\\u0634\\u062f\\u062f\\u0627 \\u0639\\u0644\\u064a \\u0627\\u0646 \\u0627\\u064a \\u0639\\u0645\\u0644\\u064a\\u0647 \\u0639\\u0633\\u0643\\u0631\\u064a\\u0647 \\u064a\\u062c\\u0628 \\u0627\\u0646 \\u062a\\u062d\\u062a\\u0631\\u0645 \\u0627\\u0644\\u0642\\u0627\\u0646\\u0648\\u0646 \\u0627\\u0644\\u062f\\u0648\\u0644\\u064a \\u0627\\u062d\\u062a\\u0631\\u0627\\u0645\\u0627 \\u0643\\u0627\\u0645\\u0644\\u0627 \\u0645\\u064a\\u062b\\u0627\\u0642 \\u0627\\u0644\\u0627\\u0645\\u0645 \\u0627\\u0644\\u0645\\u062a\\u062d\\u062f\\u0647 \\u0648\\u0627\\u0644\\u0642\\u0627\\u0646\\u0648\\u0646 \\u0627\\u0644\\u0627\\u0646\\u0633\\u0627\\u0646\\u064a \\u0627\\u0644\\u062f\\u0648\\u0644\\u064a\\u0648\\u062f\\u0639\\u0627 \\u0627\\u0644\\u0627\\u0645\\u064a\\u0646 \\u0627\\u0644\\u0639\\u0627\\u0645 \\u0628\\u064a\\u0627\\u0646\\u0647 \\u0627\\u0644\\u064a \\u0648\\u0642\\u0641 \\u0627\\u0644\\u062a\\u0635\\u0639\\u064a\\u062f \\u0627\\u0644\\u0641\\u0648\\u0631\\u064a \\u0648\\u062d\\u062b \\u062c\\u0645\\u064a\\u0639 \\u0627\\u0644\\u0627\\u0637\\u0631\\u0627\\u0641 \\u0639\\u0644\\u064a \\u062d\\u0644 \\u0634\\u0648\\u0627\\u063a\\u0644\\u0647\\u0627 \\u0628\\u0627\\u0644\\u0648\\u0633\\u0627\\u0621\\u0644 \\u0627\\u0644\\u0633\\u0644\\u0645\\u064a\\u0647\\u0643\\u0645\\u0627 \\u0627\\u0643\\u062f \\u0627\\u0644\\u0627\\u0645\\u064a\\u0646 \\u0627\\u0644\\u0639\\u0627\\u0645 \\u0639\\u0644\\u064a \\u0648\\u062c\\u0648\\u0628 \\u062d\\u0645\\u0627\\u064a\\u0647 \\u0627\\u0644\\u0645\\u062f\\u0646\\u064a\\u064a\\u0646 \\u064a\\u0634\\u0627\\u0631\\u0643\\u0648\\u0646 \\u0627\\u0644\\u0627\\u0639\\u0645\\u0627\\u0644 \\u0627\\u0644\\u0639\\u062f\\u0627\\u0621\\u064a\\u0647 \\u062c\\u0645\\u064a\\u0639 \\u0627\\u0644\\u0627\\u0648\\u0642\\u0627\\u062a \\u0648\\u062f\\u0639\\u0627 \\u0627\\u064a\\u0636\\u0627 \\u0627\\u0644\\u064a \\u062d\\u0645\\u0627\\u064a\\u0647 \\u0627\\u0644\\u0628\\u0646\\u064a\\u0647 \\u0627\\u0644\\u062a\\u062d\\u062a\\u064a\\u0647 \\u0627\\u0644\\u0645\\u062f\\u0646\\u064a\\u0647 \\u0648\\u0641\\u0642\\u0627 \\u0644\\u0644\\u0642\\u0627\\u0646\\u0648\\u0646 \\u0627\\u0644\\u0627\\u0646\\u0633\\u0627\\u0646\\u064a \\u0627\\u0644\\u062f\\u0648\\u0644\\u064a \\u0648\\u0627\\u0630 \\u0627\\u0634\\u0627\\u0631 \\u0627\\u0644\\u064a \\u0636\\u0639\\u0641 \\u0627\\u0644\\u0645\\u0634\\u0631\\u062f\\u064a\\u0646 \\u062f\\u0627\\u062e\\u0644\\u064a\\u0627 \\u0628\\u0648\\u062c\\u0647 \\u062e\\u0627\\u0635 \\u0634\\u062f\\u062f \\u063a\\u0648\\u062a\\u064a\\u0631\\u064a\\u0634 \\u0639\\u0644\\u064a \\u0627\\u0646\\u0647 \\u064a\\u062c\\u0628 \\u0636\\u0645\\u0627\\u0646 \\u0648\\u0635\\u0648\\u0644 \\u0627\\u0646\\u0633\\u0627\\u0646\\u064a \\u0645\\u0633\\u062a\\u0645\\u0631 \\u0648\\u062f\\u0648\\u0646 \\u0639\\u0648\\u0627\\u0621\\u0642 \\u0648\\u0627\\u0645\\u0646 \\u0644\\u0644\\u0645\\u062f\\u0646\\u064a\\u064a\\u0646 \\u0627\\u0644\\u0645\\u062d\\u062a\\u0627\\u062c\\u064a\\u0646 \\u062e\\u0644\\u0627\\u0644 \\u0639\\u0628\\u0631 \\u0627\\u0644\\u062d\\u062f\\u0648\\u062f \\u0627\\u062c\\u0644 \\u0627\\u0644\\u0633\\u0645\\u0627\\u062d \\u0644\\u0644\\u0627\\u0645\\u0645 \\u0627\\u0644\\u0645\\u062a\\u062d\\u062f\\u0647 \\u0648\\u0634\\u0631\\u0643\\u0627\\u0621\\u0647\\u0627 \\u0627\\u0644\\u0645\\u062c\\u0627\\u0644 \\u0627\\u0644\\u0627\\u0646\\u0633\\u0627\\u0646\\u064a \\u0628\\u0645\\u0648\\u0627\\u0635\\u0644\\u0647 \\u0627\\u0644\\u0627\\u0636\\u0637\\u0644\\u0627\\u0639 \\u0628\\u0639\\u0645\\u0644\\u0647\\u0627 \\u0627\\u0644\\u062d\\u0627\\u0633\\u0645 \\u0634\\u0645\\u0627\\u0644 \\u0633\\u0648\\u0631\\u064a\\u0627\\u0643\\u0645\\u0627 \\u0627\\u0639\\u0631\\u0628 \\u0627\\u0644\\u0627\\u0645\\u064a\\u0646 \\u0627\\u0644\\u0639\\u0627\\u0645 \\u0642\\u0644\\u0642 \\u0634\\u062f\\u064a\\u062f \\u0627\\u062d\\u062a\\u0645\\u0627\\u0644 \\u0627\\u0646 \\u062a\\u0621\\u062f\\u064a \\u0627\\u0644\\u0639\\u0645\\u0644\\u064a\\u0627\\u062a \\u0627\\u0644\\u0639\\u0633\\u0643\\u0631\\u064a\\u0647 \\u0627\\u0644\\u062d\\u0627\\u0644\\u064a\\u0647 \\u0627\\u0644\\u064a \\u0627\\u0644\\u0627\\u0641\\u0631\\u0627\\u062c \\u0627\\u0644\\u0645\\u0642\\u0635\\u0648\\u062f \\u0627\\u0644\\u0627\\u0641\\u0631\\u0627\\u062f \\u0627\\u0644\\u0645\\u0631\\u062a\\u0628\\u0637\\u064a\\u0646 \\u0628\\u062a\\u0646\\u0638\\u064a\\u0645 \\u062f\\u0627\\u0639\\u0634 \\u064a\\u062a\\u0631\\u062a\\u0628 \\u0639\\u0644\\u064a \\u0630\\u0644\\u0643\\u0647\\u0630\\u0627 \\u0648\\u0627\\u0634\\u0627\\u0631 \\u063a\\u0648\\u062a\\u064a\\u0631\\u064a\\u0634 \\u0627\\u0644\\u064a \\u0642\\u0631\\u0627\\u0631 \\u0645\\u062c\\u0644\\u0633 \\u0627\\u0644\\u0627\\u0645\\u0646 2254 2015 \\u064a\\u0634\\u062f\\u062f \\u0639\\u0644\\u064a \\u0627\\u0646 \\u0627\\u064a \\u062d\\u0644 \\u0644\\u0644\\u0627\\u0632\\u0645\\u0647 \\u0627\\u0644\\u0633\\u0648\\u0631\\u064a\\u0647 \\u064a\\u062c\\u0628 \\u0627\\u0646 \\u064a\\u0639\\u064a\\u062f \\u0627\\u0644\\u062a\\u0627\\u0643\\u064a\\u062f \\u0639\\u0644\\u064a \\u0633\\u064a\\u0627\\u062f\\u0647 \\u0633\\u0648\\u0631\\u064a\\u0627 \\u0648\\u0627\\u0633\\u062a\\u0642\\u0644\\u0627\\u0644\\u0647\\u0627 \\u0648\\u0648\\u062d\\u062f\\u062a\\u0647\\u0627 \\u0648\\u0633\\u0644\\u0627\\u0645\\u062a\\u0647\\u0627 \\u0627\\u0644\\u0627\\u0642\\u0644\\u064a\\u0645\\u064a\\u0648\\u0642\\u062f \\u0627\\u0639\\u0631\\u0628\\u062a \\u0645\\u0646\\u0638\\u0645\\u0647 \\u0627\\u0644\\u0635\\u062d\\u0647 \\u0627\\u0644\\u0639\\u0627\\u0644\\u0645\\u064a\\u0647 \\u0642\\u0644\\u0642 \\u0628\\u0627\\u0644\\u063a \\u0627\\u0632\\u0627\\u0621 \\u0627\\u0644\\u0648\\u0636\\u0639 \\u0627\\u0644\\u0635\\u062d\\u064a \\u0627\\u0644\\u0627\\u0646\\u0633\\u0627\\u0646\\u064a \\u0634\\u0645\\u0627\\u0644 \\u0634\\u0631\\u0642 \\u0633\\u0648\\u0631\\u064a\\u0627\\u0648\\u0641\\u064a \\u0628\\u064a\\u0627\\u0646 \\u0635\\u0627\\u062f\\u0631 \\u064a\\u0648\\u0645 13 \\u062a\\u0634\\u0631\\u064a\\u0646 \\u0627\\u0644\\u0627\\u0648\\u0644\\u0627\\u0643\\u062a\\u0648\\u0628\\u0631 \\u0630\\u0643\\u0631\\u062a \\u0627\\u0644\\u0645\\u0646\\u0638\\u0645\\u0647 \\u0627\\u0646\\u0647 \\u062a\\u0645 \\u062a\\u0634\\u0631\\u064a\\u062f \\u064a\\u0635\\u0644 \\u0627\\u0644\\u064a 200000 \\u0634\\u062e\\u0635 \\u0646\\u062a\\u064a\\u062c\\u0647 \\u0644\\u0644\\u0639\\u0645\\u0644\\u064a\\u0627\\u062a \\u0627\\u0644\\u0639\\u0633\\u0643\\u0631\\u064a\\u0647 \\u0627\\u0644\\u0645\\u062a\\u0632\\u0627\\u064a\\u062f\\u0647 9 \\u0627\\u0643\\u062a\\u0648\\u0628\\u0631 \\u062a\\u0634\\u0631\\u064a\\u0646 \\u0627\\u0644\\u0627\\u0648\\u0644 \\u0645\\u0634\\u064a\\u0631\\u0647 \\u0627\\u0644\\u064a \\u0627\\u0646 \\u062d\\u0648\\u0627\\u0644\\u064a 15 \\u0645\\u0644\\u064a\\u0648\\u0646 \\u0634\\u062e\\u0635 \\u064a\\u062d\\u062a\\u0627\\u062c\\u0648\\u0646 \\u0627\\u0644\\u064a \\u0645\\u0633\\u0627\\u0639\\u062f\\u0627\\u062a \\u0637\\u0628\\u064a\\u0647 \\u0648\\u0642\\u062f \\u0639\\u0627\\u0646\\u064a \\u0627\\u0644\\u0639\\u062f\\u064a\\u062f \\u0627\\u0644\\u0645\\u062a\\u0636\\u0631\\u0631\\u064a\\u0646 \\u0627\\u0639\\u0645\\u0627\\u0644 \\u0627\\u0644\\u0642\\u062a\\u0627\\u0644 \\u0627\\u0644\\u0627\\u062e\\u064a\\u0631\\u0647 \\u0636\\u063a\\u0648\\u0637 \\u062c\\u0633\\u062f\\u064a\\u0647 \\u0648\\u0639\\u0642\\u0644\\u064a\\u0647 \\u0647\\u0627\\u0621\\u0644\\u0647 \\u0646\\u062a\\u064a\\u062c\\u0647 \\u0644\\u0633\\u0646\\u0648\\u0627\\u062a \\u0627\\u0644\\u0635\\u0631\\u0627\\u0639 \\u0648\\u0627\\u0644\\u062a\\u0634\\u0631\\u062f \\u0627\\u0644\\u0645\\u062a\\u0643\\u0631\\u0631\\u0648\\u062a\\u0642\\u0648\\u0644 \\u0627\\u0644\\u0645\\u0646\\u0638\\u0645\\u0647 \\u0627\\u0646 \\u0627\\u0644\\u0627\\u0634\\u062e\\u0627\\u0635 \\u0627\\u0644\\u0645\\u062d\\u062a\\u0627\\u062c\\u0648\\u0646 \\u0627\\u0644\\u064a \\u062e\\u062f\\u0645\\u0627\\u062a \\u0627\\u0644\\u0631\\u0639\\u0627\\u064a\\u0647 \\u0627\\u0644\\u0635\\u062d\\u064a\\u0647 \\u0627\\u0644\\u0627\\u0633\\u0627\\u0633\\u064a\\u0647 \\u064a\\u0648\\u0627\\u062c\\u0647\\u0648\\u0646 \\u062a\\u062d\\u062f\\u064a\\u0627\\u062a \\u062a\\u062a\\u0639\\u0644\\u0642 \\u0628\\u0627\\u0646\\u0639\\u062f\\u0627\\u0645 \\u0627\\u0644\\u0627\\u0645\\u0646 \\u0648\\u0642\\u0644\\u0647 \\u0641\\u0631\\u0635 \\u0627\\u0644\\u062d\\u0635\\u0648\\u0644 \\u0639\\u0644\\u064a \\u0627\\u0644\\u0631\\u0639\\u0627\\u064a\\u0647 \\u0627\\u0644\\u0635\\u062d\\u064a\\u0647 \\u0627\\u0630 \\u062a\\u0627\\u062b\\u0631\\u062a \\u0627\\u0644\\u062e\\u062f\\u0645\\u0627\\u062a \\u0627\\u0644\\u0635\\u062d\\u064a\\u0647 \\u0627\\u0635\\u0627\\u0628\\u0647\\u0627 \\u0627\\u0644\\u0636\\u0639\\u0641 \\u0628\\u0627\\u0644\\u0641\\u0639\\u0644 \\u0634\\u0645\\u0627\\u0644 \\u0634\\u0631\\u0642 \\u0633\\u0648\\u0631\\u064a\\u0627 \\u0628\\u0627\\u062e\\u0631 \\u0627\\u0644\\u062a\\u0637\\u0648\\u0631\\u0627\\u062a \\u0627\\u0644\\u0627\\u0645\\u0646\\u064a\\u0647\\u0648\\u0642\\u062f \\u0627\\u0648\\u0636\\u062d\\u062a \\u0645\\u0646\\u0638\\u0645\\u0647 \\u0627\\u0644\\u0635\\u062d\\u0647 \\u0627\\u0646 \\u0627\\u0644\\u0645\\u0631\\u0627\\u0641\\u0642 \\u0627\\u0644\\u0635\\u062d\\u064a\\u0647 \\u0627\\u0635\\u0628\\u062d\\u062a \\u062e\\u0627\\u0631\\u062c \\u0627\\u0644\\u062e\\u062f\\u0645\\u0647 \\u0627\\u0644\\u0645\\u0633\\u062a\\u0634\\u0641\\u064a \\u0627\\u0644\\u0648\\u0637\\u0646\\u064a \\u0631\\u0627\\u0633 \\u0627\\u0644\\u0639\\u064a\\u0646 \\u0648\\u0627\\u0644\\u0645\\u0633\\u062a\\u0634\\u0641\\u064a \\u0627\\u0644\\u0648\\u0637\\u0646\\u064a \\u0648\\u0645\\u0631\\u0643\\u0632\\u0627\\u0646 \\u0635\\u062d\\u064a\\u0627\\u0646 \\u062a\\u0644 \\u0627\\u0628\\u064a\\u0636\\u0643\\u0645\\u0627 \\u062d\\u062f\\u062a \\u0627\\u0644\\u0645\\u0633\\u062a\\u0634\\u0641\\u064a\\u0627\\u062a \\u0627\\u0644\\u0645\\u064a\\u062f\\u0627\\u0646\\u064a\\u0647 \\u0627\\u0644\\u062b\\u0644\\u0627\\u062b\\u0647 \\u0645\\u062e\\u064a\\u0645 \\u0627\\u0644\\u0647\\u0648\\u0644 \\u062e\\u062f\\u0645\\u0627\\u062a\\u0647\\u0627 12 \\u062a\\u0634\\u0631\\u064a\\u0646 \\u0627\\u0644\\u0627\\u0648\\u0644\\u0627\\u0643\\u062a\\u0648\\u0628\\u0631 \\u0646\\u062a\\u064a\\u062c\\u0647 \\u062a\\u0635\\u0627\\u0639\\u062f \\u0627\\u0644\\u0627\\u0639\\u0645\\u0627\\u0644 \\u0627\\u0644\\u0642\\u062a\\u0627\\u0644\\u064a\\u0647 \\u0627\\u0639\\u0627\\u0642\\u062a \\u0648\\u0635\\u0648\\u0644 \\u0645\\u0648\\u0638\\u0641\\u064a \\u0627\\u0644\\u0631\\u0639\\u0627\\u064a\\u0647 \\u0627\\u0644\\u0637\\u0628\\u064a\\u0647 \\u0627\\u0644\\u064a \\u0627\\u0644\\u0645\\u062e\\u064a\\u0645 \\u062a\\u0645 \\u0627\\u062e\\u0644\\u0627\\u0621 \\u062c\\u0645\\u064a\\u0639 \\u0627\\u0644\\u0645\\u0631\\u0627\\u0641\\u0642 \\u0627\\u0644\\u0635\\u062d\\u064a\\u0647 \\u0627\\u0644\\u0645\\u062e\\u064a\\u0645\\u0627\\u062a \\u062a\\u0633\\u062a\\u0636\\u064a\\u0641 \\u0627\\u0644\\u0646\\u0627\\u0632\\u062d\\u064a\\u0646 \\u0639\\u064a\\u0646 \\u0639\\u064a\\u0633\\u064a \\u0648\\u0631\\u0627\\u0633 \\u0627\\u0644\\u0639\\u064a\\u0646 \\u062a\\u0639\\u0631\\u0636 \\u0645\\u0631\\u0627\\u0641\\u0642 \\u0627\\u0636\\u0627\\u0641\\u064a\\u0647 \\u0644\\u0644\\u062a\\u0647\\u062f\\u064a\\u062f \\u0638\\u0644 \\u062a\\u0635\\u0627\\u0639\\u062f \\u0627\\u0644\\u0646\\u0632\\u0627\\u0639 \\u0628\\u0633\\u0631\\u0639\\u0647\\u0648\\u0630\\u0643\\u0631\\u062a \\u0627\\u0644\\u0645\\u0646\\u0638\\u0645\\u0647 \\u0627\\u0646 \\u0639\\u062f\\u062f\\u0627 \\u0634\\u0631\\u0643\\u0627\\u0621\\u0647\\u0627 \\u0639\\u0644\\u0642\\u0648\\u0627 \\u062e\\u062f\\u0645\\u0627\\u062a \\u0627\\u0644\\u0631\\u0639\\u0627\\u064a\\u0647 \\u0627\\u0644\\u0637\\u0628\\u064a\\u0647 \\u0628\\u0627\\u0644\\u0641\\u0639\\u0644 \\u0628\\u0633\\u0628\\u0628 \\u0627\\u0646\\u0639\\u062f\\u0627\\u0645 \\u0627\\u0644\\u0627\\u0645\\u0646 \\u0641\\u0627\\u0642\\u0645 \\u0639\\u0648\\u0627\\u0621\\u0642 \\u0627\\u0644\\u0648\\u0635\\u0648\\u0644 \\u0627\\u0644\\u064a \\u062e\\u062f\\u0645\\u0627\\u062a \\u0627\\u0644\\u0631\\u0639\\u0627\\u064a\\u0647 \\u0627\\u0644\\u0635\\u062d\\u064a\\u0647 \\u0627\\u0644\\u0627\\u0633\\u0627\\u0633\\u064a\\u0647\"\n        ],\n        \"semantic_type\": \"\",\n        \"description\": \"\"\n      }\n    },\n    {\n      \"column\": \"Link\",\n      \"properties\": {\n        \"dtype\": \"string\",\n        \"num_unique_values\": 7976,\n        \"samples\": [\n          \"https://news.un.org/ar/story/2020/10/1064872\",\n          \"https://news.un.org/ar/story/2020/02/1049741\",\n          \"https://arabic.rt.com//technology/1154203-%D8%A7%D9%86%D9%82%D8%B1%D8%A7%D8%B6-%D8%AB%D9%84%D8%AB%D9%8A-%D8%A7%D9%84%D8%AD%D9%8A%D9%88%D8%A7%D9%86%D8%A7%D8%AA-%D8%A7%D9%84%D8%A8%D8%B1%D9%8A%D8%A9-%D8%AE%D9%84%D8%A7%D9%84-%D9%86%D8%B5%D9%81-%D9%82%D8%B1%D9%86/\"\n        ],\n        \"semantic_type\": \"\",\n        \"description\": \"\"\n      }\n    },\n    {\n      \"column\": \"Category\",\n      \"properties\": {\n        \"dtype\": \"category\",\n        \"num_unique_values\": 3,\n        \"samples\": [\n          \"\\u0631\\u064a\\u0627\\u062f\\u0629 \\u0623\\u0639\\u0645\\u0627\\u0644\",\n          \"\\u0639\\u0644\\u0648\\u0645 \\u0648\\u062a\\u0643\\u0646\\u0648\\u0644\\u0648\\u062c\\u064a\\u0627\",\n          \"\\u0623\\u062e\\u0631\\u0649\"\n        ],\n        \"semantic_type\": \"\",\n        \"description\": \"\"\n      }\n    }\n  ]\n}"
            }
          },
          "metadata": {},
          "execution_count": 6
        }
      ]
    },
    {
      "cell_type": "markdown",
      "source": [
        "# # # **EDA**"
      ],
      "metadata": {
        "id": "uC2tK0L-fOFY"
      }
    },
    {
      "cell_type": "code",
      "source": [
        "df = df.dropna()\n",
        "df"
      ],
      "metadata": {
        "execution": {
          "iopub.status.busy": "2024-04-25T17:44:32.215029Z",
          "iopub.execute_input": "2024-04-25T17:44:32.215507Z",
          "iopub.status.idle": "2024-04-25T17:44:32.244846Z",
          "shell.execute_reply.started": "2024-04-25T17:44:32.215472Z",
          "shell.execute_reply": "2024-04-25T17:44:32.243443Z"
        },
        "trusted": true,
        "colab": {
          "base_uri": "https://localhost:8080/",
          "height": 424
        },
        "id": "kvj7DUDhfOFY",
        "outputId": "e65d111b-9bc8-4e89-8ab0-f5e6009475e9"
      },
      "execution_count": null,
      "outputs": [
        {
          "output_type": "execute_result",
          "data": {
            "text/plain": [
              "                                                  Title  \\\n",
              "0     تيرتل تري لابز للتقنيات الحيويه تحصل علي تمويل...   \n",
              "1        تعد دراسه الجدوي لمشروعك الناشء 6 عوامل اساسيه   \n",
              "2     منح جاءزه نوبل الطب لاكتشاف مجال التهاب الكبد ...   \n",
              "3     هيءه الغذاء والدواء الامريكيه لقاح مودرنا حقق ...   \n",
              "4     حظر بروتين الجهاز المناعي يساعد علي محاربه عدو...   \n",
              "...                                                 ...   \n",
              "8394  قواعد اوروبيه تهدد بخفض 10 ايرادات شركات التكن...   \n",
              "8395  حوار خاص مهندس سعودي نباتك فكره تهدف لزراعه مل...   \n",
              "8396                 كريم تطلق خدمه اطلب اي شيء الجديده   \n",
              "8397  تقرير اممي جديد يشير الي تاثير جاءحه فيروس كور...   \n",
              "8398  فريق مشترك يتحقق اوضاع النساء والاطفال داخل قو...   \n",
              "\n",
              "                                                Content  \\\n",
              "0     جاءت جوله التمويل التمهيديه الاولي للشركه بقيا...   \n",
              "1     تعد دراسه الجدوي متطلبا اساسيا لنجاح اي مشروع ...   \n",
              "2     وقالت لجنه نوبل للمره الاولي التاريخ يمكن الان...   \n",
              "3     نشرت الوكاله وثاءق علي الانترنت اعدها موظفوها ...   \n",
              "4     دراسه حديثه قام فريق العلماء جونز هوبكنز ميديس...   \n",
              "...                                                 ...   \n",
              "8394  قالت وكاله بلومبرغ الاثنين ان كبري شركات التكن...   \n",
              "8395  بدات الفكره نعومه اظفاره عندما كان السابعه عمر...   \n",
              "8396  اعلنت منصه كريم 4 فبراير الجاري اطلاق خدمه اطل...   \n",
              "8397  وفقا لتقديرات المكتب الاممي المعني بالمخدرات و...   \n",
              "8398  تاتي الزياره كجزء تنفيذ اتفاقيه السلام المنشطه...   \n",
              "\n",
              "                                                   Link         Category  \n",
              "0     https://ryadiybusiness.com/%d8%aa%d9%8a%d8%b1%...      ريادة أعمال  \n",
              "1     https://ryadiybusiness.com/%d9%83%d9%8a%d9%81-...      ريادة أعمال  \n",
              "2     https://arabic.sputniknews.com/science/2020100...  علوم وتكنولوجيا  \n",
              "3     https://arabic.sputniknews.com/world/202012151...  علوم وتكنولوجيا  \n",
              "4     https://arabic.rt.com//technology/1161864-%D8%...  علوم وتكنولوجيا  \n",
              "...                                                 ...              ...  \n",
              "8394  https://asharq.com/ar/7vNsbHVkd9fTQhBQI70ASx-ق...  علوم وتكنولوجيا  \n",
              "8395       https://news.un.org/ar/story/2020/09/1062802             أخرى  \n",
              "8396  https://ryadiybusiness.com/%d9%83%d8%b1%d9%8a%...      ريادة أعمال  \n",
              "8397       https://news.un.org/ar/story/2020/06/1057232             أخرى  \n",
              "8398       https://news.un.org/ar/story/2019/11/1043621             أخرى  \n",
              "\n",
              "[8386 rows x 4 columns]"
            ],
            "text/html": [
              "\n",
              "  <div id=\"df-a66e92b5-a8cb-4d44-97a8-77d3be422eba\" class=\"colab-df-container\">\n",
              "    <div>\n",
              "<style scoped>\n",
              "    .dataframe tbody tr th:only-of-type {\n",
              "        vertical-align: middle;\n",
              "    }\n",
              "\n",
              "    .dataframe tbody tr th {\n",
              "        vertical-align: top;\n",
              "    }\n",
              "\n",
              "    .dataframe thead th {\n",
              "        text-align: right;\n",
              "    }\n",
              "</style>\n",
              "<table border=\"1\" class=\"dataframe\">\n",
              "  <thead>\n",
              "    <tr style=\"text-align: right;\">\n",
              "      <th></th>\n",
              "      <th>Title</th>\n",
              "      <th>Content</th>\n",
              "      <th>Link</th>\n",
              "      <th>Category</th>\n",
              "    </tr>\n",
              "  </thead>\n",
              "  <tbody>\n",
              "    <tr>\n",
              "      <th>0</th>\n",
              "      <td>تيرتل تري لابز للتقنيات الحيويه تحصل علي تمويل...</td>\n",
              "      <td>جاءت جوله التمويل التمهيديه الاولي للشركه بقيا...</td>\n",
              "      <td>https://ryadiybusiness.com/%d8%aa%d9%8a%d8%b1%...</td>\n",
              "      <td>ريادة أعمال</td>\n",
              "    </tr>\n",
              "    <tr>\n",
              "      <th>1</th>\n",
              "      <td>تعد دراسه الجدوي لمشروعك الناشء 6 عوامل اساسيه</td>\n",
              "      <td>تعد دراسه الجدوي متطلبا اساسيا لنجاح اي مشروع ...</td>\n",
              "      <td>https://ryadiybusiness.com/%d9%83%d9%8a%d9%81-...</td>\n",
              "      <td>ريادة أعمال</td>\n",
              "    </tr>\n",
              "    <tr>\n",
              "      <th>2</th>\n",
              "      <td>منح جاءزه نوبل الطب لاكتشاف مجال التهاب الكبد ...</td>\n",
              "      <td>وقالت لجنه نوبل للمره الاولي التاريخ يمكن الان...</td>\n",
              "      <td>https://arabic.sputniknews.com/science/2020100...</td>\n",
              "      <td>علوم وتكنولوجيا</td>\n",
              "    </tr>\n",
              "    <tr>\n",
              "      <th>3</th>\n",
              "      <td>هيءه الغذاء والدواء الامريكيه لقاح مودرنا حقق ...</td>\n",
              "      <td>نشرت الوكاله وثاءق علي الانترنت اعدها موظفوها ...</td>\n",
              "      <td>https://arabic.sputniknews.com/world/202012151...</td>\n",
              "      <td>علوم وتكنولوجيا</td>\n",
              "    </tr>\n",
              "    <tr>\n",
              "      <th>4</th>\n",
              "      <td>حظر بروتين الجهاز المناعي يساعد علي محاربه عدو...</td>\n",
              "      <td>دراسه حديثه قام فريق العلماء جونز هوبكنز ميديس...</td>\n",
              "      <td>https://arabic.rt.com//technology/1161864-%D8%...</td>\n",
              "      <td>علوم وتكنولوجيا</td>\n",
              "    </tr>\n",
              "    <tr>\n",
              "      <th>...</th>\n",
              "      <td>...</td>\n",
              "      <td>...</td>\n",
              "      <td>...</td>\n",
              "      <td>...</td>\n",
              "    </tr>\n",
              "    <tr>\n",
              "      <th>8394</th>\n",
              "      <td>قواعد اوروبيه تهدد بخفض 10 ايرادات شركات التكن...</td>\n",
              "      <td>قالت وكاله بلومبرغ الاثنين ان كبري شركات التكن...</td>\n",
              "      <td>https://asharq.com/ar/7vNsbHVkd9fTQhBQI70ASx-ق...</td>\n",
              "      <td>علوم وتكنولوجيا</td>\n",
              "    </tr>\n",
              "    <tr>\n",
              "      <th>8395</th>\n",
              "      <td>حوار خاص مهندس سعودي نباتك فكره تهدف لزراعه مل...</td>\n",
              "      <td>بدات الفكره نعومه اظفاره عندما كان السابعه عمر...</td>\n",
              "      <td>https://news.un.org/ar/story/2020/09/1062802</td>\n",
              "      <td>أخرى</td>\n",
              "    </tr>\n",
              "    <tr>\n",
              "      <th>8396</th>\n",
              "      <td>كريم تطلق خدمه اطلب اي شيء الجديده</td>\n",
              "      <td>اعلنت منصه كريم 4 فبراير الجاري اطلاق خدمه اطل...</td>\n",
              "      <td>https://ryadiybusiness.com/%d9%83%d8%b1%d9%8a%...</td>\n",
              "      <td>ريادة أعمال</td>\n",
              "    </tr>\n",
              "    <tr>\n",
              "      <th>8397</th>\n",
              "      <td>تقرير اممي جديد يشير الي تاثير جاءحه فيروس كور...</td>\n",
              "      <td>وفقا لتقديرات المكتب الاممي المعني بالمخدرات و...</td>\n",
              "      <td>https://news.un.org/ar/story/2020/06/1057232</td>\n",
              "      <td>أخرى</td>\n",
              "    </tr>\n",
              "    <tr>\n",
              "      <th>8398</th>\n",
              "      <td>فريق مشترك يتحقق اوضاع النساء والاطفال داخل قو...</td>\n",
              "      <td>تاتي الزياره كجزء تنفيذ اتفاقيه السلام المنشطه...</td>\n",
              "      <td>https://news.un.org/ar/story/2019/11/1043621</td>\n",
              "      <td>أخرى</td>\n",
              "    </tr>\n",
              "  </tbody>\n",
              "</table>\n",
              "<p>8386 rows × 4 columns</p>\n",
              "</div>\n",
              "    <div class=\"colab-df-buttons\">\n",
              "\n",
              "  <div class=\"colab-df-container\">\n",
              "    <button class=\"colab-df-convert\" onclick=\"convertToInteractive('df-a66e92b5-a8cb-4d44-97a8-77d3be422eba')\"\n",
              "            title=\"Convert this dataframe to an interactive table.\"\n",
              "            style=\"display:none;\">\n",
              "\n",
              "  <svg xmlns=\"http://www.w3.org/2000/svg\" height=\"24px\" viewBox=\"0 -960 960 960\">\n",
              "    <path d=\"M120-120v-720h720v720H120Zm60-500h600v-160H180v160Zm220 220h160v-160H400v160Zm0 220h160v-160H400v160ZM180-400h160v-160H180v160Zm440 0h160v-160H620v160ZM180-180h160v-160H180v160Zm440 0h160v-160H620v160Z\"/>\n",
              "  </svg>\n",
              "    </button>\n",
              "\n",
              "  <style>\n",
              "    .colab-df-container {\n",
              "      display:flex;\n",
              "      gap: 12px;\n",
              "    }\n",
              "\n",
              "    .colab-df-convert {\n",
              "      background-color: #E8F0FE;\n",
              "      border: none;\n",
              "      border-radius: 50%;\n",
              "      cursor: pointer;\n",
              "      display: none;\n",
              "      fill: #1967D2;\n",
              "      height: 32px;\n",
              "      padding: 0 0 0 0;\n",
              "      width: 32px;\n",
              "    }\n",
              "\n",
              "    .colab-df-convert:hover {\n",
              "      background-color: #E2EBFA;\n",
              "      box-shadow: 0px 1px 2px rgba(60, 64, 67, 0.3), 0px 1px 3px 1px rgba(60, 64, 67, 0.15);\n",
              "      fill: #174EA6;\n",
              "    }\n",
              "\n",
              "    .colab-df-buttons div {\n",
              "      margin-bottom: 4px;\n",
              "    }\n",
              "\n",
              "    [theme=dark] .colab-df-convert {\n",
              "      background-color: #3B4455;\n",
              "      fill: #D2E3FC;\n",
              "    }\n",
              "\n",
              "    [theme=dark] .colab-df-convert:hover {\n",
              "      background-color: #434B5C;\n",
              "      box-shadow: 0px 1px 3px 1px rgba(0, 0, 0, 0.15);\n",
              "      filter: drop-shadow(0px 1px 2px rgba(0, 0, 0, 0.3));\n",
              "      fill: #FFFFFF;\n",
              "    }\n",
              "  </style>\n",
              "\n",
              "    <script>\n",
              "      const buttonEl =\n",
              "        document.querySelector('#df-a66e92b5-a8cb-4d44-97a8-77d3be422eba button.colab-df-convert');\n",
              "      buttonEl.style.display =\n",
              "        google.colab.kernel.accessAllowed ? 'block' : 'none';\n",
              "\n",
              "      async function convertToInteractive(key) {\n",
              "        const element = document.querySelector('#df-a66e92b5-a8cb-4d44-97a8-77d3be422eba');\n",
              "        const dataTable =\n",
              "          await google.colab.kernel.invokeFunction('convertToInteractive',\n",
              "                                                    [key], {});\n",
              "        if (!dataTable) return;\n",
              "\n",
              "        const docLinkHtml = 'Like what you see? Visit the ' +\n",
              "          '<a target=\"_blank\" href=https://colab.research.google.com/notebooks/data_table.ipynb>data table notebook</a>'\n",
              "          + ' to learn more about interactive tables.';\n",
              "        element.innerHTML = '';\n",
              "        dataTable['output_type'] = 'display_data';\n",
              "        await google.colab.output.renderOutput(dataTable, element);\n",
              "        const docLink = document.createElement('div');\n",
              "        docLink.innerHTML = docLinkHtml;\n",
              "        element.appendChild(docLink);\n",
              "      }\n",
              "    </script>\n",
              "  </div>\n",
              "\n",
              "\n",
              "<div id=\"df-e7557e2a-a2e2-4479-95ed-5e5cfe3caf78\">\n",
              "  <button class=\"colab-df-quickchart\" onclick=\"quickchart('df-e7557e2a-a2e2-4479-95ed-5e5cfe3caf78')\"\n",
              "            title=\"Suggest charts\"\n",
              "            style=\"display:none;\">\n",
              "\n",
              "<svg xmlns=\"http://www.w3.org/2000/svg\" height=\"24px\"viewBox=\"0 0 24 24\"\n",
              "     width=\"24px\">\n",
              "    <g>\n",
              "        <path d=\"M19 3H5c-1.1 0-2 .9-2 2v14c0 1.1.9 2 2 2h14c1.1 0 2-.9 2-2V5c0-1.1-.9-2-2-2zM9 17H7v-7h2v7zm4 0h-2V7h2v10zm4 0h-2v-4h2v4z\"/>\n",
              "    </g>\n",
              "</svg>\n",
              "  </button>\n",
              "\n",
              "<style>\n",
              "  .colab-df-quickchart {\n",
              "      --bg-color: #E8F0FE;\n",
              "      --fill-color: #1967D2;\n",
              "      --hover-bg-color: #E2EBFA;\n",
              "      --hover-fill-color: #174EA6;\n",
              "      --disabled-fill-color: #AAA;\n",
              "      --disabled-bg-color: #DDD;\n",
              "  }\n",
              "\n",
              "  [theme=dark] .colab-df-quickchart {\n",
              "      --bg-color: #3B4455;\n",
              "      --fill-color: #D2E3FC;\n",
              "      --hover-bg-color: #434B5C;\n",
              "      --hover-fill-color: #FFFFFF;\n",
              "      --disabled-bg-color: #3B4455;\n",
              "      --disabled-fill-color: #666;\n",
              "  }\n",
              "\n",
              "  .colab-df-quickchart {\n",
              "    background-color: var(--bg-color);\n",
              "    border: none;\n",
              "    border-radius: 50%;\n",
              "    cursor: pointer;\n",
              "    display: none;\n",
              "    fill: var(--fill-color);\n",
              "    height: 32px;\n",
              "    padding: 0;\n",
              "    width: 32px;\n",
              "  }\n",
              "\n",
              "  .colab-df-quickchart:hover {\n",
              "    background-color: var(--hover-bg-color);\n",
              "    box-shadow: 0 1px 2px rgba(60, 64, 67, 0.3), 0 1px 3px 1px rgba(60, 64, 67, 0.15);\n",
              "    fill: var(--button-hover-fill-color);\n",
              "  }\n",
              "\n",
              "  .colab-df-quickchart-complete:disabled,\n",
              "  .colab-df-quickchart-complete:disabled:hover {\n",
              "    background-color: var(--disabled-bg-color);\n",
              "    fill: var(--disabled-fill-color);\n",
              "    box-shadow: none;\n",
              "  }\n",
              "\n",
              "  .colab-df-spinner {\n",
              "    border: 2px solid var(--fill-color);\n",
              "    border-color: transparent;\n",
              "    border-bottom-color: var(--fill-color);\n",
              "    animation:\n",
              "      spin 1s steps(1) infinite;\n",
              "  }\n",
              "\n",
              "  @keyframes spin {\n",
              "    0% {\n",
              "      border-color: transparent;\n",
              "      border-bottom-color: var(--fill-color);\n",
              "      border-left-color: var(--fill-color);\n",
              "    }\n",
              "    20% {\n",
              "      border-color: transparent;\n",
              "      border-left-color: var(--fill-color);\n",
              "      border-top-color: var(--fill-color);\n",
              "    }\n",
              "    30% {\n",
              "      border-color: transparent;\n",
              "      border-left-color: var(--fill-color);\n",
              "      border-top-color: var(--fill-color);\n",
              "      border-right-color: var(--fill-color);\n",
              "    }\n",
              "    40% {\n",
              "      border-color: transparent;\n",
              "      border-right-color: var(--fill-color);\n",
              "      border-top-color: var(--fill-color);\n",
              "    }\n",
              "    60% {\n",
              "      border-color: transparent;\n",
              "      border-right-color: var(--fill-color);\n",
              "    }\n",
              "    80% {\n",
              "      border-color: transparent;\n",
              "      border-right-color: var(--fill-color);\n",
              "      border-bottom-color: var(--fill-color);\n",
              "    }\n",
              "    90% {\n",
              "      border-color: transparent;\n",
              "      border-bottom-color: var(--fill-color);\n",
              "    }\n",
              "  }\n",
              "</style>\n",
              "\n",
              "  <script>\n",
              "    async function quickchart(key) {\n",
              "      const quickchartButtonEl =\n",
              "        document.querySelector('#' + key + ' button');\n",
              "      quickchartButtonEl.disabled = true;  // To prevent multiple clicks.\n",
              "      quickchartButtonEl.classList.add('colab-df-spinner');\n",
              "      try {\n",
              "        const charts = await google.colab.kernel.invokeFunction(\n",
              "            'suggestCharts', [key], {});\n",
              "      } catch (error) {\n",
              "        console.error('Error during call to suggestCharts:', error);\n",
              "      }\n",
              "      quickchartButtonEl.classList.remove('colab-df-spinner');\n",
              "      quickchartButtonEl.classList.add('colab-df-quickchart-complete');\n",
              "    }\n",
              "    (() => {\n",
              "      let quickchartButtonEl =\n",
              "        document.querySelector('#df-e7557e2a-a2e2-4479-95ed-5e5cfe3caf78 button');\n",
              "      quickchartButtonEl.style.display =\n",
              "        google.colab.kernel.accessAllowed ? 'block' : 'none';\n",
              "    })();\n",
              "  </script>\n",
              "</div>\n",
              "\n",
              "  <div id=\"id_2adb6aef-7d41-439e-86fd-4529ad6150eb\">\n",
              "    <style>\n",
              "      .colab-df-generate {\n",
              "        background-color: #E8F0FE;\n",
              "        border: none;\n",
              "        border-radius: 50%;\n",
              "        cursor: pointer;\n",
              "        display: none;\n",
              "        fill: #1967D2;\n",
              "        height: 32px;\n",
              "        padding: 0 0 0 0;\n",
              "        width: 32px;\n",
              "      }\n",
              "\n",
              "      .colab-df-generate:hover {\n",
              "        background-color: #E2EBFA;\n",
              "        box-shadow: 0px 1px 2px rgba(60, 64, 67, 0.3), 0px 1px 3px 1px rgba(60, 64, 67, 0.15);\n",
              "        fill: #174EA6;\n",
              "      }\n",
              "\n",
              "      [theme=dark] .colab-df-generate {\n",
              "        background-color: #3B4455;\n",
              "        fill: #D2E3FC;\n",
              "      }\n",
              "\n",
              "      [theme=dark] .colab-df-generate:hover {\n",
              "        background-color: #434B5C;\n",
              "        box-shadow: 0px 1px 3px 1px rgba(0, 0, 0, 0.15);\n",
              "        filter: drop-shadow(0px 1px 2px rgba(0, 0, 0, 0.3));\n",
              "        fill: #FFFFFF;\n",
              "      }\n",
              "    </style>\n",
              "    <button class=\"colab-df-generate\" onclick=\"generateWithVariable('df')\"\n",
              "            title=\"Generate code using this dataframe.\"\n",
              "            style=\"display:none;\">\n",
              "\n",
              "  <svg xmlns=\"http://www.w3.org/2000/svg\" height=\"24px\"viewBox=\"0 0 24 24\"\n",
              "       width=\"24px\">\n",
              "    <path d=\"M7,19H8.4L18.45,9,17,7.55,7,17.6ZM5,21V16.75L18.45,3.32a2,2,0,0,1,2.83,0l1.4,1.43a1.91,1.91,0,0,1,.58,1.4,1.91,1.91,0,0,1-.58,1.4L9.25,21ZM18.45,9,17,7.55Zm-12,3A5.31,5.31,0,0,0,4.9,8.1,5.31,5.31,0,0,0,1,6.5,5.31,5.31,0,0,0,4.9,4.9,5.31,5.31,0,0,0,6.5,1,5.31,5.31,0,0,0,8.1,4.9,5.31,5.31,0,0,0,12,6.5,5.46,5.46,0,0,0,6.5,12Z\"/>\n",
              "  </svg>\n",
              "    </button>\n",
              "    <script>\n",
              "      (() => {\n",
              "      const buttonEl =\n",
              "        document.querySelector('#id_2adb6aef-7d41-439e-86fd-4529ad6150eb button.colab-df-generate');\n",
              "      buttonEl.style.display =\n",
              "        google.colab.kernel.accessAllowed ? 'block' : 'none';\n",
              "\n",
              "      buttonEl.onclick = () => {\n",
              "        google.colab.notebook.generateWithVariable('df');\n",
              "      }\n",
              "      })();\n",
              "    </script>\n",
              "  </div>\n",
              "\n",
              "    </div>\n",
              "  </div>\n"
            ],
            "application/vnd.google.colaboratory.intrinsic+json": {
              "type": "dataframe",
              "variable_name": "df",
              "summary": "{\n  \"name\": \"df\",\n  \"rows\": 8386,\n  \"fields\": [\n    {\n      \"column\": \"Title\",\n      \"properties\": {\n        \"dtype\": \"string\",\n        \"num_unique_values\": 7938,\n        \"samples\": [\n          \"\\u062a\\u0633\\u0631\\u064a\\u0628\\u0627\\u062a \\u062a\\u0643\\u0634\\u0641 \\u0642\\u0627\\u0621\\u0645\\u0647 \\u0627\\u0633\\u0639\\u0627\\u0631 \\u0647\\u0648\\u0627\\u062a\\u0641 \\u0627\\u064a\\u0641\\u0648\\u0646 12 \\u0627\\u0644\\u062c\\u062f\\u064a\\u062f\\u0647\",\n          \"\\u0631\\u0633\\u0645\\u064a\\u0627 \\u0627\\u0631\\u0627\\u0645\\u0643\\u0648 \\u0627\\u0644\\u0633\\u0639\\u0648\\u062f\\u064a\\u0647\\u0627\\u0643\\u0628\\u0631 \\u062d\\u0635\\u064a\\u0644\\u0647 \\u0627\\u0648\\u0644\\u064a\\u0647 \\u0644\\u0627\\u0643\\u062a\\u062a\\u0627\\u0628 \\u0627\\u0644\\u0639\\u0627\\u0644\\u0645 \\u0648\\u062a\\u062c\\u0645\\u0639 96\",\n          \"\\u0627\\u0648\\u0644 \\u0631\\u062d\\u0644\\u0647 \\u062a\\u062c\\u0631\\u064a\\u0628\\u064a\\u0647 \\u0645\\u0627\\u0647\\u0648\\u0644\\u0647 \\u0644\\u0647\\u0627\\u064a\\u0628\\u0631\\u0644\\u0648\\u0628\"\n        ],\n        \"semantic_type\": \"\",\n        \"description\": \"\"\n      }\n    },\n    {\n      \"column\": \"Content\",\n      \"properties\": {\n        \"dtype\": \"string\",\n        \"num_unique_values\": 7923,\n        \"samples\": [\n          \"\\u0648\\u0627\\u0634\\u0627\\u0631\\u062a \\u063a\\u0648\\u063a\\u0644 \\u0628\\u062d\\u0633\\u0628 \\u0646\\u0642\\u0644\\u0647 \\u0645\\u0648\\u0642\\u0639 \\u062a\\u0627\\u064a\\u0645\\u0632 \\u0646\\u064a\\u0648\\u0632 \\u0646\\u0627\\u0648 \\u0633\\u064a\\u0645\\u0646\\u062d \\u0627\\u0644\\u0645\\u0633\\u062a\\u062e\\u062f\\u0645\\u0648\\u0646 \\u0645\\u062f\\u0647 \\u0644\\u0644\\u0627\\u062c\\u062a\\u0645\\u0627\\u0639\\u0627\\u062a \\u0645\\u062c\\u0627\\u0646\\u0627 \\u0641\\u0642\\u0637 \\u062a\\u0635\\u0644 \\u0627\\u0644\\u064a 60 \\u062f\\u0642\\u064a\\u0642\\u0647 \\u0648\\u0628\\u0639\\u062f\\u0647\\u0627 \\u0633\\u064a\\u062d\\u062a\\u0627\\u062c \\u0627\\u0644\\u0645\\u0633\\u062a\\u062e\\u062f\\u0645 \\u0627\\u0644\\u064a \\u0627\\u0644\\u0628\\u062f\\u0621 \\u062e\\u062f\\u0645\\u0647 \\u0645\\u062f\\u0641\\u0648\\u0639\\u0647 \\u0627\\u0644\\u0627\\u062c\\u0631\\u062d\\u062a\\u064a 30 \\u0633\\u0628\\u062a\\u0645\\u0628\\u0631 \\u062a\\u0645 \\u0627\\u0644\\u0633\\u0645\\u0627\\u062d \\u0644\\u0627\\u064a \\u0634\\u062e\\u0635 \\u0644\\u062f\\u064a\\u0647 \\u062d\\u0633\\u0627\\u0628 \\u063a\\u0648\\u063a\\u0644 \\u0628\\u0627\\u0646\\u0634\\u0627\\u0621 \\u0627\\u062c\\u062a\\u0645\\u0627\\u0639\\u0627\\u062a \\u0645\\u062c\\u0627\\u0646\\u064a\\u0647 \\u064a\\u0635\\u0644 \\u0627\\u0644\\u064a 100 \\u0634\\u062e\\u0635 \\u062d\\u062f \\u0632\\u0645\\u0646\\u064a\\u0642\\u0627\\u0644 \\u0645\\u062a\\u062d\\u062f\\u062b \\u0628\\u0627\\u0633\\u0645 \\u063a\\u0648\\u063a\\u0644 \\u0644\\u062f\\u064a\\u0646\\u0627 \\u0627\\u064a \\u0634\\u064a\\u0621 \\u0646\\u062a\\u0648\\u0627\\u0635\\u0644 \\u0645\\u0639\\u0647 \\u0628\\u062e\\u0635\\u0648\\u0635 \\u0627\\u0644\\u062a\\u063a\\u064a\\u064a\\u0631\\u0627\\u062a \\u062a\\u0645 \\u0627\\u062c\\u0631\\u0627\\u0621\\u0647\\u0627 \\u0639\\u0644\\u064a \\u0627\\u0644\\u0639\\u0631\\u0636 \\u0627\\u0644\\u062a\\u0631\\u0648\\u064a\\u062c\\u064a \\u0648\\u0627\\u0646\\u062a\\u0647\\u0627\\u0621 \\u0635\\u0644\\u0627\\u062d\\u064a\\u0647 \\u0627\\u0644\\u0645\\u064a\\u0632\\u0627\\u062a \\u0627\\u0644\\u0645\\u062a\\u0642\\u062f\\u0645\\u0647\\u0648\\u062a\\u0627\\u0628\\u0639 \\u0627\\u0630\\u0627 \\u062a\\u063a\\u064a\\u0631 \\u0641\\u0633\\u0646\\u062d\\u0631\\u0635 \\u0639\\u0644\\u064a \\u0627\\u0639\\u0644\\u0627\\u0645\\u0643 \\u0628\\u0630\\u0644\\u0643\\u0627\\u0639\\u062a\\u0628\\u0627\\u0631\\u0627 30 \\u0633\\u0628\\u062a\\u0645\\u0628\\u0631 \\u0627\\u0644\\u0648\\u0635\\u0648\\u0644 \\u0627\\u0644\\u064a \\u0627\\u0644\\u0645\\u064a\\u0632\\u0627\\u062a \\u0627\\u0644\\u0645\\u062a\\u0642\\u062f\\u0645\\u0647 \\u0644\\u0639\\u0645\\u0644\\u0627\\u0621 \\u062c\\u064a \\u0633\\u064a\\u0648\\u062a \\u0627\\u0648 \\u062e\\u062f\\u0645\\u0647 \\u062c\\u064a \\u0633\\u064a\\u0648\\u062a \\u0644\\u0644\\u062a\\u0639\\u0644\\u0645 \\u0627\\u0644\\u0633\\u0645\\u0627\\u062d \\u0628\\u0627\\u062c\\u062a\\u0645\\u0627\\u0639\\u0627\\u062a \\u064a\\u0635\\u0644 \\u0627\\u0644\\u064a 250 \\u0645\\u0634\\u0627\\u0631\\u0643\\u0627 \\u0648\\u0627\\u0644\\u0628\\u062b \\u0627\\u0644\\u0645\\u0628\\u0627\\u0634\\u0631 \\u064a\\u0635\\u0644 \\u0627\\u0644\\u064a 100000 \\u0634\\u062e\\u0635 \\u0646\\u0637\\u0627\\u0642 \\u0648\\u0627\\u062d\\u062f \\u0648\\u0627\\u0644\\u0642\\u062f\\u0631\\u0647 \\u0639\\u0644\\u064a \\u062d\\u0641\\u0638 \\u062a\\u0633\\u062c\\u064a\\u0644\\u0627\\u062a \\u0627\\u0644\\u0627\\u062c\\u062a\\u0645\\u0627\\u0639\\u0627\\u062a \\u0639\\u0644\\u064a \\u063a\\u0648\\u063a\\u0644 \\u062f\\u0631\\u0627\\u064a\\u0641 \\u0627\\u064a\\u0636\\u0627 \\u064a\\u0643\\u0648\\u0646 \\u0647\\u0646\\u0627\\u0643\\u0648\\u0633\\u0645\\u062d\\u062a \\u063a\\u0648\\u063a\\u0644 \\u0628\\u0627\\u0644\\u0648\\u0635\\u0648\\u0644 \\u0627\\u0644\\u0645\\u062c\\u0627\\u0646\\u064a \\u0627\\u0644\\u064a \\u0645\\u064a\\u0632\\u0627\\u062a \\u0645\\u064a\\u062a \\u0627\\u0644\\u0645\\u062a\\u0642\\u062f\\u0645\\u0647 \\u0644\\u062c\\u0645\\u064a\\u0639 \\u0639\\u0645\\u0644\\u0627\\u0621 \\u062c\\u064a \\u0633\\u064a\\u0648\\u062a \\u0645\\u062b\\u0644 \\u0627\\u0644\\u0642\\u062f\\u0631\\u0647 \\u0639\\u0644\\u064a \\u0627\\u0644\\u0628\\u062b \\u0627\\u0644\\u0645\\u0628\\u0627\\u0634\\u0631 \\u064a\\u0635\\u0644 \\u0627\\u0644\\u064a 100000 \\u0645\\u0634\\u0627\\u0647\\u062f \\u062f\\u0627\\u062e\\u0644 \\u0646\\u0637\\u0627\\u0642\\u0647\\u0645 \\u0628\\u0645\\u0642\\u0627\\u0628\\u0644 \\u0645\\u0627\\u062f\\u064a\\u0648\\u0633\\u064a\\u0643\\u0648\\u0646 \\u062a\\u0643\\u0644\\u0641\\u0647 25 \\u062f\\u0648\\u0644\\u0627\\u0631\\u0627 \\u0627\\u0645\\u0631\\u064a\\u0643\\u064a \\u0644\\u0643\\u0644 \\u0645\\u0633\\u062a\\u062e\\u062f\\u0645 \\u0634\\u0647\\u0631\\u064a\\u0627\\u0648\\u062d\\u0642\\u0642\\u062a \\u062e\\u062f\\u0645\\u0647 \\u063a\\u0648\\u063a\\u0644 \\u0645\\u064a\\u062a \\u0646\\u0645\\u0648\\u0627 \\u0628\\u0645\\u0639\\u062f\\u0644 30 \\u0645\\u0631\\u0647 \\u0627\\u0644\\u0627\\u0633\\u062a\\u062e\\u062f\\u0627\\u0645 \\u0627\\u0644\\u064a\\u0648\\u0645\\u064a \\u0648\\u0635\\u0644 \\u0639\\u062f\\u062f \\u062f\\u0642\\u0627\\u0621\\u0642 \\u0627\\u062c\\u062a\\u0645\\u0627\\u0639\\u0627\\u062a \\u0627\\u0644\\u0641\\u064a\\u062f\\u064a\\u0648 \\u064a\\u0648\\u0645\\u064a\\u0627 \\u0627\\u0644\\u064a 3 \\u0645\\u0644\\u064a\\u0627\\u0631\\u0627\\u062a \\u062f\\u0642\\u064a\\u0642\\u0647\",\n          \"\\u0627\\u0639\\u0644\\u0646 \\u0627\\u0644\\u0639\\u0627\\u0644\\u0645\\u0627\\u0646 \\u0641\\u0643\\u062a\\u0648\\u0631 \\u0628\\u0648\\u0643\\u0648\\u0641 \\u0648\\u0628\\u064a\\u0648\\u062a\\u0631 \\u0634\\u064a\\u0628\\u0627\\u0644\\u064a\\u0646 \\u0627\\u0646 \\u0627\\u0644\\u0647\\u0632\\u0647 \\u0627\\u0644\\u0627\\u0631\\u0636\\u064a\\u0647 \\u0648\\u0642\\u0639\\u062a \\u0645\\u0646\\u0637\\u0642\\u0647 \\u0628\\u0627\\u064a\\u0643\\u0627\\u0644 \\u062a\\u0643\\u0646 \\u0627\\u0639\\u062a\\u064a\\u0627\\u062f\\u064a\\u0647 \\u0648\\u0643\\u0627\\u0646\\u062a \\u0642\\u0648\\u064a\\u0647 \\u0646\\u0633\\u0628\\u064a\\u0627 \\u0648\\u0627\\u0634\\u0627\\u0631 \\u0627\\u0644\\u0639\\u0627\\u0644\\u0645\\u0627\\u0646 \\u062d\\u062f\\u064a\\u062b\\u0647\\u0645\\u0627 \\u0644\\u0648\\u0643\\u0627\\u0644\\u0647 FAN \\u0627\\u0644\\u0631\\u0648\\u0633\\u064a\\u0647 \\u0644\\u0644\\u0627\\u0646\\u0628\\u0627\\u0621 \\u0627\\u0644\\u064a \\u0627\\u0646\\u0647 \\u064a\\u0645\\u0643\\u0646 \\u0627\\u0639\\u062a\\u0628\\u0627\\u0631 \\u0627\\u0644\\u0647\\u0632\\u0647 \\u0627\\u0644\\u0627\\u0631\\u0636\\u064a\\u0647 \\u0648\\u0642\\u0639\\u062a \\u0644\\u064a\\u0644\\u0647 \\u064a\\u0648\\u0645 22 \\u0633\\u0628\\u062a\\u0645\\u0628\\u0631 2020 \\u0645\\u0642\\u0627\\u0637\\u0639\\u0647 \\u0627\\u064a\\u0631\\u0643\\u0648\\u062a\\u0633\\u0643 \\u0627\\u0639\\u062a\\u064a\\u0627\\u062f\\u064a\\u0647 \\u0644\\u0627\\u0646 \\u0634\\u062f\\u062a\\u0647\\u0627 \\u0628\\u0644\\u063a\\u062a 59 \\u062f\\u0631\\u062c\\u0647\\u0648\\u064a\\u0642\\u0648\\u0644 \\u0628\\u064a\\u0648\\u062a\\u0631 \\u0634\\u064a\\u0628\\u0627\\u0644\\u064a\\u0646 \\u0645\\u062f\\u064a\\u0631 \\u0645\\u0639\\u0647\\u062f \\u0646\\u0638\\u0631\\u064a\\u0647 \\u0627\\u0644\\u062a\\u0646\\u0628\\u0621 \\u0628\\u0627\\u0644\\u0632\\u0644\\u0627\\u0632\\u0644 \\u0648\\u0627\\u0644\\u062c\\u064a\\u0648\\u0641\\u064a\\u0632\\u064a\\u0627\\u0621 \\u0627\\u0644\\u0631\\u064a\\u0627\\u0636\\u064a\\u0647 \\u0627\\u0644\\u062a\\u0627\\u0628\\u0639 \\u0644\\u0627\\u0643\\u0627\\u062f\\u064a\\u0645\\u064a\\u0647 \\u0627\\u0644\\u0639\\u0644\\u0648\\u0645 \\u0627\\u0644\\u0631\\u0648\\u0633\\u064a\\u0647 \\u0643\\u0627\\u0646\\u062a \\u0627\\u0644\\u0647\\u0632\\u0647 \\u0627\\u0644\\u0627\\u0631\\u0636\\u064a\\u0647 \\u0642\\u0648\\u064a\\u0647 \\u0648\\u0644\\u064a\\u0633 \\u0627\\u0639\\u062a\\u064a\\u0627\\u062f\\u064a\\u0647 \\u0648\\u0645\\u0639 \\u064a\\u0645\\u0643\\u0646 \\u0627\\u0646 \\u062a\\u0646\\u0633\\u0628 \\u0627\\u0644\\u064a \\u0627\\u0644\\u0647\\u0632\\u0627\\u062a \\u0627\\u0644\\u0642\\u0648\\u064a\\u0647 \\u062c\\u062f\\u0627 \\u0641\\u0645\\u062b\\u0644\\u0627 \\u0639\\u0627\\u0645 2008 \\u0648\\u0642\\u0639\\u062a \\u0647\\u0632\\u0647 \\u0627\\u0631\\u0636\\u064a\\u0647 \\u0628\\u0644\\u063a\\u062a \\u0634\\u062f\\u062a\\u0647\\u0627 63 \\u062f\\u0631\\u062c\\u0647 \\u0648\\u0647\\u0630\\u0647 \\u0637\\u0627\\u0642\\u0647 \\u0647\\u0627\\u0621\\u0644\\u0647 \\u0639\\u0644\\u064a \\u0627\\u0644\\u0627\\u0642\\u0644 \\u0627\\u0643\\u0628\\u0631 \\u0628\\u0639\\u0634\\u0631 \\u0645\\u0631\\u0627\\u062a \\u0627\\u0644\\u0647\\u0632\\u0647 \\u0627\\u0644\\u0627\\u0631\\u0636\\u064a\\u0647 \\u0648\\u0642\\u0639\\u062a \\u0627\\u0645\\u0633\\u0648\\u0645\\u0646 \\u062c\\u0627\\u0646\\u0628\\u0647 \\u064a\\u0634\\u064a\\u0631 \\u0627\\u0644\\u0639\\u0627\\u0644\\u0645 \\u0641\\u0643\\u062a\\u0648\\u0631 \\u0628\\u0648\\u0628\\u0643\\u0648\\u0641 \\u0642\\u0633\\u0645 \\u062a\\u0648\\u0642\\u0639\\u0627\\u062a \\u0627\\u0644\\u0637\\u0642\\u0633 \\u062c\\u0627\\u0645\\u0639\\u0647 \\u0627\\u0644\\u0627\\u0631\\u0635\\u0627\\u062f \\u0627\\u0644\\u062c\\u0648\\u064a\\u0647 \\u0648\\u0627\\u0644\\u0645\\u0627\\u0621\\u064a\\u0647 \\u0627\\u0644\\u062d\\u0643\\u0648\\u0645\\u064a\\u0647 \\u0627\\u0644\\u0631\\u0648\\u0633\\u064a\\u0647 \\u0627\\u0646 \\u0645\\u062b\\u0644 \\u0627\\u0644\\u0647\\u0632\\u0627\\u062a \\u0627\\u0644\\u0642\\u0648\\u064a\\u0647 \\u0646\\u0627\\u062f\\u0631\\u0647 \\u0627\\u0644\\u062d\\u062f\\u0648\\u062b \\u0645\\u0646\\u0637\\u0642\\u0647 \\u0628\\u0627\\u064a\\u0643\\u0627\\u0644\\u0648\\u0642\\u0627\\u0644 \\u0647\\u0632\\u0647 \\u0627\\u0631\\u0636\\u064a\\u0647 \\u0642\\u0648\\u064a\\u0647 \\u0646\\u0633\\u0628\\u064a\\u0627 \\u0648\\u0644\\u0643\\u0646\\u0647\\u0627 \\u0646\\u0627\\u062f\\u0631\\u0647 \\u0627\\u0644\\u0645\\u0646\\u0637\\u0642\\u0647 \\u0646\\u062a\\u0648\\u0642\\u0639 \\u062d\\u062f\\u0648\\u062b \\u0647\\u0632\\u0627\\u062a \\u0627\\u0631\\u0636\\u064a\\u0647 \\u0627\\u0644\\u0645\\u0646\\u0637\\u0642\\u0647 \\u0634\\u062f\\u062a\\u0647\\u0627 \\u0628\\u062d\\u062f\\u0648\\u062f 35 \\u062f\\u0631\\u062c\\u0647 \\u0644\\u0630\\u0644\\u0643 \\u064a\\u0645\\u0643\\u0646 \\u0627\\u0639\\u062a\\u0628\\u0627\\u0631 \\u0627\\u0644\\u0647\\u0632\\u0647 \\u0627\\u0644\\u0627\\u0631\\u0636\\u064a\\u0647 \\u0627\\u0644\\u0627\\u062e\\u064a\\u0631\\u0647 \\u0642\\u0648\\u064a\\u0647 \\u0646\\u0633\\u0628\\u064a\\u0627\\u0648\\u0648\\u0641\\u0642\\u0627 \\u0644\\u0644\\u062a\\u0642\\u0627\\u0631\\u064a\\u0631 \\u0627\\u0644\\u0627\\u0639\\u0644\\u0627\\u0645\\u064a\\u0647 \\u0634\\u0639\\u0631 \\u0633\\u0643\\u0627\\u0646 400 \\u0645\\u0631\\u0643\\u0632 \\u0633\\u0643\\u0646\\u064a \\u0628\\u0647\\u0630\\u0647 \\u0627\\u0644\\u0647\\u0632\\u0647 \\u0627\\u0644\\u0627\\u0631\\u0636\\u064a\\u0647 \\u062a\\u0628\\u0639\\u062a\\u0647\\u0627 \\u0647\\u0632\\u0647 \\u0627\\u0631\\u062a\\u062f\\u0627\\u062f\\u064a\\u0647 \\u062e\\u0644\\u0627\\u0644 15 \\u062f\\u0642\\u064a\\u0642\\u0647 \\u0638\\u0627\\u0647\\u0631\\u0647 \\u0645\\u0645\\u064a\\u0632\\u0647 \\u0644\\u0644\\u0647\\u0632\\u0627\\u062a \\u0627\\u0644\\u0627\\u0631\\u0636\\u064a\\u0647 \\u062a\\u0631\\u062a\\u0628\\u0637 \\u0628\\u0627\\u0644\\u0637\\u0627\\u0642\\u0647 \\u0627\\u0644\\u0645\\u0646\\u0637\\u0644\\u0642\\u0647 \\u0627\\u0644\\u0642\\u0634\\u0631\\u0647 \\u0627\\u0644\\u0627\\u0631\\u0636\\u064a\\u0647\\u0627\\u0644\\u0645\\u0635\\u062f\\u0631 \\u0646\\u0648\\u0641\\u0648\\u0633\\u062a\\u064a\",\n          \"\\u062c\\u0627\\u0621 \\u0628\\u064a\\u0627\\u0646 \\u0645\\u0646\\u0633\\u0648\\u0628 \\u0627\\u0644\\u064a \\u0627\\u0644\\u0645\\u062a\\u062d\\u062f\\u062b \\u0628\\u0627\\u0633\\u0645\\u0647 \\u0633\\u062a\\u064a\\u0641\\u0627\\u0646 \\u062f\\u0648\\u062c\\u0627\\u0631\\u064a\\u0643 \\u0635\\u0627\\u062f\\u0631 \\u0635\\u0628\\u0627\\u062d \\u0627\\u0644\\u064a\\u0648\\u0645 \\u0627\\u0644\\u0627\\u062b\\u0646\\u064a\\u0646 \\u062d\\u062b \\u062c\\u062f\\u064a\\u062f \\u0639\\u0644\\u064a \\u0636\\u0628\\u0637 \\u0627\\u0644\\u0646\\u0641\\u0633 \\u0627\\u0644\\u064a \\u0627\\u0642\\u0635\\u064a \\u062d\\u062f \\u0645\\u0634\\u062f\\u062f\\u0627 \\u0639\\u0644\\u064a \\u0627\\u0646 \\u0627\\u064a \\u0639\\u0645\\u0644\\u064a\\u0647 \\u0639\\u0633\\u0643\\u0631\\u064a\\u0647 \\u064a\\u062c\\u0628 \\u0627\\u0646 \\u062a\\u062d\\u062a\\u0631\\u0645 \\u0627\\u0644\\u0642\\u0627\\u0646\\u0648\\u0646 \\u0627\\u0644\\u062f\\u0648\\u0644\\u064a \\u0627\\u062d\\u062a\\u0631\\u0627\\u0645\\u0627 \\u0643\\u0627\\u0645\\u0644\\u0627 \\u0645\\u064a\\u062b\\u0627\\u0642 \\u0627\\u0644\\u0627\\u0645\\u0645 \\u0627\\u0644\\u0645\\u062a\\u062d\\u062f\\u0647 \\u0648\\u0627\\u0644\\u0642\\u0627\\u0646\\u0648\\u0646 \\u0627\\u0644\\u0627\\u0646\\u0633\\u0627\\u0646\\u064a \\u0627\\u0644\\u062f\\u0648\\u0644\\u064a\\u0648\\u062f\\u0639\\u0627 \\u0627\\u0644\\u0627\\u0645\\u064a\\u0646 \\u0627\\u0644\\u0639\\u0627\\u0645 \\u0628\\u064a\\u0627\\u0646\\u0647 \\u0627\\u0644\\u064a \\u0648\\u0642\\u0641 \\u0627\\u0644\\u062a\\u0635\\u0639\\u064a\\u062f \\u0627\\u0644\\u0641\\u0648\\u0631\\u064a \\u0648\\u062d\\u062b \\u062c\\u0645\\u064a\\u0639 \\u0627\\u0644\\u0627\\u0637\\u0631\\u0627\\u0641 \\u0639\\u0644\\u064a \\u062d\\u0644 \\u0634\\u0648\\u0627\\u063a\\u0644\\u0647\\u0627 \\u0628\\u0627\\u0644\\u0648\\u0633\\u0627\\u0621\\u0644 \\u0627\\u0644\\u0633\\u0644\\u0645\\u064a\\u0647\\u0643\\u0645\\u0627 \\u0627\\u0643\\u062f \\u0627\\u0644\\u0627\\u0645\\u064a\\u0646 \\u0627\\u0644\\u0639\\u0627\\u0645 \\u0639\\u0644\\u064a \\u0648\\u062c\\u0648\\u0628 \\u062d\\u0645\\u0627\\u064a\\u0647 \\u0627\\u0644\\u0645\\u062f\\u0646\\u064a\\u064a\\u0646 \\u064a\\u0634\\u0627\\u0631\\u0643\\u0648\\u0646 \\u0627\\u0644\\u0627\\u0639\\u0645\\u0627\\u0644 \\u0627\\u0644\\u0639\\u062f\\u0627\\u0621\\u064a\\u0647 \\u062c\\u0645\\u064a\\u0639 \\u0627\\u0644\\u0627\\u0648\\u0642\\u0627\\u062a \\u0648\\u062f\\u0639\\u0627 \\u0627\\u064a\\u0636\\u0627 \\u0627\\u0644\\u064a \\u062d\\u0645\\u0627\\u064a\\u0647 \\u0627\\u0644\\u0628\\u0646\\u064a\\u0647 \\u0627\\u0644\\u062a\\u062d\\u062a\\u064a\\u0647 \\u0627\\u0644\\u0645\\u062f\\u0646\\u064a\\u0647 \\u0648\\u0641\\u0642\\u0627 \\u0644\\u0644\\u0642\\u0627\\u0646\\u0648\\u0646 \\u0627\\u0644\\u0627\\u0646\\u0633\\u0627\\u0646\\u064a \\u0627\\u0644\\u062f\\u0648\\u0644\\u064a \\u0648\\u0627\\u0630 \\u0627\\u0634\\u0627\\u0631 \\u0627\\u0644\\u064a \\u0636\\u0639\\u0641 \\u0627\\u0644\\u0645\\u0634\\u0631\\u062f\\u064a\\u0646 \\u062f\\u0627\\u062e\\u0644\\u064a\\u0627 \\u0628\\u0648\\u062c\\u0647 \\u062e\\u0627\\u0635 \\u0634\\u062f\\u062f \\u063a\\u0648\\u062a\\u064a\\u0631\\u064a\\u0634 \\u0639\\u0644\\u064a \\u0627\\u0646\\u0647 \\u064a\\u062c\\u0628 \\u0636\\u0645\\u0627\\u0646 \\u0648\\u0635\\u0648\\u0644 \\u0627\\u0646\\u0633\\u0627\\u0646\\u064a \\u0645\\u0633\\u062a\\u0645\\u0631 \\u0648\\u062f\\u0648\\u0646 \\u0639\\u0648\\u0627\\u0621\\u0642 \\u0648\\u0627\\u0645\\u0646 \\u0644\\u0644\\u0645\\u062f\\u0646\\u064a\\u064a\\u0646 \\u0627\\u0644\\u0645\\u062d\\u062a\\u0627\\u062c\\u064a\\u0646 \\u062e\\u0644\\u0627\\u0644 \\u0639\\u0628\\u0631 \\u0627\\u0644\\u062d\\u062f\\u0648\\u062f \\u0627\\u062c\\u0644 \\u0627\\u0644\\u0633\\u0645\\u0627\\u062d \\u0644\\u0644\\u0627\\u0645\\u0645 \\u0627\\u0644\\u0645\\u062a\\u062d\\u062f\\u0647 \\u0648\\u0634\\u0631\\u0643\\u0627\\u0621\\u0647\\u0627 \\u0627\\u0644\\u0645\\u062c\\u0627\\u0644 \\u0627\\u0644\\u0627\\u0646\\u0633\\u0627\\u0646\\u064a \\u0628\\u0645\\u0648\\u0627\\u0635\\u0644\\u0647 \\u0627\\u0644\\u0627\\u0636\\u0637\\u0644\\u0627\\u0639 \\u0628\\u0639\\u0645\\u0644\\u0647\\u0627 \\u0627\\u0644\\u062d\\u0627\\u0633\\u0645 \\u0634\\u0645\\u0627\\u0644 \\u0633\\u0648\\u0631\\u064a\\u0627\\u0643\\u0645\\u0627 \\u0627\\u0639\\u0631\\u0628 \\u0627\\u0644\\u0627\\u0645\\u064a\\u0646 \\u0627\\u0644\\u0639\\u0627\\u0645 \\u0642\\u0644\\u0642 \\u0634\\u062f\\u064a\\u062f \\u0627\\u062d\\u062a\\u0645\\u0627\\u0644 \\u0627\\u0646 \\u062a\\u0621\\u062f\\u064a \\u0627\\u0644\\u0639\\u0645\\u0644\\u064a\\u0627\\u062a \\u0627\\u0644\\u0639\\u0633\\u0643\\u0631\\u064a\\u0647 \\u0627\\u0644\\u062d\\u0627\\u0644\\u064a\\u0647 \\u0627\\u0644\\u064a \\u0627\\u0644\\u0627\\u0641\\u0631\\u0627\\u062c \\u0627\\u0644\\u0645\\u0642\\u0635\\u0648\\u062f \\u0627\\u0644\\u0627\\u0641\\u0631\\u0627\\u062f \\u0627\\u0644\\u0645\\u0631\\u062a\\u0628\\u0637\\u064a\\u0646 \\u0628\\u062a\\u0646\\u0638\\u064a\\u0645 \\u062f\\u0627\\u0639\\u0634 \\u064a\\u062a\\u0631\\u062a\\u0628 \\u0639\\u0644\\u064a \\u0630\\u0644\\u0643\\u0647\\u0630\\u0627 \\u0648\\u0627\\u0634\\u0627\\u0631 \\u063a\\u0648\\u062a\\u064a\\u0631\\u064a\\u0634 \\u0627\\u0644\\u064a \\u0642\\u0631\\u0627\\u0631 \\u0645\\u062c\\u0644\\u0633 \\u0627\\u0644\\u0627\\u0645\\u0646 2254 2015 \\u064a\\u0634\\u062f\\u062f \\u0639\\u0644\\u064a \\u0627\\u0646 \\u0627\\u064a \\u062d\\u0644 \\u0644\\u0644\\u0627\\u0632\\u0645\\u0647 \\u0627\\u0644\\u0633\\u0648\\u0631\\u064a\\u0647 \\u064a\\u062c\\u0628 \\u0627\\u0646 \\u064a\\u0639\\u064a\\u062f \\u0627\\u0644\\u062a\\u0627\\u0643\\u064a\\u062f \\u0639\\u0644\\u064a \\u0633\\u064a\\u0627\\u062f\\u0647 \\u0633\\u0648\\u0631\\u064a\\u0627 \\u0648\\u0627\\u0633\\u062a\\u0642\\u0644\\u0627\\u0644\\u0647\\u0627 \\u0648\\u0648\\u062d\\u062f\\u062a\\u0647\\u0627 \\u0648\\u0633\\u0644\\u0627\\u0645\\u062a\\u0647\\u0627 \\u0627\\u0644\\u0627\\u0642\\u0644\\u064a\\u0645\\u064a\\u0648\\u0642\\u062f \\u0627\\u0639\\u0631\\u0628\\u062a \\u0645\\u0646\\u0638\\u0645\\u0647 \\u0627\\u0644\\u0635\\u062d\\u0647 \\u0627\\u0644\\u0639\\u0627\\u0644\\u0645\\u064a\\u0647 \\u0642\\u0644\\u0642 \\u0628\\u0627\\u0644\\u063a \\u0627\\u0632\\u0627\\u0621 \\u0627\\u0644\\u0648\\u0636\\u0639 \\u0627\\u0644\\u0635\\u062d\\u064a \\u0627\\u0644\\u0627\\u0646\\u0633\\u0627\\u0646\\u064a \\u0634\\u0645\\u0627\\u0644 \\u0634\\u0631\\u0642 \\u0633\\u0648\\u0631\\u064a\\u0627\\u0648\\u0641\\u064a \\u0628\\u064a\\u0627\\u0646 \\u0635\\u0627\\u062f\\u0631 \\u064a\\u0648\\u0645 13 \\u062a\\u0634\\u0631\\u064a\\u0646 \\u0627\\u0644\\u0627\\u0648\\u0644\\u0627\\u0643\\u062a\\u0648\\u0628\\u0631 \\u0630\\u0643\\u0631\\u062a \\u0627\\u0644\\u0645\\u0646\\u0638\\u0645\\u0647 \\u0627\\u0646\\u0647 \\u062a\\u0645 \\u062a\\u0634\\u0631\\u064a\\u062f \\u064a\\u0635\\u0644 \\u0627\\u0644\\u064a 200000 \\u0634\\u062e\\u0635 \\u0646\\u062a\\u064a\\u062c\\u0647 \\u0644\\u0644\\u0639\\u0645\\u0644\\u064a\\u0627\\u062a \\u0627\\u0644\\u0639\\u0633\\u0643\\u0631\\u064a\\u0647 \\u0627\\u0644\\u0645\\u062a\\u0632\\u0627\\u064a\\u062f\\u0647 9 \\u0627\\u0643\\u062a\\u0648\\u0628\\u0631 \\u062a\\u0634\\u0631\\u064a\\u0646 \\u0627\\u0644\\u0627\\u0648\\u0644 \\u0645\\u0634\\u064a\\u0631\\u0647 \\u0627\\u0644\\u064a \\u0627\\u0646 \\u062d\\u0648\\u0627\\u0644\\u064a 15 \\u0645\\u0644\\u064a\\u0648\\u0646 \\u0634\\u062e\\u0635 \\u064a\\u062d\\u062a\\u0627\\u062c\\u0648\\u0646 \\u0627\\u0644\\u064a \\u0645\\u0633\\u0627\\u0639\\u062f\\u0627\\u062a \\u0637\\u0628\\u064a\\u0647 \\u0648\\u0642\\u062f \\u0639\\u0627\\u0646\\u064a \\u0627\\u0644\\u0639\\u062f\\u064a\\u062f \\u0627\\u0644\\u0645\\u062a\\u0636\\u0631\\u0631\\u064a\\u0646 \\u0627\\u0639\\u0645\\u0627\\u0644 \\u0627\\u0644\\u0642\\u062a\\u0627\\u0644 \\u0627\\u0644\\u0627\\u062e\\u064a\\u0631\\u0647 \\u0636\\u063a\\u0648\\u0637 \\u062c\\u0633\\u062f\\u064a\\u0647 \\u0648\\u0639\\u0642\\u0644\\u064a\\u0647 \\u0647\\u0627\\u0621\\u0644\\u0647 \\u0646\\u062a\\u064a\\u062c\\u0647 \\u0644\\u0633\\u0646\\u0648\\u0627\\u062a \\u0627\\u0644\\u0635\\u0631\\u0627\\u0639 \\u0648\\u0627\\u0644\\u062a\\u0634\\u0631\\u062f \\u0627\\u0644\\u0645\\u062a\\u0643\\u0631\\u0631\\u0648\\u062a\\u0642\\u0648\\u0644 \\u0627\\u0644\\u0645\\u0646\\u0638\\u0645\\u0647 \\u0627\\u0646 \\u0627\\u0644\\u0627\\u0634\\u062e\\u0627\\u0635 \\u0627\\u0644\\u0645\\u062d\\u062a\\u0627\\u062c\\u0648\\u0646 \\u0627\\u0644\\u064a \\u062e\\u062f\\u0645\\u0627\\u062a \\u0627\\u0644\\u0631\\u0639\\u0627\\u064a\\u0647 \\u0627\\u0644\\u0635\\u062d\\u064a\\u0647 \\u0627\\u0644\\u0627\\u0633\\u0627\\u0633\\u064a\\u0647 \\u064a\\u0648\\u0627\\u062c\\u0647\\u0648\\u0646 \\u062a\\u062d\\u062f\\u064a\\u0627\\u062a \\u062a\\u062a\\u0639\\u0644\\u0642 \\u0628\\u0627\\u0646\\u0639\\u062f\\u0627\\u0645 \\u0627\\u0644\\u0627\\u0645\\u0646 \\u0648\\u0642\\u0644\\u0647 \\u0641\\u0631\\u0635 \\u0627\\u0644\\u062d\\u0635\\u0648\\u0644 \\u0639\\u0644\\u064a \\u0627\\u0644\\u0631\\u0639\\u0627\\u064a\\u0647 \\u0627\\u0644\\u0635\\u062d\\u064a\\u0647 \\u0627\\u0630 \\u062a\\u0627\\u062b\\u0631\\u062a \\u0627\\u0644\\u062e\\u062f\\u0645\\u0627\\u062a \\u0627\\u0644\\u0635\\u062d\\u064a\\u0647 \\u0627\\u0635\\u0627\\u0628\\u0647\\u0627 \\u0627\\u0644\\u0636\\u0639\\u0641 \\u0628\\u0627\\u0644\\u0641\\u0639\\u0644 \\u0634\\u0645\\u0627\\u0644 \\u0634\\u0631\\u0642 \\u0633\\u0648\\u0631\\u064a\\u0627 \\u0628\\u0627\\u062e\\u0631 \\u0627\\u0644\\u062a\\u0637\\u0648\\u0631\\u0627\\u062a \\u0627\\u0644\\u0627\\u0645\\u0646\\u064a\\u0647\\u0648\\u0642\\u062f \\u0627\\u0648\\u0636\\u062d\\u062a \\u0645\\u0646\\u0638\\u0645\\u0647 \\u0627\\u0644\\u0635\\u062d\\u0647 \\u0627\\u0646 \\u0627\\u0644\\u0645\\u0631\\u0627\\u0641\\u0642 \\u0627\\u0644\\u0635\\u062d\\u064a\\u0647 \\u0627\\u0635\\u0628\\u062d\\u062a \\u062e\\u0627\\u0631\\u062c \\u0627\\u0644\\u062e\\u062f\\u0645\\u0647 \\u0627\\u0644\\u0645\\u0633\\u062a\\u0634\\u0641\\u064a \\u0627\\u0644\\u0648\\u0637\\u0646\\u064a \\u0631\\u0627\\u0633 \\u0627\\u0644\\u0639\\u064a\\u0646 \\u0648\\u0627\\u0644\\u0645\\u0633\\u062a\\u0634\\u0641\\u064a \\u0627\\u0644\\u0648\\u0637\\u0646\\u064a \\u0648\\u0645\\u0631\\u0643\\u0632\\u0627\\u0646 \\u0635\\u062d\\u064a\\u0627\\u0646 \\u062a\\u0644 \\u0627\\u0628\\u064a\\u0636\\u0643\\u0645\\u0627 \\u062d\\u062f\\u062a \\u0627\\u0644\\u0645\\u0633\\u062a\\u0634\\u0641\\u064a\\u0627\\u062a \\u0627\\u0644\\u0645\\u064a\\u062f\\u0627\\u0646\\u064a\\u0647 \\u0627\\u0644\\u062b\\u0644\\u0627\\u062b\\u0647 \\u0645\\u062e\\u064a\\u0645 \\u0627\\u0644\\u0647\\u0648\\u0644 \\u062e\\u062f\\u0645\\u0627\\u062a\\u0647\\u0627 12 \\u062a\\u0634\\u0631\\u064a\\u0646 \\u0627\\u0644\\u0627\\u0648\\u0644\\u0627\\u0643\\u062a\\u0648\\u0628\\u0631 \\u0646\\u062a\\u064a\\u062c\\u0647 \\u062a\\u0635\\u0627\\u0639\\u062f \\u0627\\u0644\\u0627\\u0639\\u0645\\u0627\\u0644 \\u0627\\u0644\\u0642\\u062a\\u0627\\u0644\\u064a\\u0647 \\u0627\\u0639\\u0627\\u0642\\u062a \\u0648\\u0635\\u0648\\u0644 \\u0645\\u0648\\u0638\\u0641\\u064a \\u0627\\u0644\\u0631\\u0639\\u0627\\u064a\\u0647 \\u0627\\u0644\\u0637\\u0628\\u064a\\u0647 \\u0627\\u0644\\u064a \\u0627\\u0644\\u0645\\u062e\\u064a\\u0645 \\u062a\\u0645 \\u0627\\u062e\\u0644\\u0627\\u0621 \\u062c\\u0645\\u064a\\u0639 \\u0627\\u0644\\u0645\\u0631\\u0627\\u0641\\u0642 \\u0627\\u0644\\u0635\\u062d\\u064a\\u0647 \\u0627\\u0644\\u0645\\u062e\\u064a\\u0645\\u0627\\u062a \\u062a\\u0633\\u062a\\u0636\\u064a\\u0641 \\u0627\\u0644\\u0646\\u0627\\u0632\\u062d\\u064a\\u0646 \\u0639\\u064a\\u0646 \\u0639\\u064a\\u0633\\u064a \\u0648\\u0631\\u0627\\u0633 \\u0627\\u0644\\u0639\\u064a\\u0646 \\u062a\\u0639\\u0631\\u0636 \\u0645\\u0631\\u0627\\u0641\\u0642 \\u0627\\u0636\\u0627\\u0641\\u064a\\u0647 \\u0644\\u0644\\u062a\\u0647\\u062f\\u064a\\u062f \\u0638\\u0644 \\u062a\\u0635\\u0627\\u0639\\u062f \\u0627\\u0644\\u0646\\u0632\\u0627\\u0639 \\u0628\\u0633\\u0631\\u0639\\u0647\\u0648\\u0630\\u0643\\u0631\\u062a \\u0627\\u0644\\u0645\\u0646\\u0638\\u0645\\u0647 \\u0627\\u0646 \\u0639\\u062f\\u062f\\u0627 \\u0634\\u0631\\u0643\\u0627\\u0621\\u0647\\u0627 \\u0639\\u0644\\u0642\\u0648\\u0627 \\u062e\\u062f\\u0645\\u0627\\u062a \\u0627\\u0644\\u0631\\u0639\\u0627\\u064a\\u0647 \\u0627\\u0644\\u0637\\u0628\\u064a\\u0647 \\u0628\\u0627\\u0644\\u0641\\u0639\\u0644 \\u0628\\u0633\\u0628\\u0628 \\u0627\\u0646\\u0639\\u062f\\u0627\\u0645 \\u0627\\u0644\\u0627\\u0645\\u0646 \\u0641\\u0627\\u0642\\u0645 \\u0639\\u0648\\u0627\\u0621\\u0642 \\u0627\\u0644\\u0648\\u0635\\u0648\\u0644 \\u0627\\u0644\\u064a \\u062e\\u062f\\u0645\\u0627\\u062a \\u0627\\u0644\\u0631\\u0639\\u0627\\u064a\\u0647 \\u0627\\u0644\\u0635\\u062d\\u064a\\u0647 \\u0627\\u0644\\u0627\\u0633\\u0627\\u0633\\u064a\\u0647\"\n        ],\n        \"semantic_type\": \"\",\n        \"description\": \"\"\n      }\n    },\n    {\n      \"column\": \"Link\",\n      \"properties\": {\n        \"dtype\": \"string\",\n        \"num_unique_values\": 7963,\n        \"samples\": [\n          \"https://news.un.org/ar/story/2021/01/1068502\",\n          \"https://arabic.sputniknews.com/science/202011271047324848-%D8%A3%D8%B3%D9%86%D8%A7%D9%86-%D8%A7%D9%84%D9%85%D8%AA%D8%B9%D8%A7%D9%81%D9%8A%D9%86-%D9%85%D9%86-%D9%81%D9%8A%D8%B1%D9%88%D8%B3-%D9%83%D9%88%D8%B1%D9%88%D9%86%D8%A7-%D9%81%D9%8A-%D8%AE%D8%B7%D8%B1/\",\n          \"https://news.un.org/ar/story/2020/11/1065032\"\n        ],\n        \"semantic_type\": \"\",\n        \"description\": \"\"\n      }\n    },\n    {\n      \"column\": \"Category\",\n      \"properties\": {\n        \"dtype\": \"category\",\n        \"num_unique_values\": 3,\n        \"samples\": [\n          \"\\u0631\\u064a\\u0627\\u062f\\u0629 \\u0623\\u0639\\u0645\\u0627\\u0644\",\n          \"\\u0639\\u0644\\u0648\\u0645 \\u0648\\u062a\\u0643\\u0646\\u0648\\u0644\\u0648\\u062c\\u064a\\u0627\",\n          \"\\u0623\\u062e\\u0631\\u0649\"\n        ],\n        \"semantic_type\": \"\",\n        \"description\": \"\"\n      }\n    }\n  ]\n}"
            }
          },
          "metadata": {},
          "execution_count": 7
        }
      ]
    },
    {
      "cell_type": "code",
      "source": [
        "df.shape"
      ],
      "metadata": {
        "execution": {
          "iopub.status.busy": "2024-04-25T17:44:36.368977Z",
          "iopub.execute_input": "2024-04-25T17:44:36.369439Z",
          "iopub.status.idle": "2024-04-25T17:44:36.378246Z",
          "shell.execute_reply.started": "2024-04-25T17:44:36.369400Z",
          "shell.execute_reply": "2024-04-25T17:44:36.376344Z"
        },
        "trusted": true,
        "colab": {
          "base_uri": "https://localhost:8080/"
        },
        "id": "Gq9stDcqfOFZ",
        "outputId": "036c86d3-f283-4e41-ea5d-b7d71674c16a"
      },
      "execution_count": null,
      "outputs": [
        {
          "output_type": "execute_result",
          "data": {
            "text/plain": [
              "(8386, 4)"
            ]
          },
          "metadata": {},
          "execution_count": 8
        }
      ]
    },
    {
      "cell_type": "code",
      "source": [
        "df.columns"
      ],
      "metadata": {
        "execution": {
          "iopub.status.busy": "2024-04-25T17:44:38.410918Z",
          "iopub.execute_input": "2024-04-25T17:44:38.411321Z",
          "iopub.status.idle": "2024-04-25T17:44:38.420458Z",
          "shell.execute_reply.started": "2024-04-25T17:44:38.411289Z",
          "shell.execute_reply": "2024-04-25T17:44:38.418791Z"
        },
        "trusted": true,
        "colab": {
          "base_uri": "https://localhost:8080/"
        },
        "id": "0P9DtGL0fOFZ",
        "outputId": "f969f28a-9bed-4c46-d713-d35b4db287cd"
      },
      "execution_count": null,
      "outputs": [
        {
          "output_type": "execute_result",
          "data": {
            "text/plain": [
              "Index(['Title', 'Content', 'Link', 'Category'], dtype='object')"
            ]
          },
          "metadata": {},
          "execution_count": 9
        }
      ]
    },
    {
      "cell_type": "code",
      "source": [
        "df.info()"
      ],
      "metadata": {
        "execution": {
          "iopub.status.busy": "2024-04-25T17:44:40.507497Z",
          "iopub.execute_input": "2024-04-25T17:44:40.507957Z",
          "iopub.status.idle": "2024-04-25T17:44:40.529002Z",
          "shell.execute_reply.started": "2024-04-25T17:44:40.507925Z",
          "shell.execute_reply": "2024-04-25T17:44:40.527467Z"
        },
        "trusted": true,
        "colab": {
          "base_uri": "https://localhost:8080/"
        },
        "id": "kUXidp5XfOFZ",
        "outputId": "0cf0dab2-9e36-4b10-fb18-ab9d6bffbb6d"
      },
      "execution_count": null,
      "outputs": [
        {
          "output_type": "stream",
          "name": "stdout",
          "text": [
            "<class 'pandas.core.frame.DataFrame'>\n",
            "Index: 8386 entries, 0 to 8398\n",
            "Data columns (total 4 columns):\n",
            " #   Column    Non-Null Count  Dtype \n",
            "---  ------    --------------  ----- \n",
            " 0   Title     8386 non-null   object\n",
            " 1   Content   8386 non-null   object\n",
            " 2   Link      8386 non-null   object\n",
            " 3   Category  8386 non-null   object\n",
            "dtypes: object(4)\n",
            "memory usage: 327.6+ KB\n"
          ]
        }
      ]
    },
    {
      "cell_type": "code",
      "source": [
        "df.isnull().sum()"
      ],
      "metadata": {
        "execution": {
          "iopub.status.busy": "2024-04-25T17:44:42.911075Z",
          "iopub.execute_input": "2024-04-25T17:44:42.912177Z",
          "iopub.status.idle": "2024-04-25T17:44:42.936730Z",
          "shell.execute_reply.started": "2024-04-25T17:44:42.912124Z",
          "shell.execute_reply": "2024-04-25T17:44:42.934521Z"
        },
        "trusted": true,
        "colab": {
          "base_uri": "https://localhost:8080/"
        },
        "id": "YFRnNcmqfOFZ",
        "outputId": "b72ba989-29e4-4b4e-ba07-e29e1ac5d413"
      },
      "execution_count": null,
      "outputs": [
        {
          "output_type": "execute_result",
          "data": {
            "text/plain": [
              "Title       0\n",
              "Content     0\n",
              "Link        0\n",
              "Category    0\n",
              "dtype: int64"
            ]
          },
          "metadata": {},
          "execution_count": 12
        }
      ]
    },
    {
      "cell_type": "code",
      "source": [
        "df['Category'].value_counts()"
      ],
      "metadata": {
        "execution": {
          "iopub.status.busy": "2024-04-25T17:44:45.485513Z",
          "iopub.execute_input": "2024-04-25T17:44:45.485994Z",
          "iopub.status.idle": "2024-04-25T17:44:45.497659Z",
          "shell.execute_reply.started": "2024-04-25T17:44:45.485958Z",
          "shell.execute_reply": "2024-04-25T17:44:45.496333Z"
        },
        "trusted": true,
        "colab": {
          "base_uri": "https://localhost:8080/"
        },
        "id": "XC1zv8eSfOFZ",
        "outputId": "115d5e2d-1e43-4cd8-a350-b0ec767f6cea"
      },
      "execution_count": null,
      "outputs": [
        {
          "output_type": "execute_result",
          "data": {
            "text/plain": [
              "Category\n",
              "علوم وتكنولوجيا    2800\n",
              "أخرى               2796\n",
              "ريادة أعمال        2790\n",
              "Name: count, dtype: int64"
            ]
          },
          "metadata": {},
          "execution_count": 13
        }
      ]
    },
    {
      "cell_type": "code",
      "source": [
        "df.Category.unique()"
      ],
      "metadata": {
        "trusted": true,
        "colab": {
          "base_uri": "https://localhost:8080/"
        },
        "id": "Tpl3MJINfOFZ",
        "outputId": "f1b0d03f-9a56-464a-bd9a-269311db4951"
      },
      "execution_count": null,
      "outputs": [
        {
          "output_type": "execute_result",
          "data": {
            "text/plain": [
              "array(['ريادة أعمال', 'علوم وتكنولوجيا', 'أخرى'], dtype=object)"
            ]
          },
          "metadata": {},
          "execution_count": 14
        }
      ]
    },
    {
      "cell_type": "code",
      "source": [
        "len(df['Category'].unique())"
      ],
      "metadata": {
        "execution": {
          "iopub.status.busy": "2024-04-25T17:44:49.797558Z",
          "iopub.execute_input": "2024-04-25T17:44:49.797995Z",
          "iopub.status.idle": "2024-04-25T17:44:49.808811Z",
          "shell.execute_reply.started": "2024-04-25T17:44:49.797963Z",
          "shell.execute_reply": "2024-04-25T17:44:49.807254Z"
        },
        "trusted": true,
        "colab": {
          "base_uri": "https://localhost:8080/"
        },
        "id": "Hq5JCoJEfOFZ",
        "outputId": "7b0ffdbe-9c6b-455e-e243-6508b950b054"
      },
      "execution_count": null,
      "outputs": [
        {
          "output_type": "execute_result",
          "data": {
            "text/plain": [
              "3"
            ]
          },
          "metadata": {},
          "execution_count": 15
        }
      ]
    },
    {
      "cell_type": "markdown",
      "source": [
        "# ****## Preprocessing****"
      ],
      "metadata": {
        "id": "aZmfBlEwfOFa"
      }
    },
    {
      "cell_type": "code",
      "source": [
        "df=df.drop(['Link'],axis=1)\n",
        "df"
      ],
      "metadata": {
        "execution": {
          "iopub.status.busy": "2024-04-25T16:39:29.139864Z",
          "iopub.execute_input": "2024-04-25T16:39:29.140293Z",
          "iopub.status.idle": "2024-04-25T16:39:29.165887Z",
          "shell.execute_reply.started": "2024-04-25T16:39:29.140260Z",
          "shell.execute_reply": "2024-04-25T16:39:29.164036Z"
        },
        "trusted": true,
        "colab": {
          "base_uri": "https://localhost:8080/",
          "height": 424
        },
        "id": "T7dBoUaYfOFa",
        "outputId": "cd6f9271-1355-4c3d-92c5-bd4c8ace82c0"
      },
      "execution_count": null,
      "outputs": [
        {
          "output_type": "execute_result",
          "data": {
            "text/plain": [
              "                                                  Title  \\\n",
              "0     تيرتل تري لابز للتقنيات الحيويه تحصل علي تمويل...   \n",
              "1        تعد دراسه الجدوي لمشروعك الناشء 6 عوامل اساسيه   \n",
              "2     منح جاءزه نوبل الطب لاكتشاف مجال التهاب الكبد ...   \n",
              "3     هيءه الغذاء والدواء الامريكيه لقاح مودرنا حقق ...   \n",
              "4     حظر بروتين الجهاز المناعي يساعد علي محاربه عدو...   \n",
              "...                                                 ...   \n",
              "8394  قواعد اوروبيه تهدد بخفض 10 ايرادات شركات التكن...   \n",
              "8395  حوار خاص مهندس سعودي نباتك فكره تهدف لزراعه مل...   \n",
              "8396                 كريم تطلق خدمه اطلب اي شيء الجديده   \n",
              "8397  تقرير اممي جديد يشير الي تاثير جاءحه فيروس كور...   \n",
              "8398  فريق مشترك يتحقق اوضاع النساء والاطفال داخل قو...   \n",
              "\n",
              "                                                Content         Category  \n",
              "0     جاءت جوله التمويل التمهيديه الاولي للشركه بقيا...      ريادة أعمال  \n",
              "1     تعد دراسه الجدوي متطلبا اساسيا لنجاح اي مشروع ...      ريادة أعمال  \n",
              "2     وقالت لجنه نوبل للمره الاولي التاريخ يمكن الان...  علوم وتكنولوجيا  \n",
              "3     نشرت الوكاله وثاءق علي الانترنت اعدها موظفوها ...  علوم وتكنولوجيا  \n",
              "4     دراسه حديثه قام فريق العلماء جونز هوبكنز ميديس...  علوم وتكنولوجيا  \n",
              "...                                                 ...              ...  \n",
              "8394  قالت وكاله بلومبرغ الاثنين ان كبري شركات التكن...  علوم وتكنولوجيا  \n",
              "8395  بدات الفكره نعومه اظفاره عندما كان السابعه عمر...             أخرى  \n",
              "8396  اعلنت منصه كريم 4 فبراير الجاري اطلاق خدمه اطل...      ريادة أعمال  \n",
              "8397  وفقا لتقديرات المكتب الاممي المعني بالمخدرات و...             أخرى  \n",
              "8398  تاتي الزياره كجزء تنفيذ اتفاقيه السلام المنشطه...             أخرى  \n",
              "\n",
              "[8386 rows x 3 columns]"
            ],
            "text/html": [
              "\n",
              "  <div id=\"df-02036810-1e9d-44be-866b-8a344a2a5e35\" class=\"colab-df-container\">\n",
              "    <div>\n",
              "<style scoped>\n",
              "    .dataframe tbody tr th:only-of-type {\n",
              "        vertical-align: middle;\n",
              "    }\n",
              "\n",
              "    .dataframe tbody tr th {\n",
              "        vertical-align: top;\n",
              "    }\n",
              "\n",
              "    .dataframe thead th {\n",
              "        text-align: right;\n",
              "    }\n",
              "</style>\n",
              "<table border=\"1\" class=\"dataframe\">\n",
              "  <thead>\n",
              "    <tr style=\"text-align: right;\">\n",
              "      <th></th>\n",
              "      <th>Title</th>\n",
              "      <th>Content</th>\n",
              "      <th>Category</th>\n",
              "    </tr>\n",
              "  </thead>\n",
              "  <tbody>\n",
              "    <tr>\n",
              "      <th>0</th>\n",
              "      <td>تيرتل تري لابز للتقنيات الحيويه تحصل علي تمويل...</td>\n",
              "      <td>جاءت جوله التمويل التمهيديه الاولي للشركه بقيا...</td>\n",
              "      <td>ريادة أعمال</td>\n",
              "    </tr>\n",
              "    <tr>\n",
              "      <th>1</th>\n",
              "      <td>تعد دراسه الجدوي لمشروعك الناشء 6 عوامل اساسيه</td>\n",
              "      <td>تعد دراسه الجدوي متطلبا اساسيا لنجاح اي مشروع ...</td>\n",
              "      <td>ريادة أعمال</td>\n",
              "    </tr>\n",
              "    <tr>\n",
              "      <th>2</th>\n",
              "      <td>منح جاءزه نوبل الطب لاكتشاف مجال التهاب الكبد ...</td>\n",
              "      <td>وقالت لجنه نوبل للمره الاولي التاريخ يمكن الان...</td>\n",
              "      <td>علوم وتكنولوجيا</td>\n",
              "    </tr>\n",
              "    <tr>\n",
              "      <th>3</th>\n",
              "      <td>هيءه الغذاء والدواء الامريكيه لقاح مودرنا حقق ...</td>\n",
              "      <td>نشرت الوكاله وثاءق علي الانترنت اعدها موظفوها ...</td>\n",
              "      <td>علوم وتكنولوجيا</td>\n",
              "    </tr>\n",
              "    <tr>\n",
              "      <th>4</th>\n",
              "      <td>حظر بروتين الجهاز المناعي يساعد علي محاربه عدو...</td>\n",
              "      <td>دراسه حديثه قام فريق العلماء جونز هوبكنز ميديس...</td>\n",
              "      <td>علوم وتكنولوجيا</td>\n",
              "    </tr>\n",
              "    <tr>\n",
              "      <th>...</th>\n",
              "      <td>...</td>\n",
              "      <td>...</td>\n",
              "      <td>...</td>\n",
              "    </tr>\n",
              "    <tr>\n",
              "      <th>8394</th>\n",
              "      <td>قواعد اوروبيه تهدد بخفض 10 ايرادات شركات التكن...</td>\n",
              "      <td>قالت وكاله بلومبرغ الاثنين ان كبري شركات التكن...</td>\n",
              "      <td>علوم وتكنولوجيا</td>\n",
              "    </tr>\n",
              "    <tr>\n",
              "      <th>8395</th>\n",
              "      <td>حوار خاص مهندس سعودي نباتك فكره تهدف لزراعه مل...</td>\n",
              "      <td>بدات الفكره نعومه اظفاره عندما كان السابعه عمر...</td>\n",
              "      <td>أخرى</td>\n",
              "    </tr>\n",
              "    <tr>\n",
              "      <th>8396</th>\n",
              "      <td>كريم تطلق خدمه اطلب اي شيء الجديده</td>\n",
              "      <td>اعلنت منصه كريم 4 فبراير الجاري اطلاق خدمه اطل...</td>\n",
              "      <td>ريادة أعمال</td>\n",
              "    </tr>\n",
              "    <tr>\n",
              "      <th>8397</th>\n",
              "      <td>تقرير اممي جديد يشير الي تاثير جاءحه فيروس كور...</td>\n",
              "      <td>وفقا لتقديرات المكتب الاممي المعني بالمخدرات و...</td>\n",
              "      <td>أخرى</td>\n",
              "    </tr>\n",
              "    <tr>\n",
              "      <th>8398</th>\n",
              "      <td>فريق مشترك يتحقق اوضاع النساء والاطفال داخل قو...</td>\n",
              "      <td>تاتي الزياره كجزء تنفيذ اتفاقيه السلام المنشطه...</td>\n",
              "      <td>أخرى</td>\n",
              "    </tr>\n",
              "  </tbody>\n",
              "</table>\n",
              "<p>8386 rows × 3 columns</p>\n",
              "</div>\n",
              "    <div class=\"colab-df-buttons\">\n",
              "\n",
              "  <div class=\"colab-df-container\">\n",
              "    <button class=\"colab-df-convert\" onclick=\"convertToInteractive('df-02036810-1e9d-44be-866b-8a344a2a5e35')\"\n",
              "            title=\"Convert this dataframe to an interactive table.\"\n",
              "            style=\"display:none;\">\n",
              "\n",
              "  <svg xmlns=\"http://www.w3.org/2000/svg\" height=\"24px\" viewBox=\"0 -960 960 960\">\n",
              "    <path d=\"M120-120v-720h720v720H120Zm60-500h600v-160H180v160Zm220 220h160v-160H400v160Zm0 220h160v-160H400v160ZM180-400h160v-160H180v160Zm440 0h160v-160H620v160ZM180-180h160v-160H180v160Zm440 0h160v-160H620v160Z\"/>\n",
              "  </svg>\n",
              "    </button>\n",
              "\n",
              "  <style>\n",
              "    .colab-df-container {\n",
              "      display:flex;\n",
              "      gap: 12px;\n",
              "    }\n",
              "\n",
              "    .colab-df-convert {\n",
              "      background-color: #E8F0FE;\n",
              "      border: none;\n",
              "      border-radius: 50%;\n",
              "      cursor: pointer;\n",
              "      display: none;\n",
              "      fill: #1967D2;\n",
              "      height: 32px;\n",
              "      padding: 0 0 0 0;\n",
              "      width: 32px;\n",
              "    }\n",
              "\n",
              "    .colab-df-convert:hover {\n",
              "      background-color: #E2EBFA;\n",
              "      box-shadow: 0px 1px 2px rgba(60, 64, 67, 0.3), 0px 1px 3px 1px rgba(60, 64, 67, 0.15);\n",
              "      fill: #174EA6;\n",
              "    }\n",
              "\n",
              "    .colab-df-buttons div {\n",
              "      margin-bottom: 4px;\n",
              "    }\n",
              "\n",
              "    [theme=dark] .colab-df-convert {\n",
              "      background-color: #3B4455;\n",
              "      fill: #D2E3FC;\n",
              "    }\n",
              "\n",
              "    [theme=dark] .colab-df-convert:hover {\n",
              "      background-color: #434B5C;\n",
              "      box-shadow: 0px 1px 3px 1px rgba(0, 0, 0, 0.15);\n",
              "      filter: drop-shadow(0px 1px 2px rgba(0, 0, 0, 0.3));\n",
              "      fill: #FFFFFF;\n",
              "    }\n",
              "  </style>\n",
              "\n",
              "    <script>\n",
              "      const buttonEl =\n",
              "        document.querySelector('#df-02036810-1e9d-44be-866b-8a344a2a5e35 button.colab-df-convert');\n",
              "      buttonEl.style.display =\n",
              "        google.colab.kernel.accessAllowed ? 'block' : 'none';\n",
              "\n",
              "      async function convertToInteractive(key) {\n",
              "        const element = document.querySelector('#df-02036810-1e9d-44be-866b-8a344a2a5e35');\n",
              "        const dataTable =\n",
              "          await google.colab.kernel.invokeFunction('convertToInteractive',\n",
              "                                                    [key], {});\n",
              "        if (!dataTable) return;\n",
              "\n",
              "        const docLinkHtml = 'Like what you see? Visit the ' +\n",
              "          '<a target=\"_blank\" href=https://colab.research.google.com/notebooks/data_table.ipynb>data table notebook</a>'\n",
              "          + ' to learn more about interactive tables.';\n",
              "        element.innerHTML = '';\n",
              "        dataTable['output_type'] = 'display_data';\n",
              "        await google.colab.output.renderOutput(dataTable, element);\n",
              "        const docLink = document.createElement('div');\n",
              "        docLink.innerHTML = docLinkHtml;\n",
              "        element.appendChild(docLink);\n",
              "      }\n",
              "    </script>\n",
              "  </div>\n",
              "\n",
              "\n",
              "<div id=\"df-77dd4227-a409-4f56-9ac8-6dadb7eefca6\">\n",
              "  <button class=\"colab-df-quickchart\" onclick=\"quickchart('df-77dd4227-a409-4f56-9ac8-6dadb7eefca6')\"\n",
              "            title=\"Suggest charts\"\n",
              "            style=\"display:none;\">\n",
              "\n",
              "<svg xmlns=\"http://www.w3.org/2000/svg\" height=\"24px\"viewBox=\"0 0 24 24\"\n",
              "     width=\"24px\">\n",
              "    <g>\n",
              "        <path d=\"M19 3H5c-1.1 0-2 .9-2 2v14c0 1.1.9 2 2 2h14c1.1 0 2-.9 2-2V5c0-1.1-.9-2-2-2zM9 17H7v-7h2v7zm4 0h-2V7h2v10zm4 0h-2v-4h2v4z\"/>\n",
              "    </g>\n",
              "</svg>\n",
              "  </button>\n",
              "\n",
              "<style>\n",
              "  .colab-df-quickchart {\n",
              "      --bg-color: #E8F0FE;\n",
              "      --fill-color: #1967D2;\n",
              "      --hover-bg-color: #E2EBFA;\n",
              "      --hover-fill-color: #174EA6;\n",
              "      --disabled-fill-color: #AAA;\n",
              "      --disabled-bg-color: #DDD;\n",
              "  }\n",
              "\n",
              "  [theme=dark] .colab-df-quickchart {\n",
              "      --bg-color: #3B4455;\n",
              "      --fill-color: #D2E3FC;\n",
              "      --hover-bg-color: #434B5C;\n",
              "      --hover-fill-color: #FFFFFF;\n",
              "      --disabled-bg-color: #3B4455;\n",
              "      --disabled-fill-color: #666;\n",
              "  }\n",
              "\n",
              "  .colab-df-quickchart {\n",
              "    background-color: var(--bg-color);\n",
              "    border: none;\n",
              "    border-radius: 50%;\n",
              "    cursor: pointer;\n",
              "    display: none;\n",
              "    fill: var(--fill-color);\n",
              "    height: 32px;\n",
              "    padding: 0;\n",
              "    width: 32px;\n",
              "  }\n",
              "\n",
              "  .colab-df-quickchart:hover {\n",
              "    background-color: var(--hover-bg-color);\n",
              "    box-shadow: 0 1px 2px rgba(60, 64, 67, 0.3), 0 1px 3px 1px rgba(60, 64, 67, 0.15);\n",
              "    fill: var(--button-hover-fill-color);\n",
              "  }\n",
              "\n",
              "  .colab-df-quickchart-complete:disabled,\n",
              "  .colab-df-quickchart-complete:disabled:hover {\n",
              "    background-color: var(--disabled-bg-color);\n",
              "    fill: var(--disabled-fill-color);\n",
              "    box-shadow: none;\n",
              "  }\n",
              "\n",
              "  .colab-df-spinner {\n",
              "    border: 2px solid var(--fill-color);\n",
              "    border-color: transparent;\n",
              "    border-bottom-color: var(--fill-color);\n",
              "    animation:\n",
              "      spin 1s steps(1) infinite;\n",
              "  }\n",
              "\n",
              "  @keyframes spin {\n",
              "    0% {\n",
              "      border-color: transparent;\n",
              "      border-bottom-color: var(--fill-color);\n",
              "      border-left-color: var(--fill-color);\n",
              "    }\n",
              "    20% {\n",
              "      border-color: transparent;\n",
              "      border-left-color: var(--fill-color);\n",
              "      border-top-color: var(--fill-color);\n",
              "    }\n",
              "    30% {\n",
              "      border-color: transparent;\n",
              "      border-left-color: var(--fill-color);\n",
              "      border-top-color: var(--fill-color);\n",
              "      border-right-color: var(--fill-color);\n",
              "    }\n",
              "    40% {\n",
              "      border-color: transparent;\n",
              "      border-right-color: var(--fill-color);\n",
              "      border-top-color: var(--fill-color);\n",
              "    }\n",
              "    60% {\n",
              "      border-color: transparent;\n",
              "      border-right-color: var(--fill-color);\n",
              "    }\n",
              "    80% {\n",
              "      border-color: transparent;\n",
              "      border-right-color: var(--fill-color);\n",
              "      border-bottom-color: var(--fill-color);\n",
              "    }\n",
              "    90% {\n",
              "      border-color: transparent;\n",
              "      border-bottom-color: var(--fill-color);\n",
              "    }\n",
              "  }\n",
              "</style>\n",
              "\n",
              "  <script>\n",
              "    async function quickchart(key) {\n",
              "      const quickchartButtonEl =\n",
              "        document.querySelector('#' + key + ' button');\n",
              "      quickchartButtonEl.disabled = true;  // To prevent multiple clicks.\n",
              "      quickchartButtonEl.classList.add('colab-df-spinner');\n",
              "      try {\n",
              "        const charts = await google.colab.kernel.invokeFunction(\n",
              "            'suggestCharts', [key], {});\n",
              "      } catch (error) {\n",
              "        console.error('Error during call to suggestCharts:', error);\n",
              "      }\n",
              "      quickchartButtonEl.classList.remove('colab-df-spinner');\n",
              "      quickchartButtonEl.classList.add('colab-df-quickchart-complete');\n",
              "    }\n",
              "    (() => {\n",
              "      let quickchartButtonEl =\n",
              "        document.querySelector('#df-77dd4227-a409-4f56-9ac8-6dadb7eefca6 button');\n",
              "      quickchartButtonEl.style.display =\n",
              "        google.colab.kernel.accessAllowed ? 'block' : 'none';\n",
              "    })();\n",
              "  </script>\n",
              "</div>\n",
              "\n",
              "  <div id=\"id_a19e31a6-f854-4f0f-a8d5-9ad08aacc700\">\n",
              "    <style>\n",
              "      .colab-df-generate {\n",
              "        background-color: #E8F0FE;\n",
              "        border: none;\n",
              "        border-radius: 50%;\n",
              "        cursor: pointer;\n",
              "        display: none;\n",
              "        fill: #1967D2;\n",
              "        height: 32px;\n",
              "        padding: 0 0 0 0;\n",
              "        width: 32px;\n",
              "      }\n",
              "\n",
              "      .colab-df-generate:hover {\n",
              "        background-color: #E2EBFA;\n",
              "        box-shadow: 0px 1px 2px rgba(60, 64, 67, 0.3), 0px 1px 3px 1px rgba(60, 64, 67, 0.15);\n",
              "        fill: #174EA6;\n",
              "      }\n",
              "\n",
              "      [theme=dark] .colab-df-generate {\n",
              "        background-color: #3B4455;\n",
              "        fill: #D2E3FC;\n",
              "      }\n",
              "\n",
              "      [theme=dark] .colab-df-generate:hover {\n",
              "        background-color: #434B5C;\n",
              "        box-shadow: 0px 1px 3px 1px rgba(0, 0, 0, 0.15);\n",
              "        filter: drop-shadow(0px 1px 2px rgba(0, 0, 0, 0.3));\n",
              "        fill: #FFFFFF;\n",
              "      }\n",
              "    </style>\n",
              "    <button class=\"colab-df-generate\" onclick=\"generateWithVariable('df')\"\n",
              "            title=\"Generate code using this dataframe.\"\n",
              "            style=\"display:none;\">\n",
              "\n",
              "  <svg xmlns=\"http://www.w3.org/2000/svg\" height=\"24px\"viewBox=\"0 0 24 24\"\n",
              "       width=\"24px\">\n",
              "    <path d=\"M7,19H8.4L18.45,9,17,7.55,7,17.6ZM5,21V16.75L18.45,3.32a2,2,0,0,1,2.83,0l1.4,1.43a1.91,1.91,0,0,1,.58,1.4,1.91,1.91,0,0,1-.58,1.4L9.25,21ZM18.45,9,17,7.55Zm-12,3A5.31,5.31,0,0,0,4.9,8.1,5.31,5.31,0,0,0,1,6.5,5.31,5.31,0,0,0,4.9,4.9,5.31,5.31,0,0,0,6.5,1,5.31,5.31,0,0,0,8.1,4.9,5.31,5.31,0,0,0,12,6.5,5.46,5.46,0,0,0,6.5,12Z\"/>\n",
              "  </svg>\n",
              "    </button>\n",
              "    <script>\n",
              "      (() => {\n",
              "      const buttonEl =\n",
              "        document.querySelector('#id_a19e31a6-f854-4f0f-a8d5-9ad08aacc700 button.colab-df-generate');\n",
              "      buttonEl.style.display =\n",
              "        google.colab.kernel.accessAllowed ? 'block' : 'none';\n",
              "\n",
              "      buttonEl.onclick = () => {\n",
              "        google.colab.notebook.generateWithVariable('df');\n",
              "      }\n",
              "      })();\n",
              "    </script>\n",
              "  </div>\n",
              "\n",
              "    </div>\n",
              "  </div>\n"
            ],
            "application/vnd.google.colaboratory.intrinsic+json": {
              "type": "dataframe",
              "variable_name": "df",
              "summary": "{\n  \"name\": \"df\",\n  \"rows\": 8386,\n  \"fields\": [\n    {\n      \"column\": \"Title\",\n      \"properties\": {\n        \"dtype\": \"string\",\n        \"num_unique_values\": 7938,\n        \"samples\": [\n          \"\\u062a\\u0633\\u0631\\u064a\\u0628\\u0627\\u062a \\u062a\\u0643\\u0634\\u0641 \\u0642\\u0627\\u0621\\u0645\\u0647 \\u0627\\u0633\\u0639\\u0627\\u0631 \\u0647\\u0648\\u0627\\u062a\\u0641 \\u0627\\u064a\\u0641\\u0648\\u0646 12 \\u0627\\u0644\\u062c\\u062f\\u064a\\u062f\\u0647\",\n          \"\\u0631\\u0633\\u0645\\u064a\\u0627 \\u0627\\u0631\\u0627\\u0645\\u0643\\u0648 \\u0627\\u0644\\u0633\\u0639\\u0648\\u062f\\u064a\\u0647\\u0627\\u0643\\u0628\\u0631 \\u062d\\u0635\\u064a\\u0644\\u0647 \\u0627\\u0648\\u0644\\u064a\\u0647 \\u0644\\u0627\\u0643\\u062a\\u062a\\u0627\\u0628 \\u0627\\u0644\\u0639\\u0627\\u0644\\u0645 \\u0648\\u062a\\u062c\\u0645\\u0639 96\",\n          \"\\u0627\\u0648\\u0644 \\u0631\\u062d\\u0644\\u0647 \\u062a\\u062c\\u0631\\u064a\\u0628\\u064a\\u0647 \\u0645\\u0627\\u0647\\u0648\\u0644\\u0647 \\u0644\\u0647\\u0627\\u064a\\u0628\\u0631\\u0644\\u0648\\u0628\"\n        ],\n        \"semantic_type\": \"\",\n        \"description\": \"\"\n      }\n    },\n    {\n      \"column\": \"Content\",\n      \"properties\": {\n        \"dtype\": \"string\",\n        \"num_unique_values\": 7923,\n        \"samples\": [\n          \"\\u0648\\u0627\\u0634\\u0627\\u0631\\u062a \\u063a\\u0648\\u063a\\u0644 \\u0628\\u062d\\u0633\\u0628 \\u0646\\u0642\\u0644\\u0647 \\u0645\\u0648\\u0642\\u0639 \\u062a\\u0627\\u064a\\u0645\\u0632 \\u0646\\u064a\\u0648\\u0632 \\u0646\\u0627\\u0648 \\u0633\\u064a\\u0645\\u0646\\u062d \\u0627\\u0644\\u0645\\u0633\\u062a\\u062e\\u062f\\u0645\\u0648\\u0646 \\u0645\\u062f\\u0647 \\u0644\\u0644\\u0627\\u062c\\u062a\\u0645\\u0627\\u0639\\u0627\\u062a \\u0645\\u062c\\u0627\\u0646\\u0627 \\u0641\\u0642\\u0637 \\u062a\\u0635\\u0644 \\u0627\\u0644\\u064a 60 \\u062f\\u0642\\u064a\\u0642\\u0647 \\u0648\\u0628\\u0639\\u062f\\u0647\\u0627 \\u0633\\u064a\\u062d\\u062a\\u0627\\u062c \\u0627\\u0644\\u0645\\u0633\\u062a\\u062e\\u062f\\u0645 \\u0627\\u0644\\u064a \\u0627\\u0644\\u0628\\u062f\\u0621 \\u062e\\u062f\\u0645\\u0647 \\u0645\\u062f\\u0641\\u0648\\u0639\\u0647 \\u0627\\u0644\\u0627\\u062c\\u0631\\u062d\\u062a\\u064a 30 \\u0633\\u0628\\u062a\\u0645\\u0628\\u0631 \\u062a\\u0645 \\u0627\\u0644\\u0633\\u0645\\u0627\\u062d \\u0644\\u0627\\u064a \\u0634\\u062e\\u0635 \\u0644\\u062f\\u064a\\u0647 \\u062d\\u0633\\u0627\\u0628 \\u063a\\u0648\\u063a\\u0644 \\u0628\\u0627\\u0646\\u0634\\u0627\\u0621 \\u0627\\u062c\\u062a\\u0645\\u0627\\u0639\\u0627\\u062a \\u0645\\u062c\\u0627\\u0646\\u064a\\u0647 \\u064a\\u0635\\u0644 \\u0627\\u0644\\u064a 100 \\u0634\\u062e\\u0635 \\u062d\\u062f \\u0632\\u0645\\u0646\\u064a\\u0642\\u0627\\u0644 \\u0645\\u062a\\u062d\\u062f\\u062b \\u0628\\u0627\\u0633\\u0645 \\u063a\\u0648\\u063a\\u0644 \\u0644\\u062f\\u064a\\u0646\\u0627 \\u0627\\u064a \\u0634\\u064a\\u0621 \\u0646\\u062a\\u0648\\u0627\\u0635\\u0644 \\u0645\\u0639\\u0647 \\u0628\\u062e\\u0635\\u0648\\u0635 \\u0627\\u0644\\u062a\\u063a\\u064a\\u064a\\u0631\\u0627\\u062a \\u062a\\u0645 \\u0627\\u062c\\u0631\\u0627\\u0621\\u0647\\u0627 \\u0639\\u0644\\u064a \\u0627\\u0644\\u0639\\u0631\\u0636 \\u0627\\u0644\\u062a\\u0631\\u0648\\u064a\\u062c\\u064a \\u0648\\u0627\\u0646\\u062a\\u0647\\u0627\\u0621 \\u0635\\u0644\\u0627\\u062d\\u064a\\u0647 \\u0627\\u0644\\u0645\\u064a\\u0632\\u0627\\u062a \\u0627\\u0644\\u0645\\u062a\\u0642\\u062f\\u0645\\u0647\\u0648\\u062a\\u0627\\u0628\\u0639 \\u0627\\u0630\\u0627 \\u062a\\u063a\\u064a\\u0631 \\u0641\\u0633\\u0646\\u062d\\u0631\\u0635 \\u0639\\u0644\\u064a \\u0627\\u0639\\u0644\\u0627\\u0645\\u0643 \\u0628\\u0630\\u0644\\u0643\\u0627\\u0639\\u062a\\u0628\\u0627\\u0631\\u0627 30 \\u0633\\u0628\\u062a\\u0645\\u0628\\u0631 \\u0627\\u0644\\u0648\\u0635\\u0648\\u0644 \\u0627\\u0644\\u064a \\u0627\\u0644\\u0645\\u064a\\u0632\\u0627\\u062a \\u0627\\u0644\\u0645\\u062a\\u0642\\u062f\\u0645\\u0647 \\u0644\\u0639\\u0645\\u0644\\u0627\\u0621 \\u062c\\u064a \\u0633\\u064a\\u0648\\u062a \\u0627\\u0648 \\u062e\\u062f\\u0645\\u0647 \\u062c\\u064a \\u0633\\u064a\\u0648\\u062a \\u0644\\u0644\\u062a\\u0639\\u0644\\u0645 \\u0627\\u0644\\u0633\\u0645\\u0627\\u062d \\u0628\\u0627\\u062c\\u062a\\u0645\\u0627\\u0639\\u0627\\u062a \\u064a\\u0635\\u0644 \\u0627\\u0644\\u064a 250 \\u0645\\u0634\\u0627\\u0631\\u0643\\u0627 \\u0648\\u0627\\u0644\\u0628\\u062b \\u0627\\u0644\\u0645\\u0628\\u0627\\u0634\\u0631 \\u064a\\u0635\\u0644 \\u0627\\u0644\\u064a 100000 \\u0634\\u062e\\u0635 \\u0646\\u0637\\u0627\\u0642 \\u0648\\u0627\\u062d\\u062f \\u0648\\u0627\\u0644\\u0642\\u062f\\u0631\\u0647 \\u0639\\u0644\\u064a \\u062d\\u0641\\u0638 \\u062a\\u0633\\u062c\\u064a\\u0644\\u0627\\u062a \\u0627\\u0644\\u0627\\u062c\\u062a\\u0645\\u0627\\u0639\\u0627\\u062a \\u0639\\u0644\\u064a \\u063a\\u0648\\u063a\\u0644 \\u062f\\u0631\\u0627\\u064a\\u0641 \\u0627\\u064a\\u0636\\u0627 \\u064a\\u0643\\u0648\\u0646 \\u0647\\u0646\\u0627\\u0643\\u0648\\u0633\\u0645\\u062d\\u062a \\u063a\\u0648\\u063a\\u0644 \\u0628\\u0627\\u0644\\u0648\\u0635\\u0648\\u0644 \\u0627\\u0644\\u0645\\u062c\\u0627\\u0646\\u064a \\u0627\\u0644\\u064a \\u0645\\u064a\\u0632\\u0627\\u062a \\u0645\\u064a\\u062a \\u0627\\u0644\\u0645\\u062a\\u0642\\u062f\\u0645\\u0647 \\u0644\\u062c\\u0645\\u064a\\u0639 \\u0639\\u0645\\u0644\\u0627\\u0621 \\u062c\\u064a \\u0633\\u064a\\u0648\\u062a \\u0645\\u062b\\u0644 \\u0627\\u0644\\u0642\\u062f\\u0631\\u0647 \\u0639\\u0644\\u064a \\u0627\\u0644\\u0628\\u062b \\u0627\\u0644\\u0645\\u0628\\u0627\\u0634\\u0631 \\u064a\\u0635\\u0644 \\u0627\\u0644\\u064a 100000 \\u0645\\u0634\\u0627\\u0647\\u062f \\u062f\\u0627\\u062e\\u0644 \\u0646\\u0637\\u0627\\u0642\\u0647\\u0645 \\u0628\\u0645\\u0642\\u0627\\u0628\\u0644 \\u0645\\u0627\\u062f\\u064a\\u0648\\u0633\\u064a\\u0643\\u0648\\u0646 \\u062a\\u0643\\u0644\\u0641\\u0647 25 \\u062f\\u0648\\u0644\\u0627\\u0631\\u0627 \\u0627\\u0645\\u0631\\u064a\\u0643\\u064a \\u0644\\u0643\\u0644 \\u0645\\u0633\\u062a\\u062e\\u062f\\u0645 \\u0634\\u0647\\u0631\\u064a\\u0627\\u0648\\u062d\\u0642\\u0642\\u062a \\u062e\\u062f\\u0645\\u0647 \\u063a\\u0648\\u063a\\u0644 \\u0645\\u064a\\u062a \\u0646\\u0645\\u0648\\u0627 \\u0628\\u0645\\u0639\\u062f\\u0644 30 \\u0645\\u0631\\u0647 \\u0627\\u0644\\u0627\\u0633\\u062a\\u062e\\u062f\\u0627\\u0645 \\u0627\\u0644\\u064a\\u0648\\u0645\\u064a \\u0648\\u0635\\u0644 \\u0639\\u062f\\u062f \\u062f\\u0642\\u0627\\u0621\\u0642 \\u0627\\u062c\\u062a\\u0645\\u0627\\u0639\\u0627\\u062a \\u0627\\u0644\\u0641\\u064a\\u062f\\u064a\\u0648 \\u064a\\u0648\\u0645\\u064a\\u0627 \\u0627\\u0644\\u064a 3 \\u0645\\u0644\\u064a\\u0627\\u0631\\u0627\\u062a \\u062f\\u0642\\u064a\\u0642\\u0647\",\n          \"\\u0627\\u0639\\u0644\\u0646 \\u0627\\u0644\\u0639\\u0627\\u0644\\u0645\\u0627\\u0646 \\u0641\\u0643\\u062a\\u0648\\u0631 \\u0628\\u0648\\u0643\\u0648\\u0641 \\u0648\\u0628\\u064a\\u0648\\u062a\\u0631 \\u0634\\u064a\\u0628\\u0627\\u0644\\u064a\\u0646 \\u0627\\u0646 \\u0627\\u0644\\u0647\\u0632\\u0647 \\u0627\\u0644\\u0627\\u0631\\u0636\\u064a\\u0647 \\u0648\\u0642\\u0639\\u062a \\u0645\\u0646\\u0637\\u0642\\u0647 \\u0628\\u0627\\u064a\\u0643\\u0627\\u0644 \\u062a\\u0643\\u0646 \\u0627\\u0639\\u062a\\u064a\\u0627\\u062f\\u064a\\u0647 \\u0648\\u0643\\u0627\\u0646\\u062a \\u0642\\u0648\\u064a\\u0647 \\u0646\\u0633\\u0628\\u064a\\u0627 \\u0648\\u0627\\u0634\\u0627\\u0631 \\u0627\\u0644\\u0639\\u0627\\u0644\\u0645\\u0627\\u0646 \\u062d\\u062f\\u064a\\u062b\\u0647\\u0645\\u0627 \\u0644\\u0648\\u0643\\u0627\\u0644\\u0647 FAN \\u0627\\u0644\\u0631\\u0648\\u0633\\u064a\\u0647 \\u0644\\u0644\\u0627\\u0646\\u0628\\u0627\\u0621 \\u0627\\u0644\\u064a \\u0627\\u0646\\u0647 \\u064a\\u0645\\u0643\\u0646 \\u0627\\u0639\\u062a\\u0628\\u0627\\u0631 \\u0627\\u0644\\u0647\\u0632\\u0647 \\u0627\\u0644\\u0627\\u0631\\u0636\\u064a\\u0647 \\u0648\\u0642\\u0639\\u062a \\u0644\\u064a\\u0644\\u0647 \\u064a\\u0648\\u0645 22 \\u0633\\u0628\\u062a\\u0645\\u0628\\u0631 2020 \\u0645\\u0642\\u0627\\u0637\\u0639\\u0647 \\u0627\\u064a\\u0631\\u0643\\u0648\\u062a\\u0633\\u0643 \\u0627\\u0639\\u062a\\u064a\\u0627\\u062f\\u064a\\u0647 \\u0644\\u0627\\u0646 \\u0634\\u062f\\u062a\\u0647\\u0627 \\u0628\\u0644\\u063a\\u062a 59 \\u062f\\u0631\\u062c\\u0647\\u0648\\u064a\\u0642\\u0648\\u0644 \\u0628\\u064a\\u0648\\u062a\\u0631 \\u0634\\u064a\\u0628\\u0627\\u0644\\u064a\\u0646 \\u0645\\u062f\\u064a\\u0631 \\u0645\\u0639\\u0647\\u062f \\u0646\\u0638\\u0631\\u064a\\u0647 \\u0627\\u0644\\u062a\\u0646\\u0628\\u0621 \\u0628\\u0627\\u0644\\u0632\\u0644\\u0627\\u0632\\u0644 \\u0648\\u0627\\u0644\\u062c\\u064a\\u0648\\u0641\\u064a\\u0632\\u064a\\u0627\\u0621 \\u0627\\u0644\\u0631\\u064a\\u0627\\u0636\\u064a\\u0647 \\u0627\\u0644\\u062a\\u0627\\u0628\\u0639 \\u0644\\u0627\\u0643\\u0627\\u062f\\u064a\\u0645\\u064a\\u0647 \\u0627\\u0644\\u0639\\u0644\\u0648\\u0645 \\u0627\\u0644\\u0631\\u0648\\u0633\\u064a\\u0647 \\u0643\\u0627\\u0646\\u062a \\u0627\\u0644\\u0647\\u0632\\u0647 \\u0627\\u0644\\u0627\\u0631\\u0636\\u064a\\u0647 \\u0642\\u0648\\u064a\\u0647 \\u0648\\u0644\\u064a\\u0633 \\u0627\\u0639\\u062a\\u064a\\u0627\\u062f\\u064a\\u0647 \\u0648\\u0645\\u0639 \\u064a\\u0645\\u0643\\u0646 \\u0627\\u0646 \\u062a\\u0646\\u0633\\u0628 \\u0627\\u0644\\u064a \\u0627\\u0644\\u0647\\u0632\\u0627\\u062a \\u0627\\u0644\\u0642\\u0648\\u064a\\u0647 \\u062c\\u062f\\u0627 \\u0641\\u0645\\u062b\\u0644\\u0627 \\u0639\\u0627\\u0645 2008 \\u0648\\u0642\\u0639\\u062a \\u0647\\u0632\\u0647 \\u0627\\u0631\\u0636\\u064a\\u0647 \\u0628\\u0644\\u063a\\u062a \\u0634\\u062f\\u062a\\u0647\\u0627 63 \\u062f\\u0631\\u062c\\u0647 \\u0648\\u0647\\u0630\\u0647 \\u0637\\u0627\\u0642\\u0647 \\u0647\\u0627\\u0621\\u0644\\u0647 \\u0639\\u0644\\u064a \\u0627\\u0644\\u0627\\u0642\\u0644 \\u0627\\u0643\\u0628\\u0631 \\u0628\\u0639\\u0634\\u0631 \\u0645\\u0631\\u0627\\u062a \\u0627\\u0644\\u0647\\u0632\\u0647 \\u0627\\u0644\\u0627\\u0631\\u0636\\u064a\\u0647 \\u0648\\u0642\\u0639\\u062a \\u0627\\u0645\\u0633\\u0648\\u0645\\u0646 \\u062c\\u0627\\u0646\\u0628\\u0647 \\u064a\\u0634\\u064a\\u0631 \\u0627\\u0644\\u0639\\u0627\\u0644\\u0645 \\u0641\\u0643\\u062a\\u0648\\u0631 \\u0628\\u0648\\u0628\\u0643\\u0648\\u0641 \\u0642\\u0633\\u0645 \\u062a\\u0648\\u0642\\u0639\\u0627\\u062a \\u0627\\u0644\\u0637\\u0642\\u0633 \\u062c\\u0627\\u0645\\u0639\\u0647 \\u0627\\u0644\\u0627\\u0631\\u0635\\u0627\\u062f \\u0627\\u0644\\u062c\\u0648\\u064a\\u0647 \\u0648\\u0627\\u0644\\u0645\\u0627\\u0621\\u064a\\u0647 \\u0627\\u0644\\u062d\\u0643\\u0648\\u0645\\u064a\\u0647 \\u0627\\u0644\\u0631\\u0648\\u0633\\u064a\\u0647 \\u0627\\u0646 \\u0645\\u062b\\u0644 \\u0627\\u0644\\u0647\\u0632\\u0627\\u062a \\u0627\\u0644\\u0642\\u0648\\u064a\\u0647 \\u0646\\u0627\\u062f\\u0631\\u0647 \\u0627\\u0644\\u062d\\u062f\\u0648\\u062b \\u0645\\u0646\\u0637\\u0642\\u0647 \\u0628\\u0627\\u064a\\u0643\\u0627\\u0644\\u0648\\u0642\\u0627\\u0644 \\u0647\\u0632\\u0647 \\u0627\\u0631\\u0636\\u064a\\u0647 \\u0642\\u0648\\u064a\\u0647 \\u0646\\u0633\\u0628\\u064a\\u0627 \\u0648\\u0644\\u0643\\u0646\\u0647\\u0627 \\u0646\\u0627\\u062f\\u0631\\u0647 \\u0627\\u0644\\u0645\\u0646\\u0637\\u0642\\u0647 \\u0646\\u062a\\u0648\\u0642\\u0639 \\u062d\\u062f\\u0648\\u062b \\u0647\\u0632\\u0627\\u062a \\u0627\\u0631\\u0636\\u064a\\u0647 \\u0627\\u0644\\u0645\\u0646\\u0637\\u0642\\u0647 \\u0634\\u062f\\u062a\\u0647\\u0627 \\u0628\\u062d\\u062f\\u0648\\u062f 35 \\u062f\\u0631\\u062c\\u0647 \\u0644\\u0630\\u0644\\u0643 \\u064a\\u0645\\u0643\\u0646 \\u0627\\u0639\\u062a\\u0628\\u0627\\u0631 \\u0627\\u0644\\u0647\\u0632\\u0647 \\u0627\\u0644\\u0627\\u0631\\u0636\\u064a\\u0647 \\u0627\\u0644\\u0627\\u062e\\u064a\\u0631\\u0647 \\u0642\\u0648\\u064a\\u0647 \\u0646\\u0633\\u0628\\u064a\\u0627\\u0648\\u0648\\u0641\\u0642\\u0627 \\u0644\\u0644\\u062a\\u0642\\u0627\\u0631\\u064a\\u0631 \\u0627\\u0644\\u0627\\u0639\\u0644\\u0627\\u0645\\u064a\\u0647 \\u0634\\u0639\\u0631 \\u0633\\u0643\\u0627\\u0646 400 \\u0645\\u0631\\u0643\\u0632 \\u0633\\u0643\\u0646\\u064a \\u0628\\u0647\\u0630\\u0647 \\u0627\\u0644\\u0647\\u0632\\u0647 \\u0627\\u0644\\u0627\\u0631\\u0636\\u064a\\u0647 \\u062a\\u0628\\u0639\\u062a\\u0647\\u0627 \\u0647\\u0632\\u0647 \\u0627\\u0631\\u062a\\u062f\\u0627\\u062f\\u064a\\u0647 \\u062e\\u0644\\u0627\\u0644 15 \\u062f\\u0642\\u064a\\u0642\\u0647 \\u0638\\u0627\\u0647\\u0631\\u0647 \\u0645\\u0645\\u064a\\u0632\\u0647 \\u0644\\u0644\\u0647\\u0632\\u0627\\u062a \\u0627\\u0644\\u0627\\u0631\\u0636\\u064a\\u0647 \\u062a\\u0631\\u062a\\u0628\\u0637 \\u0628\\u0627\\u0644\\u0637\\u0627\\u0642\\u0647 \\u0627\\u0644\\u0645\\u0646\\u0637\\u0644\\u0642\\u0647 \\u0627\\u0644\\u0642\\u0634\\u0631\\u0647 \\u0627\\u0644\\u0627\\u0631\\u0636\\u064a\\u0647\\u0627\\u0644\\u0645\\u0635\\u062f\\u0631 \\u0646\\u0648\\u0641\\u0648\\u0633\\u062a\\u064a\",\n          \"\\u062c\\u0627\\u0621 \\u0628\\u064a\\u0627\\u0646 \\u0645\\u0646\\u0633\\u0648\\u0628 \\u0627\\u0644\\u064a \\u0627\\u0644\\u0645\\u062a\\u062d\\u062f\\u062b \\u0628\\u0627\\u0633\\u0645\\u0647 \\u0633\\u062a\\u064a\\u0641\\u0627\\u0646 \\u062f\\u0648\\u062c\\u0627\\u0631\\u064a\\u0643 \\u0635\\u0627\\u062f\\u0631 \\u0635\\u0628\\u0627\\u062d \\u0627\\u0644\\u064a\\u0648\\u0645 \\u0627\\u0644\\u0627\\u062b\\u0646\\u064a\\u0646 \\u062d\\u062b \\u062c\\u062f\\u064a\\u062f \\u0639\\u0644\\u064a \\u0636\\u0628\\u0637 \\u0627\\u0644\\u0646\\u0641\\u0633 \\u0627\\u0644\\u064a \\u0627\\u0642\\u0635\\u064a \\u062d\\u062f \\u0645\\u0634\\u062f\\u062f\\u0627 \\u0639\\u0644\\u064a \\u0627\\u0646 \\u0627\\u064a \\u0639\\u0645\\u0644\\u064a\\u0647 \\u0639\\u0633\\u0643\\u0631\\u064a\\u0647 \\u064a\\u062c\\u0628 \\u0627\\u0646 \\u062a\\u062d\\u062a\\u0631\\u0645 \\u0627\\u0644\\u0642\\u0627\\u0646\\u0648\\u0646 \\u0627\\u0644\\u062f\\u0648\\u0644\\u064a \\u0627\\u062d\\u062a\\u0631\\u0627\\u0645\\u0627 \\u0643\\u0627\\u0645\\u0644\\u0627 \\u0645\\u064a\\u062b\\u0627\\u0642 \\u0627\\u0644\\u0627\\u0645\\u0645 \\u0627\\u0644\\u0645\\u062a\\u062d\\u062f\\u0647 \\u0648\\u0627\\u0644\\u0642\\u0627\\u0646\\u0648\\u0646 \\u0627\\u0644\\u0627\\u0646\\u0633\\u0627\\u0646\\u064a \\u0627\\u0644\\u062f\\u0648\\u0644\\u064a\\u0648\\u062f\\u0639\\u0627 \\u0627\\u0644\\u0627\\u0645\\u064a\\u0646 \\u0627\\u0644\\u0639\\u0627\\u0645 \\u0628\\u064a\\u0627\\u0646\\u0647 \\u0627\\u0644\\u064a \\u0648\\u0642\\u0641 \\u0627\\u0644\\u062a\\u0635\\u0639\\u064a\\u062f \\u0627\\u0644\\u0641\\u0648\\u0631\\u064a \\u0648\\u062d\\u062b \\u062c\\u0645\\u064a\\u0639 \\u0627\\u0644\\u0627\\u0637\\u0631\\u0627\\u0641 \\u0639\\u0644\\u064a \\u062d\\u0644 \\u0634\\u0648\\u0627\\u063a\\u0644\\u0647\\u0627 \\u0628\\u0627\\u0644\\u0648\\u0633\\u0627\\u0621\\u0644 \\u0627\\u0644\\u0633\\u0644\\u0645\\u064a\\u0647\\u0643\\u0645\\u0627 \\u0627\\u0643\\u062f \\u0627\\u0644\\u0627\\u0645\\u064a\\u0646 \\u0627\\u0644\\u0639\\u0627\\u0645 \\u0639\\u0644\\u064a \\u0648\\u062c\\u0648\\u0628 \\u062d\\u0645\\u0627\\u064a\\u0647 \\u0627\\u0644\\u0645\\u062f\\u0646\\u064a\\u064a\\u0646 \\u064a\\u0634\\u0627\\u0631\\u0643\\u0648\\u0646 \\u0627\\u0644\\u0627\\u0639\\u0645\\u0627\\u0644 \\u0627\\u0644\\u0639\\u062f\\u0627\\u0621\\u064a\\u0647 \\u062c\\u0645\\u064a\\u0639 \\u0627\\u0644\\u0627\\u0648\\u0642\\u0627\\u062a \\u0648\\u062f\\u0639\\u0627 \\u0627\\u064a\\u0636\\u0627 \\u0627\\u0644\\u064a \\u062d\\u0645\\u0627\\u064a\\u0647 \\u0627\\u0644\\u0628\\u0646\\u064a\\u0647 \\u0627\\u0644\\u062a\\u062d\\u062a\\u064a\\u0647 \\u0627\\u0644\\u0645\\u062f\\u0646\\u064a\\u0647 \\u0648\\u0641\\u0642\\u0627 \\u0644\\u0644\\u0642\\u0627\\u0646\\u0648\\u0646 \\u0627\\u0644\\u0627\\u0646\\u0633\\u0627\\u0646\\u064a \\u0627\\u0644\\u062f\\u0648\\u0644\\u064a \\u0648\\u0627\\u0630 \\u0627\\u0634\\u0627\\u0631 \\u0627\\u0644\\u064a \\u0636\\u0639\\u0641 \\u0627\\u0644\\u0645\\u0634\\u0631\\u062f\\u064a\\u0646 \\u062f\\u0627\\u062e\\u0644\\u064a\\u0627 \\u0628\\u0648\\u062c\\u0647 \\u062e\\u0627\\u0635 \\u0634\\u062f\\u062f \\u063a\\u0648\\u062a\\u064a\\u0631\\u064a\\u0634 \\u0639\\u0644\\u064a \\u0627\\u0646\\u0647 \\u064a\\u062c\\u0628 \\u0636\\u0645\\u0627\\u0646 \\u0648\\u0635\\u0648\\u0644 \\u0627\\u0646\\u0633\\u0627\\u0646\\u064a \\u0645\\u0633\\u062a\\u0645\\u0631 \\u0648\\u062f\\u0648\\u0646 \\u0639\\u0648\\u0627\\u0621\\u0642 \\u0648\\u0627\\u0645\\u0646 \\u0644\\u0644\\u0645\\u062f\\u0646\\u064a\\u064a\\u0646 \\u0627\\u0644\\u0645\\u062d\\u062a\\u0627\\u062c\\u064a\\u0646 \\u062e\\u0644\\u0627\\u0644 \\u0639\\u0628\\u0631 \\u0627\\u0644\\u062d\\u062f\\u0648\\u062f \\u0627\\u062c\\u0644 \\u0627\\u0644\\u0633\\u0645\\u0627\\u062d \\u0644\\u0644\\u0627\\u0645\\u0645 \\u0627\\u0644\\u0645\\u062a\\u062d\\u062f\\u0647 \\u0648\\u0634\\u0631\\u0643\\u0627\\u0621\\u0647\\u0627 \\u0627\\u0644\\u0645\\u062c\\u0627\\u0644 \\u0627\\u0644\\u0627\\u0646\\u0633\\u0627\\u0646\\u064a \\u0628\\u0645\\u0648\\u0627\\u0635\\u0644\\u0647 \\u0627\\u0644\\u0627\\u0636\\u0637\\u0644\\u0627\\u0639 \\u0628\\u0639\\u0645\\u0644\\u0647\\u0627 \\u0627\\u0644\\u062d\\u0627\\u0633\\u0645 \\u0634\\u0645\\u0627\\u0644 \\u0633\\u0648\\u0631\\u064a\\u0627\\u0643\\u0645\\u0627 \\u0627\\u0639\\u0631\\u0628 \\u0627\\u0644\\u0627\\u0645\\u064a\\u0646 \\u0627\\u0644\\u0639\\u0627\\u0645 \\u0642\\u0644\\u0642 \\u0634\\u062f\\u064a\\u062f \\u0627\\u062d\\u062a\\u0645\\u0627\\u0644 \\u0627\\u0646 \\u062a\\u0621\\u062f\\u064a \\u0627\\u0644\\u0639\\u0645\\u0644\\u064a\\u0627\\u062a \\u0627\\u0644\\u0639\\u0633\\u0643\\u0631\\u064a\\u0647 \\u0627\\u0644\\u062d\\u0627\\u0644\\u064a\\u0647 \\u0627\\u0644\\u064a \\u0627\\u0644\\u0627\\u0641\\u0631\\u0627\\u062c \\u0627\\u0644\\u0645\\u0642\\u0635\\u0648\\u062f \\u0627\\u0644\\u0627\\u0641\\u0631\\u0627\\u062f \\u0627\\u0644\\u0645\\u0631\\u062a\\u0628\\u0637\\u064a\\u0646 \\u0628\\u062a\\u0646\\u0638\\u064a\\u0645 \\u062f\\u0627\\u0639\\u0634 \\u064a\\u062a\\u0631\\u062a\\u0628 \\u0639\\u0644\\u064a \\u0630\\u0644\\u0643\\u0647\\u0630\\u0627 \\u0648\\u0627\\u0634\\u0627\\u0631 \\u063a\\u0648\\u062a\\u064a\\u0631\\u064a\\u0634 \\u0627\\u0644\\u064a \\u0642\\u0631\\u0627\\u0631 \\u0645\\u062c\\u0644\\u0633 \\u0627\\u0644\\u0627\\u0645\\u0646 2254 2015 \\u064a\\u0634\\u062f\\u062f \\u0639\\u0644\\u064a \\u0627\\u0646 \\u0627\\u064a \\u062d\\u0644 \\u0644\\u0644\\u0627\\u0632\\u0645\\u0647 \\u0627\\u0644\\u0633\\u0648\\u0631\\u064a\\u0647 \\u064a\\u062c\\u0628 \\u0627\\u0646 \\u064a\\u0639\\u064a\\u062f \\u0627\\u0644\\u062a\\u0627\\u0643\\u064a\\u062f \\u0639\\u0644\\u064a \\u0633\\u064a\\u0627\\u062f\\u0647 \\u0633\\u0648\\u0631\\u064a\\u0627 \\u0648\\u0627\\u0633\\u062a\\u0642\\u0644\\u0627\\u0644\\u0647\\u0627 \\u0648\\u0648\\u062d\\u062f\\u062a\\u0647\\u0627 \\u0648\\u0633\\u0644\\u0627\\u0645\\u062a\\u0647\\u0627 \\u0627\\u0644\\u0627\\u0642\\u0644\\u064a\\u0645\\u064a\\u0648\\u0642\\u062f \\u0627\\u0639\\u0631\\u0628\\u062a \\u0645\\u0646\\u0638\\u0645\\u0647 \\u0627\\u0644\\u0635\\u062d\\u0647 \\u0627\\u0644\\u0639\\u0627\\u0644\\u0645\\u064a\\u0647 \\u0642\\u0644\\u0642 \\u0628\\u0627\\u0644\\u063a \\u0627\\u0632\\u0627\\u0621 \\u0627\\u0644\\u0648\\u0636\\u0639 \\u0627\\u0644\\u0635\\u062d\\u064a \\u0627\\u0644\\u0627\\u0646\\u0633\\u0627\\u0646\\u064a \\u0634\\u0645\\u0627\\u0644 \\u0634\\u0631\\u0642 \\u0633\\u0648\\u0631\\u064a\\u0627\\u0648\\u0641\\u064a \\u0628\\u064a\\u0627\\u0646 \\u0635\\u0627\\u062f\\u0631 \\u064a\\u0648\\u0645 13 \\u062a\\u0634\\u0631\\u064a\\u0646 \\u0627\\u0644\\u0627\\u0648\\u0644\\u0627\\u0643\\u062a\\u0648\\u0628\\u0631 \\u0630\\u0643\\u0631\\u062a \\u0627\\u0644\\u0645\\u0646\\u0638\\u0645\\u0647 \\u0627\\u0646\\u0647 \\u062a\\u0645 \\u062a\\u0634\\u0631\\u064a\\u062f \\u064a\\u0635\\u0644 \\u0627\\u0644\\u064a 200000 \\u0634\\u062e\\u0635 \\u0646\\u062a\\u064a\\u062c\\u0647 \\u0644\\u0644\\u0639\\u0645\\u0644\\u064a\\u0627\\u062a \\u0627\\u0644\\u0639\\u0633\\u0643\\u0631\\u064a\\u0647 \\u0627\\u0644\\u0645\\u062a\\u0632\\u0627\\u064a\\u062f\\u0647 9 \\u0627\\u0643\\u062a\\u0648\\u0628\\u0631 \\u062a\\u0634\\u0631\\u064a\\u0646 \\u0627\\u0644\\u0627\\u0648\\u0644 \\u0645\\u0634\\u064a\\u0631\\u0647 \\u0627\\u0644\\u064a \\u0627\\u0646 \\u062d\\u0648\\u0627\\u0644\\u064a 15 \\u0645\\u0644\\u064a\\u0648\\u0646 \\u0634\\u062e\\u0635 \\u064a\\u062d\\u062a\\u0627\\u062c\\u0648\\u0646 \\u0627\\u0644\\u064a \\u0645\\u0633\\u0627\\u0639\\u062f\\u0627\\u062a \\u0637\\u0628\\u064a\\u0647 \\u0648\\u0642\\u062f \\u0639\\u0627\\u0646\\u064a \\u0627\\u0644\\u0639\\u062f\\u064a\\u062f \\u0627\\u0644\\u0645\\u062a\\u0636\\u0631\\u0631\\u064a\\u0646 \\u0627\\u0639\\u0645\\u0627\\u0644 \\u0627\\u0644\\u0642\\u062a\\u0627\\u0644 \\u0627\\u0644\\u0627\\u062e\\u064a\\u0631\\u0647 \\u0636\\u063a\\u0648\\u0637 \\u062c\\u0633\\u062f\\u064a\\u0647 \\u0648\\u0639\\u0642\\u0644\\u064a\\u0647 \\u0647\\u0627\\u0621\\u0644\\u0647 \\u0646\\u062a\\u064a\\u062c\\u0647 \\u0644\\u0633\\u0646\\u0648\\u0627\\u062a \\u0627\\u0644\\u0635\\u0631\\u0627\\u0639 \\u0648\\u0627\\u0644\\u062a\\u0634\\u0631\\u062f \\u0627\\u0644\\u0645\\u062a\\u0643\\u0631\\u0631\\u0648\\u062a\\u0642\\u0648\\u0644 \\u0627\\u0644\\u0645\\u0646\\u0638\\u0645\\u0647 \\u0627\\u0646 \\u0627\\u0644\\u0627\\u0634\\u062e\\u0627\\u0635 \\u0627\\u0644\\u0645\\u062d\\u062a\\u0627\\u062c\\u0648\\u0646 \\u0627\\u0644\\u064a \\u062e\\u062f\\u0645\\u0627\\u062a \\u0627\\u0644\\u0631\\u0639\\u0627\\u064a\\u0647 \\u0627\\u0644\\u0635\\u062d\\u064a\\u0647 \\u0627\\u0644\\u0627\\u0633\\u0627\\u0633\\u064a\\u0647 \\u064a\\u0648\\u0627\\u062c\\u0647\\u0648\\u0646 \\u062a\\u062d\\u062f\\u064a\\u0627\\u062a \\u062a\\u062a\\u0639\\u0644\\u0642 \\u0628\\u0627\\u0646\\u0639\\u062f\\u0627\\u0645 \\u0627\\u0644\\u0627\\u0645\\u0646 \\u0648\\u0642\\u0644\\u0647 \\u0641\\u0631\\u0635 \\u0627\\u0644\\u062d\\u0635\\u0648\\u0644 \\u0639\\u0644\\u064a \\u0627\\u0644\\u0631\\u0639\\u0627\\u064a\\u0647 \\u0627\\u0644\\u0635\\u062d\\u064a\\u0647 \\u0627\\u0630 \\u062a\\u0627\\u062b\\u0631\\u062a \\u0627\\u0644\\u062e\\u062f\\u0645\\u0627\\u062a \\u0627\\u0644\\u0635\\u062d\\u064a\\u0647 \\u0627\\u0635\\u0627\\u0628\\u0647\\u0627 \\u0627\\u0644\\u0636\\u0639\\u0641 \\u0628\\u0627\\u0644\\u0641\\u0639\\u0644 \\u0634\\u0645\\u0627\\u0644 \\u0634\\u0631\\u0642 \\u0633\\u0648\\u0631\\u064a\\u0627 \\u0628\\u0627\\u062e\\u0631 \\u0627\\u0644\\u062a\\u0637\\u0648\\u0631\\u0627\\u062a \\u0627\\u0644\\u0627\\u0645\\u0646\\u064a\\u0647\\u0648\\u0642\\u062f \\u0627\\u0648\\u0636\\u062d\\u062a \\u0645\\u0646\\u0638\\u0645\\u0647 \\u0627\\u0644\\u0635\\u062d\\u0647 \\u0627\\u0646 \\u0627\\u0644\\u0645\\u0631\\u0627\\u0641\\u0642 \\u0627\\u0644\\u0635\\u062d\\u064a\\u0647 \\u0627\\u0635\\u0628\\u062d\\u062a \\u062e\\u0627\\u0631\\u062c \\u0627\\u0644\\u062e\\u062f\\u0645\\u0647 \\u0627\\u0644\\u0645\\u0633\\u062a\\u0634\\u0641\\u064a \\u0627\\u0644\\u0648\\u0637\\u0646\\u064a \\u0631\\u0627\\u0633 \\u0627\\u0644\\u0639\\u064a\\u0646 \\u0648\\u0627\\u0644\\u0645\\u0633\\u062a\\u0634\\u0641\\u064a \\u0627\\u0644\\u0648\\u0637\\u0646\\u064a \\u0648\\u0645\\u0631\\u0643\\u0632\\u0627\\u0646 \\u0635\\u062d\\u064a\\u0627\\u0646 \\u062a\\u0644 \\u0627\\u0628\\u064a\\u0636\\u0643\\u0645\\u0627 \\u062d\\u062f\\u062a \\u0627\\u0644\\u0645\\u0633\\u062a\\u0634\\u0641\\u064a\\u0627\\u062a \\u0627\\u0644\\u0645\\u064a\\u062f\\u0627\\u0646\\u064a\\u0647 \\u0627\\u0644\\u062b\\u0644\\u0627\\u062b\\u0647 \\u0645\\u062e\\u064a\\u0645 \\u0627\\u0644\\u0647\\u0648\\u0644 \\u062e\\u062f\\u0645\\u0627\\u062a\\u0647\\u0627 12 \\u062a\\u0634\\u0631\\u064a\\u0646 \\u0627\\u0644\\u0627\\u0648\\u0644\\u0627\\u0643\\u062a\\u0648\\u0628\\u0631 \\u0646\\u062a\\u064a\\u062c\\u0647 \\u062a\\u0635\\u0627\\u0639\\u062f \\u0627\\u0644\\u0627\\u0639\\u0645\\u0627\\u0644 \\u0627\\u0644\\u0642\\u062a\\u0627\\u0644\\u064a\\u0647 \\u0627\\u0639\\u0627\\u0642\\u062a \\u0648\\u0635\\u0648\\u0644 \\u0645\\u0648\\u0638\\u0641\\u064a \\u0627\\u0644\\u0631\\u0639\\u0627\\u064a\\u0647 \\u0627\\u0644\\u0637\\u0628\\u064a\\u0647 \\u0627\\u0644\\u064a \\u0627\\u0644\\u0645\\u062e\\u064a\\u0645 \\u062a\\u0645 \\u0627\\u062e\\u0644\\u0627\\u0621 \\u062c\\u0645\\u064a\\u0639 \\u0627\\u0644\\u0645\\u0631\\u0627\\u0641\\u0642 \\u0627\\u0644\\u0635\\u062d\\u064a\\u0647 \\u0627\\u0644\\u0645\\u062e\\u064a\\u0645\\u0627\\u062a \\u062a\\u0633\\u062a\\u0636\\u064a\\u0641 \\u0627\\u0644\\u0646\\u0627\\u0632\\u062d\\u064a\\u0646 \\u0639\\u064a\\u0646 \\u0639\\u064a\\u0633\\u064a \\u0648\\u0631\\u0627\\u0633 \\u0627\\u0644\\u0639\\u064a\\u0646 \\u062a\\u0639\\u0631\\u0636 \\u0645\\u0631\\u0627\\u0641\\u0642 \\u0627\\u0636\\u0627\\u0641\\u064a\\u0647 \\u0644\\u0644\\u062a\\u0647\\u062f\\u064a\\u062f \\u0638\\u0644 \\u062a\\u0635\\u0627\\u0639\\u062f \\u0627\\u0644\\u0646\\u0632\\u0627\\u0639 \\u0628\\u0633\\u0631\\u0639\\u0647\\u0648\\u0630\\u0643\\u0631\\u062a \\u0627\\u0644\\u0645\\u0646\\u0638\\u0645\\u0647 \\u0627\\u0646 \\u0639\\u062f\\u062f\\u0627 \\u0634\\u0631\\u0643\\u0627\\u0621\\u0647\\u0627 \\u0639\\u0644\\u0642\\u0648\\u0627 \\u062e\\u062f\\u0645\\u0627\\u062a \\u0627\\u0644\\u0631\\u0639\\u0627\\u064a\\u0647 \\u0627\\u0644\\u0637\\u0628\\u064a\\u0647 \\u0628\\u0627\\u0644\\u0641\\u0639\\u0644 \\u0628\\u0633\\u0628\\u0628 \\u0627\\u0646\\u0639\\u062f\\u0627\\u0645 \\u0627\\u0644\\u0627\\u0645\\u0646 \\u0641\\u0627\\u0642\\u0645 \\u0639\\u0648\\u0627\\u0621\\u0642 \\u0627\\u0644\\u0648\\u0635\\u0648\\u0644 \\u0627\\u0644\\u064a \\u062e\\u062f\\u0645\\u0627\\u062a \\u0627\\u0644\\u0631\\u0639\\u0627\\u064a\\u0647 \\u0627\\u0644\\u0635\\u062d\\u064a\\u0647 \\u0627\\u0644\\u0627\\u0633\\u0627\\u0633\\u064a\\u0647\"\n        ],\n        \"semantic_type\": \"\",\n        \"description\": \"\"\n      }\n    },\n    {\n      \"column\": \"Category\",\n      \"properties\": {\n        \"dtype\": \"category\",\n        \"num_unique_values\": 3,\n        \"samples\": [\n          \"\\u0631\\u064a\\u0627\\u062f\\u0629 \\u0623\\u0639\\u0645\\u0627\\u0644\",\n          \"\\u0639\\u0644\\u0648\\u0645 \\u0648\\u062a\\u0643\\u0646\\u0648\\u0644\\u0648\\u062c\\u064a\\u0627\",\n          \"\\u0623\\u062e\\u0631\\u0649\"\n        ],\n        \"semantic_type\": \"\",\n        \"description\": \"\"\n      }\n    }\n  ]\n}"
            }
          },
          "metadata": {},
          "execution_count": 16
        }
      ]
    },
    {
      "cell_type": "code",
      "source": [
        "df.shape"
      ],
      "metadata": {
        "execution": {
          "iopub.status.busy": "2024-04-25T17:44:55.202488Z",
          "iopub.execute_input": "2024-04-25T17:44:55.203162Z",
          "iopub.status.idle": "2024-04-25T17:44:55.212446Z",
          "shell.execute_reply.started": "2024-04-25T17:44:55.203100Z",
          "shell.execute_reply": "2024-04-25T17:44:55.210753Z"
        },
        "trusted": true,
        "colab": {
          "base_uri": "https://localhost:8080/"
        },
        "id": "GGxGXvk2fOFa",
        "outputId": "d79f647e-a4c2-4214-9930-bd49bd81f3c0"
      },
      "execution_count": null,
      "outputs": [
        {
          "output_type": "execute_result",
          "data": {
            "text/plain": [
              "(8386, 3)"
            ]
          },
          "metadata": {},
          "execution_count": 17
        }
      ]
    },
    {
      "cell_type": "code",
      "source": [
        "df.columns"
      ],
      "metadata": {
        "execution": {
          "iopub.status.busy": "2024-04-25T16:39:29.195443Z",
          "iopub.execute_input": "2024-04-25T16:39:29.197900Z",
          "iopub.status.idle": "2024-04-25T16:39:29.216886Z",
          "shell.execute_reply.started": "2024-04-25T16:39:29.197816Z",
          "shell.execute_reply": "2024-04-25T16:39:29.214510Z"
        },
        "trusted": true,
        "colab": {
          "base_uri": "https://localhost:8080/"
        },
        "id": "fefSSvxdfOFa",
        "outputId": "eaa97906-0920-4045-f640-904428c23a32"
      },
      "execution_count": null,
      "outputs": [
        {
          "output_type": "execute_result",
          "data": {
            "text/plain": [
              "Index(['Title', 'Content', 'Category'], dtype='object')"
            ]
          },
          "metadata": {},
          "execution_count": 18
        }
      ]
    },
    {
      "cell_type": "code",
      "source": [
        "arabic_stopwords = stopwords.words(\"arabic\")\n",
        "len(arabic_stopwords)"
      ],
      "metadata": {
        "execution": {
          "iopub.status.busy": "2024-04-25T17:45:00.475530Z",
          "iopub.execute_input": "2024-04-25T17:45:00.476026Z",
          "iopub.status.idle": "2024-04-25T17:45:00.487521Z",
          "shell.execute_reply.started": "2024-04-25T17:45:00.475991Z",
          "shell.execute_reply": "2024-04-25T17:45:00.486205Z"
        },
        "trusted": true,
        "colab": {
          "base_uri": "https://localhost:8080/"
        },
        "id": "u-jWOkfAfOFa",
        "outputId": "c2c94122-401e-4378-9d23-54541d0233a9"
      },
      "execution_count": null,
      "outputs": [
        {
          "output_type": "execute_result",
          "data": {
            "text/plain": [
              "754"
            ]
          },
          "metadata": {},
          "execution_count": 19
        }
      ]
    },
    {
      "cell_type": "code",
      "source": [
        "# Perform text preprocessing\n",
        "def preprocess(text):\n",
        "    def remove_punctuation(text):\n",
        "        return text.translate(str.maketrans(\"\", \"\", string.punctuation))\n",
        "\n",
        "    def tokenize(text):\n",
        "        return nltk.word_tokenize(text)\n",
        "\n",
        "    def lemmatize(tokens):\n",
        "        stemmer = LancasterStemmer()\n",
        "        return [stemmer.stem(token) for token in tokens]\n",
        "\n",
        "    def remove_stopwords(tokens):\n",
        "        stop_words = set(stopwords.words(\"arabic\"))\n",
        "        return [token for token in tokens if token.lower() not in stop_words]\n",
        "\n",
        "    text = remove_punctuation(text)\n",
        "    tokenized = tokenize(text)\n",
        "    lemmatized = lemmatize(tokenized)\n",
        "    without_stopwords = remove_stopwords(lemmatized)\n",
        "\n",
        "    return (tokenized, lemmatized, without_stopwords)"
      ],
      "metadata": {
        "execution": {
          "iopub.status.busy": "2024-04-25T17:45:02.121498Z",
          "iopub.execute_input": "2024-04-25T17:45:02.121915Z",
          "iopub.status.idle": "2024-04-25T17:45:02.134750Z",
          "shell.execute_reply.started": "2024-04-25T17:45:02.121883Z",
          "shell.execute_reply": "2024-04-25T17:45:02.133498Z"
        },
        "trusted": true,
        "id": "y3Abm55-fOFa"
      },
      "execution_count": null,
      "outputs": []
    },
    {
      "cell_type": "code",
      "source": [
        "# Apply preprocessing to the 'Content' column\n",
        "processed_text = df['Content'].apply(preprocess)\n",
        "\n",
        "print(processed_text)"
      ],
      "metadata": {
        "execution": {
          "iopub.status.busy": "2024-04-25T17:45:05.815548Z",
          "iopub.execute_input": "2024-04-25T17:45:05.815968Z",
          "iopub.status.idle": "2024-04-25T17:45:54.043684Z",
          "shell.execute_reply.started": "2024-04-25T17:45:05.815938Z",
          "shell.execute_reply": "2024-04-25T17:45:54.041930Z"
        },
        "trusted": true,
        "colab": {
          "base_uri": "https://localhost:8080/"
        },
        "id": "Of8G1j4wfOFa",
        "outputId": "310836f1-6079-4380-838a-261f14358a72"
      },
      "execution_count": null,
      "outputs": [
        {
          "output_type": "stream",
          "name": "stdout",
          "text": [
            "0       ([جاءت, جوله, التمويل, التمهيديه, الاولي, للشر...\n",
            "1       ([تعد, دراسه, الجدوي, متطلبا, اساسيا, لنجاح, ا...\n",
            "2       ([وقالت, لجنه, نوبل, للمره, الاولي, التاريخ, ي...\n",
            "3       ([نشرت, الوكاله, وثاءق, علي, الانترنت, اعدها, ...\n",
            "4       ([دراسه, حديثه, قام, فريق, العلماء, جونز, هوبك...\n",
            "                              ...                        \n",
            "8394    ([قالت, وكاله, بلومبرغ, الاثنين, ان, كبري, شرك...\n",
            "8395    ([بدات, الفكره, نعومه, اظفاره, عندما, كان, الس...\n",
            "8396    ([اعلنت, منصه, كريم, 4, فبراير, الجاري, اطلاق,...\n",
            "8397    ([وفقا, لتقديرات, المكتب, الاممي, المعني, بالم...\n",
            "8398    ([تاتي, الزياره, كجزء, تنفيذ, اتفاقيه, السلام,...\n",
            "Name: Content, Length: 8386, dtype: object\n"
          ]
        }
      ]
    },
    {
      "cell_type": "code",
      "source": [
        "# Apply preprocessing to the 'Category' column\n",
        "processed_text = df['Category'].apply(preprocess)\n",
        "\n",
        "\n",
        "print(processed_text)"
      ],
      "metadata": {
        "execution": {
          "iopub.status.busy": "2024-04-25T17:46:02.617222Z",
          "iopub.execute_input": "2024-04-25T17:46:02.617663Z",
          "iopub.status.idle": "2024-04-25T17:46:09.579551Z",
          "shell.execute_reply.started": "2024-04-25T17:46:02.617631Z",
          "shell.execute_reply": "2024-04-25T17:46:09.578254Z"
        },
        "trusted": true,
        "colab": {
          "base_uri": "https://localhost:8080/"
        },
        "id": "0Wnvm3KYfOFa",
        "outputId": "a03f4c65-096a-4c01-fa70-f68dac8824be"
      },
      "execution_count": null,
      "outputs": [
        {
          "output_type": "stream",
          "name": "stdout",
          "text": [
            "0        ([ريادة, أعمال], [ريادة, أعمال], [ريادة, أعمال])\n",
            "1        ([ريادة, أعمال], [ريادة, أعمال], [ريادة, أعمال])\n",
            "2       ([علوم, وتكنولوجيا], [علوم, وتكنولوجيا], [علوم...\n",
            "3       ([علوم, وتكنولوجيا], [علوم, وتكنولوجيا], [علوم...\n",
            "4       ([علوم, وتكنولوجيا], [علوم, وتكنولوجيا], [علوم...\n",
            "                              ...                        \n",
            "8394    ([علوم, وتكنولوجيا], [علوم, وتكنولوجيا], [علوم...\n",
            "8395                             ([أخرى], [أخرى], [أخرى])\n",
            "8396     ([ريادة, أعمال], [ريادة, أعمال], [ريادة, أعمال])\n",
            "8397                             ([أخرى], [أخرى], [أخرى])\n",
            "8398                             ([أخرى], [أخرى], [أخرى])\n",
            "Name: Category, Length: 8386, dtype: object\n"
          ]
        }
      ]
    },
    {
      "cell_type": "markdown",
      "source": [
        "# **Machine Learning Algorithm (LogisticRegression)**"
      ],
      "metadata": {
        "id": "WsI_T9rIfOFb"
      }
    },
    {
      "cell_type": "code",
      "source": [
        "# Split the data into features and target\n",
        "category_labels = {\"أخرى\": 3, \"علوم وتكنولوجيا\": 2, \"ريادة أعمال\": 1}\n",
        "df = df.replace({\"Category\": category_labels})\n",
        "features = df.Content\n",
        "target = df.Category\n",
        "\n",
        "# splitting into train and tests\n",
        "X_train, X_test, Y_train, Y_test = train_test_split(features, target, test_size =0.2, random_state=100)"
      ],
      "metadata": {
        "execution": {
          "iopub.status.busy": "2024-04-25T17:46:09.581855Z",
          "iopub.execute_input": "2024-04-25T17:46:09.582249Z",
          "iopub.status.idle": "2024-04-25T17:46:09.604668Z",
          "shell.execute_reply.started": "2024-04-25T17:46:09.582217Z",
          "shell.execute_reply": "2024-04-25T17:46:09.603105Z"
        },
        "trusted": true,
        "id": "L6eAdoocfOFb"
      },
      "execution_count": null,
      "outputs": []
    },
    {
      "cell_type": "code",
      "source": [
        "# Create the pipeline\n",
        "pipe = make_pipeline(TfidfVectorizer(), LogisticRegression())\n",
        "\n",
        "# Define the parameter grid for grid search\n",
        "param_grid = {'logisticregression__C': [0.01, 0.1, 1, 10, 100]}\n",
        "\n",
        "# Perform grid search with cross-validation\n",
        "lr = GridSearchCV(pipe, param_grid, cv=5)\n",
        "lr.fit(X_train, Y_train)\n",
        "\n",
        "# Perform cross-validation and calculate mean accuracy\n",
        "cv_scores = cross_val_score(lr, features, target, cv=5)\n",
        "mean_cv_accuracy = np.mean(cv_scores)\n",
        "\n",
        "# Make predictions on the testing set\n",
        "predictions = lr.predict(X_test)\n",
        "predicted_proba = lr.predict_proba(X_test)\n",
        "\n",
        "# Calculate and print the accuracy score\n",
        "accuracy = accuracy_score(Y_test, predictions)\n",
        "print(f\"Accuracy score: {accuracy:.2f}\")\n",
        "\n",
        "# Print the classification report\n",
        "print(classification_report(Y_test, predictions))\n",
        "\n",
        "# Print the mean cross-validation accuracy\n",
        "print(f\"Mean Cross-Validation Accuracy: {mean_cv_accuracy:.2f}\")"
      ],
      "metadata": {
        "execution": {
          "iopub.status.busy": "2024-04-25T17:46:12.268312Z",
          "iopub.execute_input": "2024-04-25T17:46:12.268831Z",
          "iopub.status.idle": "2024-04-25T17:51:30.844575Z",
          "shell.execute_reply.started": "2024-04-25T17:46:12.268793Z",
          "shell.execute_reply": "2024-04-25T17:51:30.842983Z"
        },
        "trusted": true,
        "colab": {
          "base_uri": "https://localhost:8080/"
        },
        "id": "iBL87gO6fOFb",
        "outputId": "94c8e505-1ced-4157-f8c7-dc2d91ff3ab0"
      },
      "execution_count": null,
      "outputs": [
        {
          "output_type": "stream",
          "name": "stdout",
          "text": [
            "Accuracy score: 0.99\n",
            "              precision    recall  f1-score   support\n",
            "\n",
            "           1       0.99      0.99      0.99       535\n",
            "           2       0.98      0.99      0.99       602\n",
            "           3       0.99      0.99      0.99       541\n",
            "\n",
            "    accuracy                           0.99      1678\n",
            "   macro avg       0.99      0.99      0.99      1678\n",
            "weighted avg       0.99      0.99      0.99      1678\n",
            "\n",
            "Mean Cross-Validation Accuracy: 0.99\n"
          ]
        }
      ]
    },
    {
      "cell_type": "code",
      "source": [
        "# Save the trained model to disk\n",
        "pickle.dump(lr, open('lr', 'wb'))"
      ],
      "metadata": {
        "execution": {
          "iopub.status.busy": "2024-04-25T16:44:22.690254Z",
          "iopub.execute_input": "2024-04-25T16:44:22.690704Z",
          "iopub.status.idle": "2024-04-25T16:44:22.696732Z",
          "shell.execute_reply.started": "2024-04-25T16:44:22.690669Z",
          "shell.execute_reply": "2024-04-25T16:44:22.695466Z"
        },
        "trusted": true,
        "id": "CGwFGwNbfOFb"
      },
      "execution_count": null,
      "outputs": []
    },
    {
      "cell_type": "code",
      "source": [
        "# Example usage of the trained model\n",
        "example_text = df['Content'][3000]\n",
        "out = lr.predict([example_text])\n",
        "predicted_category = list(category_labels.keys())[list(category_labels.values()).index(out[0])]\n",
        "print(f\"Predicted category for example text: {predicted_category}\")"
      ],
      "metadata": {
        "execution": {
          "iopub.status.busy": "2024-04-25T16:40:26.635075Z",
          "iopub.status.idle": "2024-04-25T16:40:26.635624Z",
          "shell.execute_reply.started": "2024-04-25T16:40:26.635357Z",
          "shell.execute_reply": "2024-04-25T16:40:26.635400Z"
        },
        "trusted": true,
        "colab": {
          "base_uri": "https://localhost:8080/"
        },
        "id": "XMx63pe7fOFb",
        "outputId": "f60d3880-afb9-406f-8b16-87a48764cab7"
      },
      "execution_count": null,
      "outputs": [
        {
          "output_type": "stream",
          "name": "stdout",
          "text": [
            "Predicted category for example text: ريادة أعمال\n"
          ]
        }
      ]
    },
    {
      "cell_type": "code",
      "source": [
        "# Plot the confusion matrix\n",
        "cm = confusion_matrix(Y_test, predictions)\n",
        "plt.figure(figsize=(8, 6))\n",
        "sns.heatmap(cm, annot=True, cmap='Blues', fmt='d', xticklabels=category_labels.keys(), yticklabels=category_labels.keys())\n",
        "plt.xlabel('Predicted')\n",
        "plt.ylabel('Actual')\n",
        "plt.title('Confusion Matrix')\n",
        "plt.show()\n"
      ],
      "metadata": {
        "trusted": true,
        "colab": {
          "base_uri": "https://localhost:8080/",
          "height": 567
        },
        "id": "wrpTKps_fOFb",
        "outputId": "169edb02-af8b-43d1-8095-32799ad59dd6"
      },
      "execution_count": null,
      "outputs": [
        {
          "output_type": "display_data",
          "data": {
            "text/plain": [
              "<Figure size 800x600 with 2 Axes>"
            ],
            "image/png": "[encoded data removed]"
          },
          "metadata": {}
        }
      ]
    },
    {
      "cell_type": "markdown",
      "source": [
        "# Deep Learning"
      ],
      "metadata": {
        "id": "HyFDWtGRQbO8"
      }
    },
    {
      "cell_type": "code",
      "source": [
        "!pip install tensorflow"
      ],
      "metadata": {
        "id": "dG4SjdQZQZ5y",
        "colab": {
          "base_uri": "https://localhost:8080/"
        },
        "outputId": "a977fd48-f410-4d06-fec0-443f739e71ea"
      },
      "execution_count": null,
      "outputs": [
        {
          "output_type": "stream",
          "name": "stdout",
          "text": [
            "Requirement already satisfied: tensorflow in /usr/local/lib/python3.10/dist-packages (2.15.0)\n",
            "Requirement already satisfied: absl-py>=1.0.0 in /usr/local/lib/python3.10/dist-packages (from tensorflow) (1.4.0)\n",
            "Requirement already satisfied: astunparse>=1.6.0 in /usr/local/lib/python3.10/dist-packages (from tensorflow) (1.6.3)\n",
            "Requirement already satisfied: flatbuffers>=23.5.26 in /usr/local/lib/python3.10/dist-packages (from tensorflow) (24.3.25)\n",
            "Requirement already satisfied: gast!=0.5.0,!=0.5.1,!=0.5.2,>=0.2.1 in /usr/local/lib/python3.10/dist-packages (from tensorflow) (0.5.4)\n",
            "Requirement already satisfied: google-pasta>=0.1.1 in /usr/local/lib/python3.10/dist-packages (from tensorflow) (0.2.0)\n",
            "Requirement already satisfied: h5py>=2.9.0 in /usr/local/lib/python3.10/dist-packages (from tensorflow) (3.9.0)\n",
            "Requirement already satisfied: libclang>=13.0.0 in /usr/local/lib/python3.10/dist-packages (from tensorflow) (18.1.1)\n",
            "Requirement already satisfied: ml-dtypes~=0.2.0 in /usr/local/lib/python3.10/dist-packages (from tensorflow) (0.2.0)\n",
            "Requirement already satisfied: numpy<2.0.0,>=1.23.5 in /usr/local/lib/python3.10/dist-packages (from tensorflow) (1.25.2)\n",
            "Requirement already satisfied: opt-einsum>=2.3.2 in /usr/local/lib/python3.10/dist-packages (from tensorflow) (3.3.0)\n",
            "Requirement already satisfied: packaging in /usr/local/lib/python3.10/dist-packages (from tensorflow) (24.0)\n",
            "Requirement already satisfied: protobuf!=4.21.0,!=4.21.1,!=4.21.2,!=4.21.3,!=4.21.4,!=4.21.5,<5.0.0dev,>=3.20.3 in /usr/local/lib/python3.10/dist-packages (from tensorflow) (3.20.3)\n",
            "Requirement already satisfied: setuptools in /usr/local/lib/python3.10/dist-packages (from tensorflow) (67.7.2)\n",
            "Requirement already satisfied: six>=1.12.0 in /usr/local/lib/python3.10/dist-packages (from tensorflow) (1.16.0)\n",
            "Requirement already satisfied: termcolor>=1.1.0 in /usr/local/lib/python3.10/dist-packages (from tensorflow) (2.4.0)\n",
            "Requirement already satisfied: typing-extensions>=3.6.6 in /usr/local/lib/python3.10/dist-packages (from tensorflow) (4.11.0)\n",
            "Requirement already satisfied: wrapt<1.15,>=1.11.0 in /usr/local/lib/python3.10/dist-packages (from tensorflow) (1.14.1)\n",
            "Requirement already satisfied: tensorflow-io-gcs-filesystem>=0.23.1 in /usr/local/lib/python3.10/dist-packages (from tensorflow) (0.36.0)\n",
            "Requirement already satisfied: grpcio<2.0,>=1.24.3 in /usr/local/lib/python3.10/dist-packages (from tensorflow) (1.62.2)\n",
            "Requirement already satisfied: tensorboard<2.16,>=2.15 in /usr/local/lib/python3.10/dist-packages (from tensorflow) (2.15.2)\n",
            "Requirement already satisfied: tensorflow-estimator<2.16,>=2.15.0 in /usr/local/lib/python3.10/dist-packages (from tensorflow) (2.15.0)\n",
            "Requirement already satisfied: keras<2.16,>=2.15.0 in /usr/local/lib/python3.10/dist-packages (from tensorflow) (2.15.0)\n",
            "Requirement already satisfied: wheel<1.0,>=0.23.0 in /usr/local/lib/python3.10/dist-packages (from astunparse>=1.6.0->tensorflow) (0.43.0)\n",
            "Requirement already satisfied: google-auth<3,>=1.6.3 in /usr/local/lib/python3.10/dist-packages (from tensorboard<2.16,>=2.15->tensorflow) (2.27.0)\n",
            "Requirement already satisfied: google-auth-oauthlib<2,>=0.5 in /usr/local/lib/python3.10/dist-packages (from tensorboard<2.16,>=2.15->tensorflow) (1.2.0)\n",
            "Requirement already satisfied: markdown>=2.6.8 in /usr/local/lib/python3.10/dist-packages (from tensorboard<2.16,>=2.15->tensorflow) (3.6)\n",
            "Requirement already satisfied: requests<3,>=2.21.0 in /usr/local/lib/python3.10/dist-packages (from tensorboard<2.16,>=2.15->tensorflow) (2.31.0)\n",
            "Requirement already satisfied: tensorboard-data-server<0.8.0,>=0.7.0 in /usr/local/lib/python3.10/dist-packages (from tensorboard<2.16,>=2.15->tensorflow) (0.7.2)\n",
            "Requirement already satisfied: werkzeug>=1.0.1 in /usr/local/lib/python3.10/dist-packages (from tensorboard<2.16,>=2.15->tensorflow) (3.0.2)\n",
            "Requirement already satisfied: cachetools<6.0,>=2.0.0 in /usr/local/lib/python3.10/dist-packages (from google-auth<3,>=1.6.3->tensorboard<2.16,>=2.15->tensorflow) (5.3.3)\n",
            "Requirement already satisfied: pyasn1-modules>=0.2.1 in /usr/local/lib/python3.10/dist-packages (from google-auth<3,>=1.6.3->tensorboard<2.16,>=2.15->tensorflow) (0.4.0)\n",
            "Requirement already satisfied: rsa<5,>=3.1.4 in /usr/local/lib/python3.10/dist-packages (from google-auth<3,>=1.6.3->tensorboard<2.16,>=2.15->tensorflow) (4.9)\n",
            "Requirement already satisfied: requests-oauthlib>=0.7.0 in /usr/local/lib/python3.10/dist-packages (from google-auth-oauthlib<2,>=0.5->tensorboard<2.16,>=2.15->tensorflow) (1.3.1)\n",
            "Requirement already satisfied: charset-normalizer<4,>=2 in /usr/local/lib/python3.10/dist-packages (from requests<3,>=2.21.0->tensorboard<2.16,>=2.15->tensorflow) (3.3.2)\n",
            "Requirement already satisfied: idna<4,>=2.5 in /usr/local/lib/python3.10/dist-packages (from requests<3,>=2.21.0->tensorboard<2.16,>=2.15->tensorflow) (3.7)\n",
            "Requirement already satisfied: urllib3<3,>=1.21.1 in /usr/local/lib/python3.10/dist-packages (from requests<3,>=2.21.0->tensorboard<2.16,>=2.15->tensorflow) (2.0.7)\n",
            "Requirement already satisfied: certifi>=2017.4.17 in /usr/local/lib/python3.10/dist-packages (from requests<3,>=2.21.0->tensorboard<2.16,>=2.15->tensorflow) (2024.2.2)\n",
            "Requirement already satisfied: MarkupSafe>=2.1.1 in /usr/local/lib/python3.10/dist-packages (from werkzeug>=1.0.1->tensorboard<2.16,>=2.15->tensorflow) (2.1.5)\n",
            "Requirement already satisfied: pyasn1<0.7.0,>=0.4.6 in /usr/local/lib/python3.10/dist-packages (from pyasn1-modules>=0.2.1->google-auth<3,>=1.6.3->tensorboard<2.16,>=2.15->tensorflow) (0.6.0)\n",
            "Requirement already satisfied: oauthlib>=3.0.0 in /usr/local/lib/python3.10/dist-packages (from requests-oauthlib>=0.7.0->google-auth-oauthlib<2,>=0.5->tensorboard<2.16,>=2.15->tensorflow) (3.2.2)\n"
          ]
        }
      ]
    },
    {
      "cell_type": "code",
      "source": [
        "import pandas as pd\n",
        "import numpy as np\n",
        "from sklearn.model_selection import train_test_split\n",
        "from sklearn.preprocessing import LabelEncoder\n",
        "from tensorflow.keras.preprocessing.text import Tokenizer\n",
        "from tensorflow.keras.preprocessing.sequence import pad_sequences\n",
        "from tensorflow.keras.models import Sequential\n",
        "from tensorflow.keras.layers import Embedding, LSTM, Dense"
      ],
      "metadata": {
        "id": "Xoa55ZoNQkmL"
      },
      "execution_count": null,
      "outputs": []
    },
    {
      "cell_type": "code",
      "source": [
        "# Handle missing values\n",
        "df = df.dropna()\n",
        "df = df.reset_index(drop=True)\n",
        "\n",
        "# Convert non-string values to string\n",
        "df['Content'] = df['Content'].astype(str)"
      ],
      "metadata": {
        "id": "_Mf1Wn62pZzY"
      },
      "execution_count": null,
      "outputs": []
    },
    {
      "cell_type": "code",
      "source": [
        "# Split the dataset into train and test sets\n",
        "train_df, test_df = train_test_split(df, test_size=0.2, random_state=42)"
      ],
      "metadata": {
        "id": "TorwL0sbpavh"
      },
      "execution_count": null,
      "outputs": []
    },
    {
      "cell_type": "code",
      "source": [
        "# Tokenize the text\n",
        "tokenizer = Tokenizer()\n",
        "tokenizer.fit_on_texts(train_df['Content'])\n",
        "train_sequences = tokenizer.texts_to_sequences(train_df['Content'])\n",
        "test_sequences = tokenizer.texts_to_sequences(test_df['Content'])"
      ],
      "metadata": {
        "id": "16YdNoh0pgco"
      },
      "execution_count": null,
      "outputs": []
    },
    {
      "cell_type": "code",
      "source": [
        "# Pad sequences to have the same length\n",
        "max_length = 100  # Adjust this value based on your data\n",
        "train_data = pad_sequences(train_sequences, maxlen=max_length)\n",
        "test_data = pad_sequences(test_sequences, maxlen=max_length)"
      ],
      "metadata": {
        "id": "j3oKCvjCphPr"
      },
      "execution_count": null,
      "outputs": []
    },
    {
      "cell_type": "code",
      "source": [
        "# Convert categorical labels to numerical labels\n",
        "label_encoder = LabelEncoder()\n",
        "train_labels = label_encoder.fit_transform(train_df['Category'])\n",
        "test_labels = label_encoder.transform(test_df['Category'])"
      ],
      "metadata": {
        "id": "GshTqzM-prRE"
      },
      "execution_count": null,
      "outputs": []
    },
    {
      "cell_type": "code",
      "source": [
        "# Create the model\n",
        "model = Sequential()\n",
        "model.add(Embedding(len(tokenizer.word_index) + 1, 100, input_length=max_length))\n",
        "model.add(LSTM(128))\n",
        "model.add(Dense(len(df['Category'].unique()), activation='softmax'))"
      ],
      "metadata": {
        "id": "iW17bOO2pr8k"
      },
      "execution_count": null,
      "outputs": []
    },
    {
      "cell_type": "code",
      "source": [
        "# Compile the model\n",
        "model.compile(loss='sparse_categorical_crossentropy', optimizer='adam', metrics=['accuracy'])"
      ],
      "metadata": {
        "id": "_Qr0yrXUpvjC"
      },
      "execution_count": null,
      "outputs": []
    },
    {
      "cell_type": "code",
      "source": [
        "# Train the model\n",
        "H=model.fit(train_data, train_labels, validation_data=(test_data, test_labels), epochs=10, batch_size=32)"
      ],
      "metadata": {
        "colab": {
          "base_uri": "https://localhost:8080/"
        },
        "id": "JGPd3zsFp7Ce",
        "outputId": "3eb57e5a-a3d4-48c5-d009-b6fbd08f8570"
      },
      "execution_count": null,
      "outputs": [
        {
          "output_type": "stream",
          "name": "stdout",
          "text": [
            "Epoch 1/10\n",
            "210/210 [==============================] - 138s 647ms/step - loss: 0.4122 - accuracy: 0.8345 - val_loss: 0.2911 - val_accuracy: 0.9052\n",
            "Epoch 2/10\n",
            "210/210 [==============================] - 125s 597ms/step - loss: 0.0798 - accuracy: 0.9811 - val_loss: 0.1359 - val_accuracy: 0.9589\n",
            "Epoch 3/10\n",
            "210/210 [==============================] - 122s 579ms/step - loss: 0.0151 - accuracy: 0.9967 - val_loss: 0.1345 - val_accuracy: 0.9678\n",
            "Epoch 4/10\n",
            "210/210 [==============================] - 122s 582ms/step - loss: 0.0057 - accuracy: 0.9990 - val_loss: 0.1209 - val_accuracy: 0.9690\n",
            "Epoch 5/10\n",
            "210/210 [==============================] - 124s 591ms/step - loss: 7.6356e-04 - accuracy: 1.0000 - val_loss: 0.1642 - val_accuracy: 0.9678\n",
            "Epoch 6/10\n",
            "210/210 [==============================] - 132s 621ms/step - loss: 0.0053 - accuracy: 0.9996 - val_loss: 0.1521 - val_accuracy: 0.9666\n",
            "Epoch 7/10\n",
            "210/210 [==============================] - 123s 586ms/step - loss: 1.4052e-04 - accuracy: 1.0000 - val_loss: 0.1795 - val_accuracy: 0.9672\n",
            "Epoch 8/10\n",
            "210/210 [==============================] - 124s 590ms/step - loss: 6.9527e-05 - accuracy: 1.0000 - val_loss: 0.2080 - val_accuracy: 0.9666\n",
            "Epoch 9/10\n",
            "210/210 [==============================] - 122s 579ms/step - loss: 4.7294e-05 - accuracy: 1.0000 - val_loss: 0.2218 - val_accuracy: 0.9672\n",
            "Epoch 10/10\n",
            "210/210 [==============================] - 138s 656ms/step - loss: 3.7422e-05 - accuracy: 1.0000 - val_loss: 0.2084 - val_accuracy: 0.9684\n"
          ]
        }
      ]
    },
    {
      "cell_type": "code",
      "source": [
        "# Evaluate the model\n",
        "loss, accuracy = model.evaluate(test_data, test_labels)\n",
        "print(f'Test Loss: {loss:.4f}')\n",
        "print(f'Test Accuracy: {accuracy:.4f}')"
      ],
      "metadata": {
        "colab": {
          "base_uri": "https://localhost:8080/"
        },
        "id": "DpG46PprqBAP",
        "outputId": "5000f236-0342-4f63-d33d-516549c19f11"
      },
      "execution_count": null,
      "outputs": [
        {
          "output_type": "stream",
          "name": "stdout",
          "text": [
            "53/53 [==============================] - 3s 55ms/step - loss: 0.2084 - accuracy: 0.9684\n",
            "Test Loss: 0.2084\n",
            "Test Accuracy: 0.9684\n"
          ]
        }
      ]
    },
    {
      "cell_type": "code",
      "source": [
        "model.summary()"
      ],
      "metadata": {
        "colab": {
          "base_uri": "https://localhost:8080/"
        },
        "id": "nLl7AAHZyuhz",
        "outputId": "6c04885b-fe34-42a4-805f-1cba24134806"
      },
      "execution_count": null,
      "outputs": [
        {
          "output_type": "stream",
          "name": "stdout",
          "text": [
            "Model: \"sequential\"\n",
            "_________________________________________________________________\n",
            " Layer (type)                Output Shape              Param #   \n",
            "=================================================================\n",
            " embedding (Embedding)       (None, 100, 100)          15668000  \n",
            "                                                                 \n",
            " lstm (LSTM)                 (None, 128)               117248    \n",
            "                                                                 \n",
            " dense (Dense)               (None, 3)                 387       \n",
            "                                                                 \n",
            "=================================================================\n",
            "Total params: 15785635 (60.22 MB)\n",
            "Trainable params: 15785635 (60.22 MB)\n",
            "Non-trainable params: 0 (0.00 Byte)\n",
            "_________________________________________________________________\n"
          ]
        }
      ]
    },
    {
      "cell_type": "code",
      "source": [
        "#  Accuracy\n",
        "import matplotlib.pyplot as plt\n",
        "\n",
        "\n",
        "plt.plot(H.history['accuracy'])\n",
        "plt.plot(H.history['val_accuracy'])\n",
        "plt.title('Model accuracy')\n",
        "plt.ylabel('Accuracy')\n",
        "plt.xlabel('Epoch')\n",
        "plt.legend(['Train', 'Validation'], loc='upper left')\n",
        "plt.show()\n",
        "# Loss\n",
        "plt.plot(H.history['loss'])\n",
        "plt.plot(H.history['val_loss'])\n",
        "plt.title('Model loss')\n",
        "plt.ylabel('Loss')\n",
        "plt.xlabel('Epoch')\n",
        "plt.legend(['train', 'validation'], loc='upper left')\n",
        "plt.show()"
      ],
      "metadata": {
        "colab": {
          "base_uri": "https://localhost:8080/",
          "height": 927
        },
        "id": "Tt8GuDDOyvWY",
        "outputId": "b3030f48-85de-482a-88fc-88e4444636ea"
      },
      "execution_count": null,
      "outputs": [
        {
          "output_type": "display_data",
          "data": {
            "text/plain": [
              "<Figure size 640x480 with 1 Axes>"
            ],
            "image/png": "[encoded data removed]"
          },
          "metadata": {}
        },
        {
          "output_type": "display_data",
          "data": {
            "text/plain": [
              "<Figure size 640x480 with 1 Axes>"
            ],
            "image/png": "[encoded data removed]"
          },
          "metadata": {}
        }
      ]
    }
  ]
}